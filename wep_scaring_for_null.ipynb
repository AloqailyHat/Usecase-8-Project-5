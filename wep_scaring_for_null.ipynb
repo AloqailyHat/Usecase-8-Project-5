{
 "cells": [
  {
   "cell_type": "code",
   "execution_count": 1,
   "id": "67cac9ef-f530-4501-9c81-39f6889760b0",
   "metadata": {},
   "outputs": [],
   "source": [
    "import pandas as pd"
   ]
  },
  {
   "cell_type": "code",
   "execution_count": 2,
   "id": "c1ab83f5-2953-4a10-ae1d-203298d47ec6",
   "metadata": {},
   "outputs": [],
   "source": [
    "#Read CSV file\n",
    "df = pd.read_csv(r\"C:\\Users\\foooo\\Desktop\\Gaming_scrapping\\100\\file\\null.csv\")"
   ]
  },
  {
   "cell_type": "code",
   "execution_count": 3,
   "id": "20e0e98b-1300-466a-b6f1-c12e7581d3e2",
   "metadata": {},
   "outputs": [
    {
     "data": {
      "text/plain": [
       "(4767, 13)"
      ]
     },
     "execution_count": 3,
     "metadata": {},
     "output_type": "execute_result"
    }
   ],
   "source": [
    "df.shape"
   ]
  },
  {
   "cell_type": "code",
   "execution_count": 4,
   "id": "07be707e-6783-4673-8137-732c0da518bd",
   "metadata": {},
   "outputs": [],
   "source": [
    "#df = df.iloc[3178:4768]"
   ]
  },
  {
   "cell_type": "code",
   "execution_count": 5,
   "id": "7350a326-6e00-42d9-a0fb-dc06fa94de64",
   "metadata": {},
   "outputs": [],
   "source": [
    "# drop the columns will make duplcated in columns after fill null\n",
    "df.drop(columns=['OS','Processor','Memory','Graphics','DirectX','Storage','Additional Notes'],axis=1,inplace=True)"
   ]
  },
  {
   "cell_type": "code",
   "execution_count": 6,
   "id": "30de1d87-32ae-4bd6-ab1d-e4805555b2ab",
   "metadata": {},
   "outputs": [],
   "source": [
    "#df = df.head(10)"
   ]
  },
  {
   "cell_type": "code",
   "execution_count": 7,
   "id": "e5a1dd6f-b409-4c05-b082-743ea08492ba",
   "metadata": {},
   "outputs": [],
   "source": [
    "import requests\n",
    "from bs4 import BeautifulSoup"
   ]
  },
  {
   "cell_type": "code",
   "execution_count": null,
   "id": "2dd05f23-3cc3-46ec-959c-01d69f081563",
   "metadata": {},
   "outputs": [],
   "source": [
    "\n",
    "\n",
    "#creat list for data \n",
    "extracted_data = []\n",
    "\n",
    "for url in df['Links']:\n",
    "    try:\n",
    "        response = requests.get(url)\n",
    "        response.raise_for_status()  \n",
    "\n",
    "        soup = BeautifulSoup(response.text, 'html.parser')\n",
    "\n",
    "        full_text = soup.get_text(separator=\" \", strip=True) \n",
    "\n",
    "        extracted_data.append({'url': url, 'extracted_text': full_text})\n",
    "\n",
    "    except requests.exceptions.RequestException as e:\n",
    "        print(f\"Error fetching {url}: {e}\")\n",
    "        extracted_data.append({'url': url, 'extracted_text': 'Error'})\n",
    "\n",
    "extracted_df = pd.DataFrame(extracted_data)\n",
    "\n",
    "print(extracted_df.head())\n"
   ]
  },
  {
   "cell_type": "code",
   "execution_count": null,
   "id": "3937d4f0-c8f1-45d3-8c22-63c885b3a063",
   "metadata": {},
   "outputs": [],
   "source": [
    "extracted_df[['before_os', 'Requirements']] = extracted_df['extracted_text'].str.extract(r'(.*?)(?:OS \\*:)(.*)', expand=True)\n",
    "\n",
    "\n",
    "print(extracted_df)"
   ]
  },
  {
   "cell_type": "code",
   "execution_count": null,
   "id": "dd238a4d-f385-4657-95ce-d1bdc0a08f59",
   "metadata": {},
   "outputs": [],
   "source": [
    "import re"
   ]
  },
  {
   "cell_type": "code",
   "execution_count": null,
   "id": "a589930c-3668-4423-bbfe-2801e0bd9990",
   "metadata": {},
   "outputs": [],
   "source": [
    "def extract_system_requirements(text):\n",
    "    requirements = {\n",
    "        'OS': '', 'Processor': '', 'Memory': '', 'Graphics': '',\n",
    "        'DirectX': '', 'Storage': '', 'Additional Notes': ''\n",
    "    }\n",
    "    \n",
    "    # Find the system requirements section\n",
    "    match = re.search(r'(Minimum|Recommended):\\s*(.*?)(?=(Recommended:|$))', text, re.DOTALL)\n",
    "    if not match:\n",
    "        return requirements\n",
    "\n",
    "    req_text = match.group(2)\n",
    "    \n",
    "    # Extract each requirement\n",
    "    for key in requirements.keys():\n",
    "        pattern = rf'{key}:?\\s*(.*?)(?=(?:{\"|\".join(requirements.keys())})|$)'\n",
    "        match = re.search(pattern, req_text, re.IGNORECASE | re.DOTALL)\n",
    "        if match:\n",
    "            requirements[key] = match.group(1).strip()\n",
    "    \n",
    "    # If Additional Notes is empty, use any remaining text\n",
    "    if not requirements['Additional Notes']:\n",
    "        remaining = re.sub(r'.?Storage:.?\\n', '', req_text, flags=re.DOTALL).strip()\n",
    "        requirements['Additional Notes'] = remaining\n",
    "    \n",
    "    return requirements\n",
    "\n",
    "# Assuming your DataFrame is named df\n",
    "extracted_df[['OS', 'Processor', 'Memory', 'Graphics', 'DirectX', 'Storage', 'Additional Notes']] = extracted_df['extracted_text'].apply(lambda x: pd.Series(extract_system_requirements(x)))\n",
    "\n",
    "# Display the first few rows of the processed DataFrame\n",
    "print(extracted_df[['OS', 'Processor', 'Memory', 'Graphics', 'DirectX', 'Storage', 'Additional Notes']].head())\n",
    "\n"
   ]
  },
  {
   "cell_type": "code",
   "execution_count": null,
   "id": "6ea73917-9063-466a-b109-09e3cd08db73",
   "metadata": {},
   "outputs": [],
   "source": [
    "extracted_df"
   ]
  },
  {
   "cell_type": "code",
   "execution_count": null,
   "id": "bb269f9e-3c42-4c2b-a965-032aad3d421e",
   "metadata": {},
   "outputs": [],
   "source": [
    "extracted_df.to_csv('df_fix_null3.csv')"
   ]
  }
 ],
 "metadata": {
  "kernelspec": {
   "display_name": "Python 3 (ipykernel)",
   "language": "python",
   "name": "python3"
  },
  "language_info": {
   "codemirror_mode": {
    "name": "ipython",
    "version": 3
   },
   "file_extension": ".py",
   "mimetype": "text/x-python",
   "name": "python",
   "nbconvert_exporter": "python",
   "pygments_lexer": "ipython3",
   "version": "3.11.7"
  }
 },
 "nbformat": 4,
 "nbformat_minor": 5
}
