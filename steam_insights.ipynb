{
 "cells": [
  {
   "cell_type": "code",
   "execution_count": 51,
   "id": "730f6a75",
   "metadata": {},
   "outputs": [],
   "source": [
    "import pandas as pd\n",
    "import matplotlib.pyplot as plt\n",
    "import plotly.express as px\n",
    "import numpy as np\n",
    "import plotly.graph_objects as go\n"
   ]
  },
  {
   "cell_type": "code",
   "execution_count": 52,
   "id": "9019e160",
   "metadata": {},
   "outputs": [],
   "source": [
    "df_steam = pd.read_csv('final_cleaned_data_steam2.csv')\n"
   ]
  },
  {
   "cell_type": "code",
   "execution_count": 53,
   "id": "b059db7e",
   "metadata": {},
   "outputs": [
    {
     "data": {
      "text/html": [
       "<div>\n",
       "<style scoped>\n",
       "    .dataframe tbody tr th:only-of-type {\n",
       "        vertical-align: middle;\n",
       "    }\n",
       "\n",
       "    .dataframe tbody tr th {\n",
       "        vertical-align: top;\n",
       "    }\n",
       "\n",
       "    .dataframe thead th {\n",
       "        text-align: right;\n",
       "    }\n",
       "</style>\n",
       "<table border=\"1\" class=\"dataframe\">\n",
       "  <thead>\n",
       "    <tr style=\"text-align: right;\">\n",
       "      <th></th>\n",
       "      <th>Unnamed: 0</th>\n",
       "      <th>Game Names</th>\n",
       "      <th>Price</th>\n",
       "      <th>Processor_main</th>\n",
       "      <th>Memory</th>\n",
       "      <th>Graphics</th>\n",
       "      <th>Storage</th>\n",
       "      <th>years</th>\n",
       "    </tr>\n",
       "  </thead>\n",
       "  <tbody>\n",
       "    <tr>\n",
       "      <th>0</th>\n",
       "      <td>0</td>\n",
       "      <td>Kingdom Rush Origins  Tower Defense</td>\n",
       "      <td>Your Price:248.95 SR</td>\n",
       "      <td>Dual Core CPU</td>\n",
       "      <td>1 GB RAM</td>\n",
       "      <td>OpenGL 3.0 compliant with 512MB of video RAM.</td>\n",
       "      <td>500 MB</td>\n",
       "      <td>2018</td>\n",
       "    </tr>\n",
       "    <tr>\n",
       "      <th>1</th>\n",
       "      <td>1</td>\n",
       "      <td>War Thunder  Su39 Pack</td>\n",
       "      <td>No Price</td>\n",
       "      <td>2,2 GHz</td>\n",
       "      <td>1 GB RAM</td>\n",
       "      <td>Nvidia GeForce 6XXX series or higher; AMD Rade...</td>\n",
       "      <td>2 GB</td>\n",
       "      <td>2023</td>\n",
       "    </tr>\n",
       "    <tr>\n",
       "      <th>2</th>\n",
       "      <td>2</td>\n",
       "      <td>The Battle of Polytopia</td>\n",
       "      <td>79.04 SR</td>\n",
       "      <td>Dual Core 2.0 Ghz</td>\n",
       "      <td>1 GB RAM</td>\n",
       "      <td>128mb Video</td>\n",
       "      <td>160 MB</td>\n",
       "      <td>2020</td>\n",
       "    </tr>\n",
       "    <tr>\n",
       "      <th>3</th>\n",
       "      <td>3</td>\n",
       "      <td>The Riftbreaker Heart of the Swamp</td>\n",
       "      <td>Your Price:106.00 SR</td>\n",
       "      <td>Intel i5 gen 2 or AMD Bulldozer {4 cores)</td>\n",
       "      <td>8 GB RAM</td>\n",
       "      <td>Nvidia GTX 750 2GB or AMD R7 265 2GB</td>\n",
       "      <td>12 GB</td>\n",
       "      <td>2024</td>\n",
       "    </tr>\n",
       "    <tr>\n",
       "      <th>4</th>\n",
       "      <td>4</td>\n",
       "      <td>Soulash</td>\n",
       "      <td>Your Price:62.00 SR</td>\n",
       "      <td>2 cores</td>\n",
       "      <td>500 MB RAM</td>\n",
       "      <td>OpenGL</td>\n",
       "      <td>400 MB</td>\n",
       "      <td>2022</td>\n",
       "    </tr>\n",
       "  </tbody>\n",
       "</table>\n",
       "</div>"
      ],
      "text/plain": [
       "   Unnamed: 0                           Game Names                 Price  \\\n",
       "0           0  Kingdom Rush Origins  Tower Defense  Your Price:248.95 SR   \n",
       "1           1               War Thunder  Su39 Pack              No Price   \n",
       "2           2              The Battle of Polytopia              79.04 SR   \n",
       "3           3   The Riftbreaker Heart of the Swamp  Your Price:106.00 SR   \n",
       "4           4                              Soulash   Your Price:62.00 SR   \n",
       "\n",
       "                              Processor_main      Memory  \\\n",
       "0                              Dual Core CPU    1 GB RAM   \n",
       "1                                    2,2 GHz    1 GB RAM   \n",
       "2                          Dual Core 2.0 Ghz    1 GB RAM   \n",
       "3  Intel i5 gen 2 or AMD Bulldozer {4 cores)    8 GB RAM   \n",
       "4                                    2 cores  500 MB RAM   \n",
       "\n",
       "                                            Graphics Storage  years  \n",
       "0      OpenGL 3.0 compliant with 512MB of video RAM.  500 MB   2018  \n",
       "1  Nvidia GeForce 6XXX series or higher; AMD Rade...    2 GB   2023  \n",
       "2                                        128mb Video  160 MB   2020  \n",
       "3               Nvidia GTX 750 2GB or AMD R7 265 2GB   12 GB   2024  \n",
       "4                                             OpenGL  400 MB   2022  "
      ]
     },
     "execution_count": 53,
     "metadata": {},
     "output_type": "execute_result"
    }
   ],
   "source": [
    "df_steam.head()"
   ]
  },
  {
   "cell_type": "code",
   "execution_count": 54,
   "id": "f8cff9d1",
   "metadata": {},
   "outputs": [
    {
     "data": {
      "text/plain": [
       "Unnamed: 0         int64\n",
       "Game Names        object\n",
       "Price             object\n",
       "Processor_main    object\n",
       "Memory            object\n",
       "Graphics          object\n",
       "Storage           object\n",
       "years             object\n",
       "dtype: object"
      ]
     },
     "execution_count": 54,
     "metadata": {},
     "output_type": "execute_result"
    }
   ],
   "source": [
    "df_steam.dtypes"
   ]
  },
  {
   "cell_type": "code",
   "execution_count": 55,
   "id": "0b15ce7f",
   "metadata": {},
   "outputs": [
    {
     "data": {
      "text/html": [
       "<div>\n",
       "<style scoped>\n",
       "    .dataframe tbody tr th:only-of-type {\n",
       "        vertical-align: middle;\n",
       "    }\n",
       "\n",
       "    .dataframe tbody tr th {\n",
       "        vertical-align: top;\n",
       "    }\n",
       "\n",
       "    .dataframe thead th {\n",
       "        text-align: right;\n",
       "    }\n",
       "</style>\n",
       "<table border=\"1\" class=\"dataframe\">\n",
       "  <thead>\n",
       "    <tr style=\"text-align: right;\">\n",
       "      <th></th>\n",
       "      <th>Unnamed: 0</th>\n",
       "      <th>Game Names</th>\n",
       "      <th>Price</th>\n",
       "      <th>Processor_main</th>\n",
       "      <th>Memory</th>\n",
       "      <th>Graphics</th>\n",
       "      <th>Storage</th>\n",
       "      <th>years</th>\n",
       "    </tr>\n",
       "  </thead>\n",
       "  <tbody>\n",
       "    <tr>\n",
       "      <th>30</th>\n",
       "      <td>31</td>\n",
       "      <td>Phoenix Point</td>\n",
       "      <td>Your Price:56.64 SR</td>\n",
       "      <td>Intel Core i3 / AMD Phenom II X4</td>\n",
       "      <td>8 GB RAM</td>\n",
       "      <td>Nvidia GeForce GTX 950 / AMD Radeon R9 270x</td>\n",
       "      <td>30 GB</td>\n",
       "      <td>2020</td>\n",
       "    </tr>\n",
       "    <tr>\n",
       "      <th>31</th>\n",
       "      <td>32</td>\n",
       "      <td>Borderlands 2 Ultimate Vault Hunter Upgrade Pa...</td>\n",
       "      <td>No Price</td>\n",
       "      <td>2.4 GHz Dual Core</td>\n",
       "      <td>2 GB RAM</td>\n",
       "      <td>NVIDIA GeForce 8500 /ATI Radeon HD 2600</td>\n",
       "      <td>13 GB</td>\n",
       "      <td>No Release Date</td>\n",
       "    </tr>\n",
       "    <tr>\n",
       "      <th>32</th>\n",
       "      <td>33</td>\n",
       "      <td>A Difficult Game About Climbing</td>\n",
       "      <td>No Price</td>\n",
       "      <td>Core 2 Duo</td>\n",
       "      <td>2 GB RAM</td>\n",
       "      <td>Intel HD</td>\n",
       "      <td>1 GB</td>\n",
       "      <td>2024</td>\n",
       "    </tr>\n",
       "    <tr>\n",
       "      <th>33</th>\n",
       "      <td>34</td>\n",
       "      <td>Tropico 6  Tropican Shores</td>\n",
       "      <td>No Price</td>\n",
       "      <td>Intel Core i5-6400 or AMD Ryzen 3 1200 or similar</td>\n",
       "      <td>8 GB RAM</td>\n",
       "      <td>AMD/NVIDIA dedicated GPU, 2GB dedicated VRAM (...</td>\n",
       "      <td>16 GB</td>\n",
       "      <td>No Release Date</td>\n",
       "    </tr>\n",
       "    <tr>\n",
       "      <th>34</th>\n",
       "      <td>35</td>\n",
       "      <td>NoLimits 2 Roller Coaster Simulation</td>\n",
       "      <td>No Price</td>\n",
       "      <td>2.4 GHz Dual Core</td>\n",
       "      <td>4 GB RAM</td>\n",
       "      <td>NVIDIA GeForce GTX 460 or AMD Radeon HD 5770 /...</td>\n",
       "      <td>2 GB</td>\n",
       "      <td>2014</td>\n",
       "    </tr>\n",
       "    <tr>\n",
       "      <th>35</th>\n",
       "      <td>36</td>\n",
       "      <td>The Political Machine 2024</td>\n",
       "      <td>No Price</td>\n",
       "      <td>Intel Core2 Duo or better</td>\n",
       "      <td>4 GB RAM</td>\n",
       "      <td>Nvidia GeForce 650 / Radeon HD 3600 or better</td>\n",
       "      <td>500 MB</td>\n",
       "      <td>2024</td>\n",
       "    </tr>\n",
       "    <tr>\n",
       "      <th>36</th>\n",
       "      <td>37</td>\n",
       "      <td>Coin Factory</td>\n",
       "      <td>No Price</td>\n",
       "      <td>Intel® Core™ i3 @ 3.2 GHZ</td>\n",
       "      <td>4 GB RAM</td>\n",
       "      <td>Graphics card with DX9</td>\n",
       "      <td>200 MB</td>\n",
       "      <td>2024</td>\n",
       "    </tr>\n",
       "    <tr>\n",
       "      <th>37</th>\n",
       "      <td>39</td>\n",
       "      <td>Combat Mission Battle for Normandy  Commonweal...</td>\n",
       "      <td>28.78 SR</td>\n",
       "      <td>Pentium IV 1.8 Ghz or equivalent speed AMD</td>\n",
       "      <td>4 GB RAM</td>\n",
       "      <td>256 MB VRAM or better and must support 1024x76...</td>\n",
       "      <td>20 GB</td>\n",
       "      <td>2023</td>\n",
       "    </tr>\n",
       "    <tr>\n",
       "      <th>38</th>\n",
       "      <td>40</td>\n",
       "      <td>The Black Grimoire Cursebreaker</td>\n",
       "      <td>No Price</td>\n",
       "      <td>2.0 GHz Dual Core</td>\n",
       "      <td>8 GB RAM</td>\n",
       "      <td>GTX 550 Ti or better</td>\n",
       "      <td>4 GB</td>\n",
       "      <td>2023</td>\n",
       "    </tr>\n",
       "    <tr>\n",
       "      <th>39</th>\n",
       "      <td>41</td>\n",
       "      <td>Rayman Legends</td>\n",
       "      <td>Your Price:144.51 SR</td>\n",
       "      <td>Intel Pentium IV @ 3.0 GHz or AMD Athlon64 300...</td>\n",
       "      <td>2 GB RAM</td>\n",
       "      <td>nVidia GeForce 6800GT or AMD Radeon X1950 Pro ...</td>\n",
       "      <td>6 GB</td>\n",
       "      <td>2013</td>\n",
       "    </tr>\n",
       "    <tr>\n",
       "      <th>40</th>\n",
       "      <td>42</td>\n",
       "      <td>Remnant Resistance Pack</td>\n",
       "      <td>No Price</td>\n",
       "      <td>Intel Core i3-2100 or AMD equivalent</td>\n",
       "      <td>6 GB RAM</td>\n",
       "      <td>NVIDIA GTX 650 2GB or AMD HD7770 2GB</td>\n",
       "      <td>25 GB</td>\n",
       "      <td>No Release Date</td>\n",
       "    </tr>\n",
       "    <tr>\n",
       "      <th>41</th>\n",
       "      <td>44</td>\n",
       "      <td>Empire of Sin</td>\n",
       "      <td>No Price</td>\n",
       "      <td>Intel® Core™  i3-530 or AMD® Phenom™ II X3 720</td>\n",
       "      <td>4 GB RAM</td>\n",
       "      <td>Nvidia® GeForce™ GTX 460 (1GB) or AMD® Radeon™...</td>\n",
       "      <td>10 GB</td>\n",
       "      <td>No Release Date</td>\n",
       "    </tr>\n",
       "    <tr>\n",
       "      <th>42</th>\n",
       "      <td>45</td>\n",
       "      <td>Hadean Tactics</td>\n",
       "      <td>24.57 SR</td>\n",
       "      <td>Dual core from Intel or AMD at 2.8 GHz</td>\n",
       "      <td>4 GB RAM</td>\n",
       "      <td>nVidia GeForce 8600/9600GT, ATI/AMD Radeon HD2...</td>\n",
       "      <td>4 GB</td>\n",
       "      <td>2023</td>\n",
       "    </tr>\n",
       "    <tr>\n",
       "      <th>43</th>\n",
       "      <td>46</td>\n",
       "      <td>War Thunder  Leopard 2A4M CAN Pack</td>\n",
       "      <td>No Price</td>\n",
       "      <td>2,2 GHz</td>\n",
       "      <td>1 GB RAM</td>\n",
       "      <td>Nvidia GeForce 6XXX series or higher; AMD Rade...</td>\n",
       "      <td>2 GB</td>\n",
       "      <td>2024</td>\n",
       "    </tr>\n",
       "    <tr>\n",
       "      <th>44</th>\n",
       "      <td>47</td>\n",
       "      <td>Felvidek</td>\n",
       "      <td>No Price</td>\n",
       "      <td>2.0 GHz or faster</td>\n",
       "      <td>512 MB RAM</td>\n",
       "      <td>1024 x 768 or higher resolution</td>\n",
       "      <td>700 MB</td>\n",
       "      <td>2024</td>\n",
       "    </tr>\n",
       "    <tr>\n",
       "      <th>45</th>\n",
       "      <td>48</td>\n",
       "      <td>Bloons TD Battles 2</td>\n",
       "      <td>No Price</td>\n",
       "      <td>1.5Ghz or better (x86-64)</td>\n",
       "      <td>2048 MB RAM</td>\n",
       "      <td>OpenGL 3.3 compatible, ATI, Nvidia or Intel HD...</td>\n",
       "      <td>1536 MB</td>\n",
       "      <td>2021</td>\n",
       "    </tr>\n",
       "    <tr>\n",
       "      <th>46</th>\n",
       "      <td>49</td>\n",
       "      <td>Warframe Dante Chronicles Pack</td>\n",
       "      <td>No Price</td>\n",
       "      <td>Intel Core i7 860, Intel Core i5 750, or AMD F...</td>\n",
       "      <td>4 GB RAM</td>\n",
       "      <td>Card</td>\n",
       "      <td>50 GB</td>\n",
       "      <td>No Release Date</td>\n",
       "    </tr>\n",
       "    <tr>\n",
       "      <th>47</th>\n",
       "      <td>50</td>\n",
       "      <td>FINAL FANTASY III</td>\n",
       "      <td>Your Price:285.48 SR</td>\n",
       "      <td>AMD A8-7600 / Intel® Core™ i3-2105</td>\n",
       "      <td>4 GB RAM</td>\n",
       "      <td>AMD Radeon™ R7</td>\n",
       "      <td>1 GB</td>\n",
       "      <td>2021</td>\n",
       "    </tr>\n",
       "    <tr>\n",
       "      <th>48</th>\n",
       "      <td>51</td>\n",
       "      <td>JR EAST Train Simulator Tokaido Line Tokyo to ...</td>\n",
       "      <td>No Price</td>\n",
       "      <td>Intel i5 8400</td>\n",
       "      <td>16 GB RAM</td>\n",
       "      <td>NVIDIA GeForce GTX 10 series (VRAM 2GB)</td>\n",
       "      <td>25 GB</td>\n",
       "      <td>2022</td>\n",
       "    </tr>\n",
       "    <tr>\n",
       "      <th>49</th>\n",
       "      <td>52</td>\n",
       "      <td>DRAGON QUEST BUILDERS 2</td>\n",
       "      <td>Your Price:262.55 SR</td>\n",
       "      <td>Intel Quad Core i5-2300 or AMD FX-6300</td>\n",
       "      <td>6 GB RAM</td>\n",
       "      <td>AMD Radeon™ HD 7750 (2GB) / NVIDIA® GeForce® G...</td>\n",
       "      <td>12 GB</td>\n",
       "      <td>2019</td>\n",
       "    </tr>\n",
       "    <tr>\n",
       "      <th>50</th>\n",
       "      <td>53</td>\n",
       "      <td>Stolen Realm</td>\n",
       "      <td>No Price</td>\n",
       "      <td>Dual Core from Intel or AMD at 2.8 GHz</td>\n",
       "      <td>2 GB RAM</td>\n",
       "      <td>Intel HD 3000 * Starting January 1st, 2024, th...</td>\n",
       "      <td>2 GB</td>\n",
       "      <td>2024</td>\n",
       "    </tr>\n",
       "    <tr>\n",
       "      <th>51</th>\n",
       "      <td>54</td>\n",
       "      <td>Need for Speed Rivals</td>\n",
       "      <td>No Price</td>\n",
       "      <td>Intel 2.4 GHz Core 2 Duo or AMD 2.8 GHz Athlon X2</td>\n",
       "      <td>4 GB RAM</td>\n",
       "      <td>AMD Radeon 3870 512 MB or higher performance; ...</td>\n",
       "      <td>30 GB</td>\n",
       "      <td>2013</td>\n",
       "    </tr>\n",
       "    <tr>\n",
       "      <th>52</th>\n",
       "      <td>55</td>\n",
       "      <td>Carto</td>\n",
       "      <td>77.28 SR</td>\n",
       "      <td>Intel Core2 Duo or better</td>\n",
       "      <td>4 GB RAM</td>\n",
       "      <td>Geforce 9600 GS, Radeon HD 5670</td>\n",
       "      <td>2 GB</td>\n",
       "      <td>2020</td>\n",
       "    </tr>\n",
       "    <tr>\n",
       "      <th>53</th>\n",
       "      <td>56</td>\n",
       "      <td>Overcooked  The Lost Morsel</td>\n",
       "      <td>4.25 SR</td>\n",
       "      <td>Dual Core 2.4Ghz</td>\n",
       "      <td>2 GB RAM</td>\n",
       "      <td>GeForce 8800 GT / AMD HD 6850 / Intel HD</td>\n",
       "      <td>100 MB</td>\n",
       "      <td>2016</td>\n",
       "    </tr>\n",
       "    <tr>\n",
       "      <th>54</th>\n",
       "      <td>57</td>\n",
       "      <td>Life is Strange Before the Storm</td>\n",
       "      <td>No Price</td>\n",
       "      <td>Intel® Core™ 2 Duo 3.0Ghz</td>\n",
       "      <td>3 GB RAM</td>\n",
       "      <td>AMD Radeon R7 250 or NVIDIA Geforce GTX 650</td>\n",
       "      <td>14 GB</td>\n",
       "      <td>No Release Date</td>\n",
       "    </tr>\n",
       "    <tr>\n",
       "      <th>55</th>\n",
       "      <td>58</td>\n",
       "      <td>Worms Armageddon</td>\n",
       "      <td>Your Price:114.20 SR</td>\n",
       "      <td>Intel Core 2 Duo, AMD 64x2 or above</td>\n",
       "      <td>2 GB RAM</td>\n",
       "      <td>Nvidia GeForce 8600GT (256MB), AMD/ATI Radeon ...</td>\n",
       "      <td>10 GB</td>\n",
       "      <td>1999</td>\n",
       "    </tr>\n",
       "    <tr>\n",
       "      <th>56</th>\n",
       "      <td>59</td>\n",
       "      <td>ODDADA</td>\n",
       "      <td>No Price</td>\n",
       "      <td>Intel Pentium 4</td>\n",
       "      <td>4 GB RAM</td>\n",
       "      <td>1 GB VRAM</td>\n",
       "      <td>1 GB</td>\n",
       "      <td>2024</td>\n",
       "    </tr>\n",
       "    <tr>\n",
       "      <th>57</th>\n",
       "      <td>60</td>\n",
       "      <td>Call of Duty Modern Warfare II  Cosmic Travele...</td>\n",
       "      <td>No Price</td>\n",
       "      <td>Intel Core i5-6400 or AMD Ryzen 3 1200 or similar</td>\n",
       "      <td>8 GB RAM</td>\n",
       "      <td>NVIDIA® GeForce® GTX 960 / GTX 1650 or AMD Rad...</td>\n",
       "      <td>30 GB</td>\n",
       "      <td>No Release Date</td>\n",
       "    </tr>\n",
       "    <tr>\n",
       "      <th>58</th>\n",
       "      <td>61</td>\n",
       "      <td>FINAL FANTASY XIII</td>\n",
       "      <td>No Price</td>\n",
       "      <td>2GHz Dual Core CPU</td>\n",
       "      <td>1 GB RAM</td>\n",
       "      <td>NVIDIA® Geforce® 8 Series/ ATI Radeon™ HD 2000...</td>\n",
       "      <td>60 GB</td>\n",
       "      <td>No Release Date</td>\n",
       "    </tr>\n",
       "    <tr>\n",
       "      <th>59</th>\n",
       "      <td>62</td>\n",
       "      <td>Gloomwood</td>\n",
       "      <td>Your Price:83.19 SR</td>\n",
       "      <td>2.4 GHz Dual Core</td>\n",
       "      <td>4 GB RAM</td>\n",
       "      <td>GeForce GTX 660 Or Equivalent</td>\n",
       "      <td>1 GB</td>\n",
       "      <td>2022</td>\n",
       "    </tr>\n",
       "  </tbody>\n",
       "</table>\n",
       "</div>"
      ],
      "text/plain": [
       "    Unnamed: 0                                         Game Names  \\\n",
       "30          31                                      Phoenix Point   \n",
       "31          32  Borderlands 2 Ultimate Vault Hunter Upgrade Pa...   \n",
       "32          33                    A Difficult Game About Climbing   \n",
       "33          34                         Tropico 6  Tropican Shores   \n",
       "34          35               NoLimits 2 Roller Coaster Simulation   \n",
       "35          36                         The Political Machine 2024   \n",
       "36          37                                       Coin Factory   \n",
       "37          39  Combat Mission Battle for Normandy  Commonweal...   \n",
       "38          40                    The Black Grimoire Cursebreaker   \n",
       "39          41                                     Rayman Legends   \n",
       "40          42                            Remnant Resistance Pack   \n",
       "41          44                                      Empire of Sin   \n",
       "42          45                                     Hadean Tactics   \n",
       "43          46                 War Thunder  Leopard 2A4M CAN Pack   \n",
       "44          47                                           Felvidek   \n",
       "45          48                                Bloons TD Battles 2   \n",
       "46          49                     Warframe Dante Chronicles Pack   \n",
       "47          50                                  FINAL FANTASY III   \n",
       "48          51  JR EAST Train Simulator Tokaido Line Tokyo to ...   \n",
       "49          52                            DRAGON QUEST BUILDERS 2   \n",
       "50          53                                       Stolen Realm   \n",
       "51          54                              Need for Speed Rivals   \n",
       "52          55                                              Carto   \n",
       "53          56                        Overcooked  The Lost Morsel   \n",
       "54          57                   Life is Strange Before the Storm   \n",
       "55          58                                   Worms Armageddon   \n",
       "56          59                                             ODDADA   \n",
       "57          60  Call of Duty Modern Warfare II  Cosmic Travele...   \n",
       "58          61                                 FINAL FANTASY XIII   \n",
       "59          62                                          Gloomwood   \n",
       "\n",
       "                   Price                                     Processor_main  \\\n",
       "30   Your Price:56.64 SR                   Intel Core i3 / AMD Phenom II X4   \n",
       "31              No Price                                  2.4 GHz Dual Core   \n",
       "32              No Price                                         Core 2 Duo   \n",
       "33              No Price  Intel Core i5-6400 or AMD Ryzen 3 1200 or similar   \n",
       "34              No Price                                  2.4 GHz Dual Core   \n",
       "35              No Price                          Intel Core2 Duo or better   \n",
       "36              No Price                          Intel® Core™ i3 @ 3.2 GHZ   \n",
       "37              28.78 SR         Pentium IV 1.8 Ghz or equivalent speed AMD   \n",
       "38              No Price                                  2.0 GHz Dual Core   \n",
       "39  Your Price:144.51 SR  Intel Pentium IV @ 3.0 GHz or AMD Athlon64 300...   \n",
       "40              No Price               Intel Core i3-2100 or AMD equivalent   \n",
       "41              No Price     Intel® Core™  i3-530 or AMD® Phenom™ II X3 720   \n",
       "42              24.57 SR             Dual core from Intel or AMD at 2.8 GHz   \n",
       "43              No Price                                            2,2 GHz   \n",
       "44              No Price                                  2.0 GHz or faster   \n",
       "45              No Price                          1.5Ghz or better (x86-64)   \n",
       "46              No Price  Intel Core i7 860, Intel Core i5 750, or AMD F...   \n",
       "47  Your Price:285.48 SR                 AMD A8-7600 / Intel® Core™ i3-2105   \n",
       "48              No Price                                      Intel i5 8400   \n",
       "49  Your Price:262.55 SR             Intel Quad Core i5-2300 or AMD FX-6300   \n",
       "50              No Price             Dual Core from Intel or AMD at 2.8 GHz   \n",
       "51              No Price  Intel 2.4 GHz Core 2 Duo or AMD 2.8 GHz Athlon X2   \n",
       "52              77.28 SR                          Intel Core2 Duo or better   \n",
       "53               4.25 SR                                   Dual Core 2.4Ghz   \n",
       "54              No Price                          Intel® Core™ 2 Duo 3.0Ghz   \n",
       "55  Your Price:114.20 SR                Intel Core 2 Duo, AMD 64x2 or above   \n",
       "56              No Price                                    Intel Pentium 4   \n",
       "57              No Price  Intel Core i5-6400 or AMD Ryzen 3 1200 or similar   \n",
       "58              No Price                                 2GHz Dual Core CPU   \n",
       "59   Your Price:83.19 SR                                  2.4 GHz Dual Core   \n",
       "\n",
       "         Memory                                           Graphics  Storage  \\\n",
       "30     8 GB RAM        Nvidia GeForce GTX 950 / AMD Radeon R9 270x    30 GB   \n",
       "31     2 GB RAM            NVIDIA GeForce 8500 /ATI Radeon HD 2600    13 GB   \n",
       "32     2 GB RAM                                           Intel HD     1 GB   \n",
       "33     8 GB RAM  AMD/NVIDIA dedicated GPU, 2GB dedicated VRAM (...    16 GB   \n",
       "34     4 GB RAM  NVIDIA GeForce GTX 460 or AMD Radeon HD 5770 /...     2 GB   \n",
       "35     4 GB RAM      Nvidia GeForce 650 / Radeon HD 3600 or better   500 MB   \n",
       "36     4 GB RAM                             Graphics card with DX9   200 MB   \n",
       "37     4 GB RAM  256 MB VRAM or better and must support 1024x76...    20 GB   \n",
       "38     8 GB RAM                               GTX 550 Ti or better     4 GB   \n",
       "39     2 GB RAM  nVidia GeForce 6800GT or AMD Radeon X1950 Pro ...     6 GB   \n",
       "40     6 GB RAM               NVIDIA GTX 650 2GB or AMD HD7770 2GB    25 GB   \n",
       "41     4 GB RAM  Nvidia® GeForce™ GTX 460 (1GB) or AMD® Radeon™...    10 GB   \n",
       "42     4 GB RAM  nVidia GeForce 8600/9600GT, ATI/AMD Radeon HD2...     4 GB   \n",
       "43     1 GB RAM  Nvidia GeForce 6XXX series or higher; AMD Rade...     2 GB   \n",
       "44   512 MB RAM                    1024 x 768 or higher resolution   700 MB   \n",
       "45  2048 MB RAM  OpenGL 3.3 compatible, ATI, Nvidia or Intel HD...  1536 MB   \n",
       "46     4 GB RAM                                               Card    50 GB   \n",
       "47     4 GB RAM                                     AMD Radeon™ R7     1 GB   \n",
       "48    16 GB RAM            NVIDIA GeForce GTX 10 series (VRAM 2GB)    25 GB   \n",
       "49     6 GB RAM  AMD Radeon™ HD 7750 (2GB) / NVIDIA® GeForce® G...    12 GB   \n",
       "50     2 GB RAM  Intel HD 3000 * Starting January 1st, 2024, th...     2 GB   \n",
       "51     4 GB RAM  AMD Radeon 3870 512 MB or higher performance; ...    30 GB   \n",
       "52     4 GB RAM                    Geforce 9600 GS, Radeon HD 5670     2 GB   \n",
       "53     2 GB RAM           GeForce 8800 GT / AMD HD 6850 / Intel HD   100 MB   \n",
       "54     3 GB RAM        AMD Radeon R7 250 or NVIDIA Geforce GTX 650    14 GB   \n",
       "55     2 GB RAM  Nvidia GeForce 8600GT (256MB), AMD/ATI Radeon ...    10 GB   \n",
       "56     4 GB RAM                                          1 GB VRAM     1 GB   \n",
       "57     8 GB RAM  NVIDIA® GeForce® GTX 960 / GTX 1650 or AMD Rad...    30 GB   \n",
       "58     1 GB RAM  NVIDIA® Geforce® 8 Series/ ATI Radeon™ HD 2000...    60 GB   \n",
       "59     4 GB RAM                      GeForce GTX 660 Or Equivalent     1 GB   \n",
       "\n",
       "              years  \n",
       "30             2020  \n",
       "31  No Release Date  \n",
       "32             2024  \n",
       "33  No Release Date  \n",
       "34             2014  \n",
       "35             2024  \n",
       "36             2024  \n",
       "37             2023  \n",
       "38             2023  \n",
       "39             2013  \n",
       "40  No Release Date  \n",
       "41  No Release Date  \n",
       "42             2023  \n",
       "43             2024  \n",
       "44             2024  \n",
       "45             2021  \n",
       "46  No Release Date  \n",
       "47             2021  \n",
       "48             2022  \n",
       "49             2019  \n",
       "50             2024  \n",
       "51             2013  \n",
       "52             2020  \n",
       "53             2016  \n",
       "54  No Release Date  \n",
       "55             1999  \n",
       "56             2024  \n",
       "57  No Release Date  \n",
       "58  No Release Date  \n",
       "59             2022  "
      ]
     },
     "execution_count": 55,
     "metadata": {},
     "output_type": "execute_result"
    }
   ],
   "source": [
    "df_steam[30:60]"
   ]
  },
  {
   "cell_type": "markdown",
   "id": "5e8d9114",
   "metadata": {},
   "source": [
    "### insight 1:\n",
    "#### 1/ The production of games is steadily increasing, making the current trend notably upward. \n"
   ]
  },
  {
   "cell_type": "code",
   "execution_count": 56,
   "id": "585e17c7",
   "metadata": {},
   "outputs": [],
   "source": [
    "# insight 1:\n",
    "# 1/ The production of games is steadily increasing, making the current trend notably upward. \n",
    "\n",
    "df_steam['years'].replace(\"No Release Date\", '0', inplace=True)"
   ]
  },
  {
   "cell_type": "code",
   "execution_count": 57,
   "id": "57d82f96",
   "metadata": {},
   "outputs": [
    {
     "data": {
      "text/html": [
       "<div>\n",
       "<style scoped>\n",
       "    .dataframe tbody tr th:only-of-type {\n",
       "        vertical-align: middle;\n",
       "    }\n",
       "\n",
       "    .dataframe tbody tr th {\n",
       "        vertical-align: top;\n",
       "    }\n",
       "\n",
       "    .dataframe thead th {\n",
       "        text-align: right;\n",
       "    }\n",
       "</style>\n",
       "<table border=\"1\" class=\"dataframe\">\n",
       "  <thead>\n",
       "    <tr style=\"text-align: right;\">\n",
       "      <th></th>\n",
       "      <th>Unnamed: 0</th>\n",
       "      <th>Game Names</th>\n",
       "      <th>Price</th>\n",
       "      <th>Processor_main</th>\n",
       "      <th>Memory</th>\n",
       "      <th>Graphics</th>\n",
       "      <th>Storage</th>\n",
       "      <th>years</th>\n",
       "    </tr>\n",
       "  </thead>\n",
       "  <tbody>\n",
       "  </tbody>\n",
       "</table>\n",
       "</div>"
      ],
      "text/plain": [
       "Empty DataFrame\n",
       "Columns: [Unnamed: 0, Game Names, Price, Processor_main, Memory, Graphics, Storage, years]\n",
       "Index: []"
      ]
     },
     "execution_count": 57,
     "metadata": {},
     "output_type": "execute_result"
    }
   ],
   "source": [
    "df_steam[df_steam['years'] == \"No Release Date\"]"
   ]
  },
  {
   "cell_type": "code",
   "execution_count": 58,
   "id": "6be20601",
   "metadata": {},
   "outputs": [
    {
     "data": {
      "text/plain": [
       "Unnamed: 0         int64\n",
       "Game Names        object\n",
       "Price             object\n",
       "Processor_main    object\n",
       "Memory            object\n",
       "Graphics          object\n",
       "Storage           object\n",
       "years             object\n",
       "dtype: object"
      ]
     },
     "execution_count": 58,
     "metadata": {},
     "output_type": "execute_result"
    }
   ],
   "source": [
    "df_steam.dtypes"
   ]
  },
  {
   "cell_type": "code",
   "execution_count": 59,
   "id": "b58305dd",
   "metadata": {},
   "outputs": [],
   "source": [
    "#df_steam['years'] = df_steam['years'].astype(int)"
   ]
  },
  {
   "cell_type": "code",
   "execution_count": 60,
   "id": "76a30f1d",
   "metadata": {},
   "outputs": [
    {
     "data": {
      "text/plain": [
       "Unnamed: 0         int64\n",
       "Game Names        object\n",
       "Price             object\n",
       "Processor_main    object\n",
       "Memory            object\n",
       "Graphics          object\n",
       "Storage           object\n",
       "years             object\n",
       "dtype: object"
      ]
     },
     "execution_count": 60,
     "metadata": {},
     "output_type": "execute_result"
    }
   ],
   "source": [
    "df_steam.dtypes"
   ]
  },
  {
   "cell_type": "code",
   "execution_count": 61,
   "id": "b4e01310",
   "metadata": {},
   "outputs": [
    {
     "data": {
      "text/plain": [
       "array([' 2018', ' 2023', ' 2020', ' 2024', ' 2022', ' 2016', ' 2021', '0',\n",
       "       ' 2019', ' 2015', ' 2017', ' 1999', ' 2014', ' 2013', ' 2012',\n",
       "       ' 2009', 'Q4 2024', ' 2010', ' 2008', ' 1998', ' 2011', ' 2007',\n",
       "       ' 2005', ' 2004', ' 2001', ' 1996', 'Nov 2018', ' 2003', ' 1995',\n",
       "       ' 2006', ' 2002', 'Dec 2016', ' 1994', ' 1993', ' 1997', ' 1988',\n",
       "       'Nov 2020', 'Apr 2019', 'Mar 2021', ' 2025', 'Q1 2025', 'Oct 2020',\n",
       "       ' 2000', 'Apr 2022'], dtype=object)"
      ]
     },
     "execution_count": 61,
     "metadata": {},
     "output_type": "execute_result"
    }
   ],
   "source": [
    "df_steam['years'].unique()\n",
    "\n",
    "# Q4 2024\n",
    "# Nov 2018\n",
    "# Dec 2016\n",
    "# Oct 2020\n",
    "# Q1 2025\n",
    "# Mar 2021\n",
    "# Apr 2019\n",
    "# Nov 2020\n",
    "# Apr 2022"
   ]
  },
  {
   "cell_type": "code",
   "execution_count": 62,
   "id": "a0152796",
   "metadata": {},
   "outputs": [
    {
     "data": {
      "text/html": [
       "<div>\n",
       "<style scoped>\n",
       "    .dataframe tbody tr th:only-of-type {\n",
       "        vertical-align: middle;\n",
       "    }\n",
       "\n",
       "    .dataframe tbody tr th {\n",
       "        vertical-align: top;\n",
       "    }\n",
       "\n",
       "    .dataframe thead th {\n",
       "        text-align: right;\n",
       "    }\n",
       "</style>\n",
       "<table border=\"1\" class=\"dataframe\">\n",
       "  <thead>\n",
       "    <tr style=\"text-align: right;\">\n",
       "      <th></th>\n",
       "      <th>Unnamed: 0</th>\n",
       "      <th>Game Names</th>\n",
       "      <th>Price</th>\n",
       "      <th>Processor_main</th>\n",
       "      <th>Memory</th>\n",
       "      <th>Graphics</th>\n",
       "      <th>Storage</th>\n",
       "      <th>years</th>\n",
       "    </tr>\n",
       "  </thead>\n",
       "  <tbody>\n",
       "    <tr>\n",
       "      <th>93</th>\n",
       "      <td>99</td>\n",
       "      <td>Millennia Atomic Ambitions</td>\n",
       "      <td>Your Price:93.71 SR</td>\n",
       "      <td>Intel Core i5-6400 or AMD Ryzen 3 1200 or similar</td>\n",
       "      <td>8 GB RAM</td>\n",
       "      <td>Nvidia® GeForce™ GTX 660 (2GB)  |  AMD® Radeon...</td>\n",
       "      <td>10 GB</td>\n",
       "      <td>Q4 2024</td>\n",
       "    </tr>\n",
       "    <tr>\n",
       "      <th>2116</th>\n",
       "      <td>2385</td>\n",
       "      <td>Crusader Kings III Wandering Nobles</td>\n",
       "      <td>Your Price:132.80 SR</td>\n",
       "      <td>Intel® Core™ i3-2120 / AMD® FX 6350</td>\n",
       "      <td>6 GB RAM</td>\n",
       "      <td>Nvidia® GeForce™ GTX 660 (2GB) / AMD® Radeon™ ...</td>\n",
       "      <td>8 GB</td>\n",
       "      <td>Q4 2024</td>\n",
       "    </tr>\n",
       "    <tr>\n",
       "      <th>2544</th>\n",
       "      <td>2865</td>\n",
       "      <td>Millennia Atomic Ambitions</td>\n",
       "      <td>Your Price:93.71 SR</td>\n",
       "      <td>Intel Core i5-6400 or AMD Ryzen 3 1200 or similar</td>\n",
       "      <td>8 GB RAM</td>\n",
       "      <td>Nvidia® GeForce™ GTX 660 (2GB)  |  AMD® Radeon...</td>\n",
       "      <td>10 GB</td>\n",
       "      <td>Q4 2024</td>\n",
       "    </tr>\n",
       "    <tr>\n",
       "      <th>5442</th>\n",
       "      <td>6015</td>\n",
       "      <td>Galactic Civilizations IV  Megastructures</td>\n",
       "      <td>97.35 SR</td>\n",
       "      <td>Quad-Core Processor (Intel Core i5 / AMD Ryzen...</td>\n",
       "      <td>8 GB RAM</td>\n",
       "      <td>1GB VRAM Video Card</td>\n",
       "      <td>22 GB</td>\n",
       "      <td>Q4 2024</td>\n",
       "    </tr>\n",
       "  </tbody>\n",
       "</table>\n",
       "</div>"
      ],
      "text/plain": [
       "      Unnamed: 0                                 Game Names  \\\n",
       "93            99                 Millennia Atomic Ambitions   \n",
       "2116        2385        Crusader Kings III Wandering Nobles   \n",
       "2544        2865                 Millennia Atomic Ambitions   \n",
       "5442        6015  Galactic Civilizations IV  Megastructures   \n",
       "\n",
       "                     Price                                     Processor_main  \\\n",
       "93     Your Price:93.71 SR  Intel Core i5-6400 or AMD Ryzen 3 1200 or similar   \n",
       "2116  Your Price:132.80 SR                Intel® Core™ i3-2120 / AMD® FX 6350   \n",
       "2544   Your Price:93.71 SR  Intel Core i5-6400 or AMD Ryzen 3 1200 or similar   \n",
       "5442              97.35 SR  Quad-Core Processor (Intel Core i5 / AMD Ryzen...   \n",
       "\n",
       "        Memory                                           Graphics Storage  \\\n",
       "93    8 GB RAM  Nvidia® GeForce™ GTX 660 (2GB)  |  AMD® Radeon...   10 GB   \n",
       "2116  6 GB RAM  Nvidia® GeForce™ GTX 660 (2GB) / AMD® Radeon™ ...    8 GB   \n",
       "2544  8 GB RAM  Nvidia® GeForce™ GTX 660 (2GB)  |  AMD® Radeon...   10 GB   \n",
       "5442  8 GB RAM                                1GB VRAM Video Card   22 GB   \n",
       "\n",
       "        years  \n",
       "93    Q4 2024  \n",
       "2116  Q4 2024  \n",
       "2544  Q4 2024  \n",
       "5442  Q4 2024  "
      ]
     },
     "execution_count": 62,
     "metadata": {},
     "output_type": "execute_result"
    }
   ],
   "source": [
    "df_steam[df_steam['years']=='Q4 2024']"
   ]
  },
  {
   "cell_type": "code",
   "execution_count": 63,
   "id": "bf45f0af",
   "metadata": {},
   "outputs": [],
   "source": [
    "# Q4 2024\n",
    "# Nov 2018\n",
    "# Dec 2016\n",
    "# Oct 2020\n",
    "# Q1 2025\n",
    "# Mar 2021\n",
    "# Apr 2019\n",
    "# Nov 2020\n",
    "# Apr 2022"
   ]
  },
  {
   "cell_type": "code",
   "execution_count": 64,
   "id": "adaf871b",
   "metadata": {},
   "outputs": [],
   "source": [
    "df_steam['years'] = df_steam['years'].str.replace(r'Q[1-4]\\s*', '', regex=True)\n",
    "df_steam['years'] = df_steam['years'].str.replace(r'(Jan|Feb|Mar|Apr|May|Jun|Jul|Aug|Sep|Oct|Nov|Dec)\\s*\\d{4}', '', regex=True)\n"
   ]
  },
  {
   "cell_type": "code",
   "execution_count": 65,
   "id": "605c9ab0",
   "metadata": {},
   "outputs": [],
   "source": [
    "df_steam['years'] = df_steam['years'].str.strip()\n"
   ]
  },
  {
   "cell_type": "code",
   "execution_count": 66,
   "id": "5db9637d",
   "metadata": {},
   "outputs": [],
   "source": [
    "df_steam['years'] = df_steam['years'].replace('', np.nan)\n"
   ]
  },
  {
   "cell_type": "code",
   "execution_count": 67,
   "id": "1f1f1836",
   "metadata": {},
   "outputs": [],
   "source": [
    "df_steam.isnull().sum()\n",
    "df_steam.dropna(inplace=True)"
   ]
  },
  {
   "cell_type": "code",
   "execution_count": 68,
   "id": "602be045",
   "metadata": {},
   "outputs": [],
   "source": [
    "df_steam['years'] = df_steam['years'].astype(int)"
   ]
  },
  {
   "cell_type": "code",
   "execution_count": null,
   "id": "7f6e55dc",
   "metadata": {},
   "outputs": [],
   "source": []
  },
  {
   "cell_type": "code",
   "execution_count": null,
   "id": "6d2576a9",
   "metadata": {},
   "outputs": [],
   "source": []
  },
  {
   "cell_type": "code",
   "execution_count": 69,
   "id": "b2257297",
   "metadata": {
    "scrolled": true
   },
   "outputs": [
    {
     "data": {
      "text/html": [
       "<div>\n",
       "<style scoped>\n",
       "    .dataframe tbody tr th:only-of-type {\n",
       "        vertical-align: middle;\n",
       "    }\n",
       "\n",
       "    .dataframe tbody tr th {\n",
       "        vertical-align: top;\n",
       "    }\n",
       "\n",
       "    .dataframe thead th {\n",
       "        text-align: right;\n",
       "    }\n",
       "</style>\n",
       "<table border=\"1\" class=\"dataframe\">\n",
       "  <thead>\n",
       "    <tr style=\"text-align: right;\">\n",
       "      <th></th>\n",
       "      <th>Unnamed: 0</th>\n",
       "      <th>Game Names</th>\n",
       "      <th>Price</th>\n",
       "      <th>Processor_main</th>\n",
       "      <th>Memory</th>\n",
       "      <th>Graphics</th>\n",
       "      <th>Storage</th>\n",
       "      <th>years</th>\n",
       "    </tr>\n",
       "  </thead>\n",
       "  <tbody>\n",
       "    <tr>\n",
       "      <th>9</th>\n",
       "      <td>10</td>\n",
       "      <td>Motor Town Behind The Wheel</td>\n",
       "      <td>No Price</td>\n",
       "      <td>Intel Core i5-4460 or AMD FX-8120</td>\n",
       "      <td>4 GB RAM</td>\n",
       "      <td>GeForce GTX 750 4GB, Radeon RX 460 4GB</td>\n",
       "      <td>5 GB</td>\n",
       "      <td>2021</td>\n",
       "    </tr>\n",
       "    <tr>\n",
       "      <th>20</th>\n",
       "      <td>21</td>\n",
       "      <td>SCUM Supporter Pack 2</td>\n",
       "      <td>Your Price:121.47 SR</td>\n",
       "      <td>Intel Core i5 / AMD FX-9590 or better</td>\n",
       "      <td>10 GB RAM</td>\n",
       "      <td>NVIDIA GeForce GTX 1060 3GB / AMD Radeon R7 37...</td>\n",
       "      <td>64 GB</td>\n",
       "      <td>2021</td>\n",
       "    </tr>\n",
       "    <tr>\n",
       "      <th>25</th>\n",
       "      <td>26</td>\n",
       "      <td>Lawn Mowing Simulator</td>\n",
       "      <td>Your Price:102.85 SR</td>\n",
       "      <td>Intel Core i5-6400 or AMD Ryzen 3 1200 or similar</td>\n",
       "      <td>8 GB RAM</td>\n",
       "      <td>Radeon R9 390X (8192 VRAM) or equivalent // Ge...</td>\n",
       "      <td>20 GB</td>\n",
       "      <td>2021</td>\n",
       "    </tr>\n",
       "    <tr>\n",
       "      <th>45</th>\n",
       "      <td>48</td>\n",
       "      <td>Bloons TD Battles 2</td>\n",
       "      <td>No Price</td>\n",
       "      <td>1.5Ghz or better (x86-64)</td>\n",
       "      <td>2048 MB RAM</td>\n",
       "      <td>OpenGL 3.3 compatible, ATI, Nvidia or Intel HD...</td>\n",
       "      <td>1536 MB</td>\n",
       "      <td>2021</td>\n",
       "    </tr>\n",
       "    <tr>\n",
       "      <th>47</th>\n",
       "      <td>50</td>\n",
       "      <td>FINAL FANTASY III</td>\n",
       "      <td>Your Price:285.48 SR</td>\n",
       "      <td>AMD A8-7600 / Intel® Core™ i3-2105</td>\n",
       "      <td>4 GB RAM</td>\n",
       "      <td>AMD Radeon™ R7</td>\n",
       "      <td>1 GB</td>\n",
       "      <td>2021</td>\n",
       "    </tr>\n",
       "    <tr>\n",
       "      <th>...</th>\n",
       "      <td>...</td>\n",
       "      <td>...</td>\n",
       "      <td>...</td>\n",
       "      <td>...</td>\n",
       "      <td>...</td>\n",
       "      <td>...</td>\n",
       "      <td>...</td>\n",
       "      <td>...</td>\n",
       "    </tr>\n",
       "    <tr>\n",
       "      <th>7794</th>\n",
       "      <td>8472</td>\n",
       "      <td>The Last Campfire</td>\n",
       "      <td>133.24 SR</td>\n",
       "      <td>Intel Core i5 1.8 GHz</td>\n",
       "      <td>4 GB RAM</td>\n",
       "      <td>NVIDIA GTX 480/AMD Radeon 7870</td>\n",
       "      <td>3 GB</td>\n",
       "      <td>2021</td>\n",
       "    </tr>\n",
       "    <tr>\n",
       "      <th>7810</th>\n",
       "      <td>8490</td>\n",
       "      <td>Wing of Darkness</td>\n",
       "      <td>9.39 SR</td>\n",
       "      <td>Quad-core Intel or AMD, 2.5 GHz or faster</td>\n",
       "      <td>8 GB RAM</td>\n",
       "      <td>DirectX 11 or DirectX 12 compatible graphics card</td>\n",
       "      <td>10 GB</td>\n",
       "      <td>2021</td>\n",
       "    </tr>\n",
       "    <tr>\n",
       "      <th>7821</th>\n",
       "      <td>8502</td>\n",
       "      <td>Hell Let Loose  Lethal Tide</td>\n",
       "      <td>155.99 SR</td>\n",
       "      <td>Intel Core i5-6600/AMD Ryzen 3 1300X</td>\n",
       "      <td>12 GB RAM</td>\n",
       "      <td>NVIDIA GeForce GTX 960 4GB/AMD Radeon R9 380 4GB</td>\n",
       "      <td>30 GB</td>\n",
       "      <td>2021</td>\n",
       "    </tr>\n",
       "    <tr>\n",
       "      <th>7837</th>\n",
       "      <td>8518</td>\n",
       "      <td>The Black Heart</td>\n",
       "      <td>15.74 SR</td>\n",
       "      <td>300 MHz Processor</td>\n",
       "      <td>512 MB RAM</td>\n",
       "      <td>1280 x 720 32 bits</td>\n",
       "      <td>500 MB</td>\n",
       "      <td>2021</td>\n",
       "    </tr>\n",
       "    <tr>\n",
       "      <th>7838</th>\n",
       "      <td>8519</td>\n",
       "      <td>Siege Survival Gloria Victis</td>\n",
       "      <td>118.80 SR</td>\n",
       "      <td>Intel Core i3 or AMD Athlon II X4 with at leas...</td>\n",
       "      <td>4 GB RAM</td>\n",
       "      <td>GeForce GT 740, Radeon HD 7750 - at least 1GB ...</td>\n",
       "      <td>10 GB</td>\n",
       "      <td>2021</td>\n",
       "    </tr>\n",
       "  </tbody>\n",
       "</table>\n",
       "<p>730 rows × 8 columns</p>\n",
       "</div>"
      ],
      "text/plain": [
       "      Unnamed: 0                    Game Names                 Price  \\\n",
       "9             10   Motor Town Behind The Wheel              No Price   \n",
       "20            21         SCUM Supporter Pack 2  Your Price:121.47 SR   \n",
       "25            26         Lawn Mowing Simulator  Your Price:102.85 SR   \n",
       "45            48           Bloons TD Battles 2              No Price   \n",
       "47            50             FINAL FANTASY III  Your Price:285.48 SR   \n",
       "...          ...                           ...                   ...   \n",
       "7794        8472             The Last Campfire             133.24 SR   \n",
       "7810        8490              Wing of Darkness               9.39 SR   \n",
       "7821        8502   Hell Let Loose  Lethal Tide             155.99 SR   \n",
       "7837        8518               The Black Heart              15.74 SR   \n",
       "7838        8519  Siege Survival Gloria Victis             118.80 SR   \n",
       "\n",
       "                                         Processor_main       Memory  \\\n",
       "9                     Intel Core i5-4460 or AMD FX-8120     4 GB RAM   \n",
       "20                Intel Core i5 / AMD FX-9590 or better    10 GB RAM   \n",
       "25    Intel Core i5-6400 or AMD Ryzen 3 1200 or similar     8 GB RAM   \n",
       "45                            1.5Ghz or better (x86-64)  2048 MB RAM   \n",
       "47                   AMD A8-7600 / Intel® Core™ i3-2105     4 GB RAM   \n",
       "...                                                 ...          ...   \n",
       "7794                              Intel Core i5 1.8 GHz     4 GB RAM   \n",
       "7810          Quad-core Intel or AMD, 2.5 GHz or faster     8 GB RAM   \n",
       "7821               Intel Core i5-6600/AMD Ryzen 3 1300X    12 GB RAM   \n",
       "7837                                  300 MHz Processor   512 MB RAM   \n",
       "7838  Intel Core i3 or AMD Athlon II X4 with at leas...     4 GB RAM   \n",
       "\n",
       "                                               Graphics  Storage  years  \n",
       "9                GeForce GTX 750 4GB, Radeon RX 460 4GB     5 GB   2021  \n",
       "20    NVIDIA GeForce GTX 1060 3GB / AMD Radeon R7 37...    64 GB   2021  \n",
       "25    Radeon R9 390X (8192 VRAM) or equivalent // Ge...    20 GB   2021  \n",
       "45    OpenGL 3.3 compatible, ATI, Nvidia or Intel HD...  1536 MB   2021  \n",
       "47                                       AMD Radeon™ R7     1 GB   2021  \n",
       "...                                                 ...      ...    ...  \n",
       "7794                     NVIDIA GTX 480/AMD Radeon 7870     3 GB   2021  \n",
       "7810  DirectX 11 or DirectX 12 compatible graphics card    10 GB   2021  \n",
       "7821   NVIDIA GeForce GTX 960 4GB/AMD Radeon R9 380 4GB    30 GB   2021  \n",
       "7837                                 1280 x 720 32 bits   500 MB   2021  \n",
       "7838  GeForce GT 740, Radeon HD 7750 - at least 1GB ...    10 GB   2021  \n",
       "\n",
       "[730 rows x 8 columns]"
      ]
     },
     "execution_count": 69,
     "metadata": {},
     "output_type": "execute_result"
    }
   ],
   "source": [
    "# 2024: 1567 games\n",
    "# 2023: 1289  games\n",
    "# 2022: 824 games\n",
    "# 2021: 8730 games\n",
    "\n",
    "df_steam[df_steam['years']==2021]\n"
   ]
  },
  {
   "cell_type": "code",
   "execution_count": 70,
   "id": "0fa104ea",
   "metadata": {},
   "outputs": [
    {
     "data": {
      "text/plain": [
       "Unnamed: 0         int64\n",
       "Game Names        object\n",
       "Price             object\n",
       "Processor_main    object\n",
       "Memory            object\n",
       "Graphics          object\n",
       "Storage           object\n",
       "years              int32\n",
       "dtype: object"
      ]
     },
     "execution_count": 70,
     "metadata": {},
     "output_type": "execute_result"
    }
   ],
   "source": [
    "df_steam.dtypes"
   ]
  },
  {
   "cell_type": "code",
   "execution_count": 71,
   "id": "70fbefe7",
   "metadata": {},
   "outputs": [],
   "source": [
    "df_games = df_steam['years'].value_counts().sum()"
   ]
  },
  {
   "cell_type": "code",
   "execution_count": 72,
   "id": "bd3de54a",
   "metadata": {},
   "outputs": [
    {
     "data": {
      "text/plain": [
       "years\n",
       "0        652\n",
       "1988       1\n",
       "1993       3\n",
       "1994       3\n",
       "1995       2\n",
       "1996       3\n",
       "1997       3\n",
       "1998       2\n",
       "1999      10\n",
       "2000       2\n",
       "2001       6\n",
       "2002       4\n",
       "2003       7\n",
       "2004       5\n",
       "2005       5\n",
       "2006      11\n",
       "2007       5\n",
       "2008      16\n",
       "2009      19\n",
       "2010      20\n",
       "2011      18\n",
       "2012      34\n",
       "2013      76\n",
       "2014     137\n",
       "2015     192\n",
       "2016     334\n",
       "2017     356\n",
       "2018     454\n",
       "2019     474\n",
       "2020     566\n",
       "2021     730\n",
       "2022     824\n",
       "2023    1289\n",
       "2024    1567\n",
       "2025       5\n",
       "dtype: int64"
      ]
     },
     "execution_count": 72,
     "metadata": {},
     "output_type": "execute_result"
    }
   ],
   "source": [
    "games_per_year = df_steam.groupby('years').size().sort_index(ascending=True)\n",
    "games_per_year"
   ]
  },
  {
   "cell_type": "code",
   "execution_count": 73,
   "id": "91cede60",
   "metadata": {},
   "outputs": [],
   "source": [
    "last_10_years = games_per_year.tail(10)"
   ]
  },
  {
   "cell_type": "code",
   "execution_count": 74,
   "id": "6d1fbce1",
   "metadata": {},
   "outputs": [
    {
     "data": {
      "application/vnd.plotly.v1+json": {
       "config": {
        "plotlyServerURL": "https://plot.ly"
       },
       "data": [
        {
         "marker": {
          "color": "#0000fe"
         },
         "type": "bar",
         "x": [
          2016,
          2017,
          2018,
          2019,
          2020,
          2021,
          2022,
          2023,
          2024,
          2025
         ],
         "y": [
          334,
          356,
          454,
          474,
          566,
          730,
          824,
          1289,
          1567,
          5
         ]
        }
       ],
       "layout": {
        "template": {
         "data": {
          "bar": [
           {
            "error_x": {
             "color": "#2a3f5f"
            },
            "error_y": {
             "color": "#2a3f5f"
            },
            "marker": {
             "line": {
              "color": "white",
              "width": 0.5
             },
             "pattern": {
              "fillmode": "overlay",
              "size": 10,
              "solidity": 0.2
             }
            },
            "type": "bar"
           }
          ],
          "barpolar": [
           {
            "marker": {
             "line": {
              "color": "white",
              "width": 0.5
             },
             "pattern": {
              "fillmode": "overlay",
              "size": 10,
              "solidity": 0.2
             }
            },
            "type": "barpolar"
           }
          ],
          "carpet": [
           {
            "aaxis": {
             "endlinecolor": "#2a3f5f",
             "gridcolor": "#C8D4E3",
             "linecolor": "#C8D4E3",
             "minorgridcolor": "#C8D4E3",
             "startlinecolor": "#2a3f5f"
            },
            "baxis": {
             "endlinecolor": "#2a3f5f",
             "gridcolor": "#C8D4E3",
             "linecolor": "#C8D4E3",
             "minorgridcolor": "#C8D4E3",
             "startlinecolor": "#2a3f5f"
            },
            "type": "carpet"
           }
          ],
          "choropleth": [
           {
            "colorbar": {
             "outlinewidth": 0,
             "ticks": ""
            },
            "type": "choropleth"
           }
          ],
          "contour": [
           {
            "colorbar": {
             "outlinewidth": 0,
             "ticks": ""
            },
            "colorscale": [
             [
              0,
              "#0d0887"
             ],
             [
              0.1111111111111111,
              "#46039f"
             ],
             [
              0.2222222222222222,
              "#7201a8"
             ],
             [
              0.3333333333333333,
              "#9c179e"
             ],
             [
              0.4444444444444444,
              "#bd3786"
             ],
             [
              0.5555555555555556,
              "#d8576b"
             ],
             [
              0.6666666666666666,
              "#ed7953"
             ],
             [
              0.7777777777777778,
              "#fb9f3a"
             ],
             [
              0.8888888888888888,
              "#fdca26"
             ],
             [
              1,
              "#f0f921"
             ]
            ],
            "type": "contour"
           }
          ],
          "contourcarpet": [
           {
            "colorbar": {
             "outlinewidth": 0,
             "ticks": ""
            },
            "type": "contourcarpet"
           }
          ],
          "heatmap": [
           {
            "colorbar": {
             "outlinewidth": 0,
             "ticks": ""
            },
            "colorscale": [
             [
              0,
              "#0d0887"
             ],
             [
              0.1111111111111111,
              "#46039f"
             ],
             [
              0.2222222222222222,
              "#7201a8"
             ],
             [
              0.3333333333333333,
              "#9c179e"
             ],
             [
              0.4444444444444444,
              "#bd3786"
             ],
             [
              0.5555555555555556,
              "#d8576b"
             ],
             [
              0.6666666666666666,
              "#ed7953"
             ],
             [
              0.7777777777777778,
              "#fb9f3a"
             ],
             [
              0.8888888888888888,
              "#fdca26"
             ],
             [
              1,
              "#f0f921"
             ]
            ],
            "type": "heatmap"
           }
          ],
          "heatmapgl": [
           {
            "colorbar": {
             "outlinewidth": 0,
             "ticks": ""
            },
            "colorscale": [
             [
              0,
              "#0d0887"
             ],
             [
              0.1111111111111111,
              "#46039f"
             ],
             [
              0.2222222222222222,
              "#7201a8"
             ],
             [
              0.3333333333333333,
              "#9c179e"
             ],
             [
              0.4444444444444444,
              "#bd3786"
             ],
             [
              0.5555555555555556,
              "#d8576b"
             ],
             [
              0.6666666666666666,
              "#ed7953"
             ],
             [
              0.7777777777777778,
              "#fb9f3a"
             ],
             [
              0.8888888888888888,
              "#fdca26"
             ],
             [
              1,
              "#f0f921"
             ]
            ],
            "type": "heatmapgl"
           }
          ],
          "histogram": [
           {
            "marker": {
             "pattern": {
              "fillmode": "overlay",
              "size": 10,
              "solidity": 0.2
             }
            },
            "type": "histogram"
           }
          ],
          "histogram2d": [
           {
            "colorbar": {
             "outlinewidth": 0,
             "ticks": ""
            },
            "colorscale": [
             [
              0,
              "#0d0887"
             ],
             [
              0.1111111111111111,
              "#46039f"
             ],
             [
              0.2222222222222222,
              "#7201a8"
             ],
             [
              0.3333333333333333,
              "#9c179e"
             ],
             [
              0.4444444444444444,
              "#bd3786"
             ],
             [
              0.5555555555555556,
              "#d8576b"
             ],
             [
              0.6666666666666666,
              "#ed7953"
             ],
             [
              0.7777777777777778,
              "#fb9f3a"
             ],
             [
              0.8888888888888888,
              "#fdca26"
             ],
             [
              1,
              "#f0f921"
             ]
            ],
            "type": "histogram2d"
           }
          ],
          "histogram2dcontour": [
           {
            "colorbar": {
             "outlinewidth": 0,
             "ticks": ""
            },
            "colorscale": [
             [
              0,
              "#0d0887"
             ],
             [
              0.1111111111111111,
              "#46039f"
             ],
             [
              0.2222222222222222,
              "#7201a8"
             ],
             [
              0.3333333333333333,
              "#9c179e"
             ],
             [
              0.4444444444444444,
              "#bd3786"
             ],
             [
              0.5555555555555556,
              "#d8576b"
             ],
             [
              0.6666666666666666,
              "#ed7953"
             ],
             [
              0.7777777777777778,
              "#fb9f3a"
             ],
             [
              0.8888888888888888,
              "#fdca26"
             ],
             [
              1,
              "#f0f921"
             ]
            ],
            "type": "histogram2dcontour"
           }
          ],
          "mesh3d": [
           {
            "colorbar": {
             "outlinewidth": 0,
             "ticks": ""
            },
            "type": "mesh3d"
           }
          ],
          "parcoords": [
           {
            "line": {
             "colorbar": {
              "outlinewidth": 0,
              "ticks": ""
             }
            },
            "type": "parcoords"
           }
          ],
          "pie": [
           {
            "automargin": true,
            "type": "pie"
           }
          ],
          "scatter": [
           {
            "fillpattern": {
             "fillmode": "overlay",
             "size": 10,
             "solidity": 0.2
            },
            "type": "scatter"
           }
          ],
          "scatter3d": [
           {
            "line": {
             "colorbar": {
              "outlinewidth": 0,
              "ticks": ""
             }
            },
            "marker": {
             "colorbar": {
              "outlinewidth": 0,
              "ticks": ""
             }
            },
            "type": "scatter3d"
           }
          ],
          "scattercarpet": [
           {
            "marker": {
             "colorbar": {
              "outlinewidth": 0,
              "ticks": ""
             }
            },
            "type": "scattercarpet"
           }
          ],
          "scattergeo": [
           {
            "marker": {
             "colorbar": {
              "outlinewidth": 0,
              "ticks": ""
             }
            },
            "type": "scattergeo"
           }
          ],
          "scattergl": [
           {
            "marker": {
             "colorbar": {
              "outlinewidth": 0,
              "ticks": ""
             }
            },
            "type": "scattergl"
           }
          ],
          "scattermapbox": [
           {
            "marker": {
             "colorbar": {
              "outlinewidth": 0,
              "ticks": ""
             }
            },
            "type": "scattermapbox"
           }
          ],
          "scatterpolar": [
           {
            "marker": {
             "colorbar": {
              "outlinewidth": 0,
              "ticks": ""
             }
            },
            "type": "scatterpolar"
           }
          ],
          "scatterpolargl": [
           {
            "marker": {
             "colorbar": {
              "outlinewidth": 0,
              "ticks": ""
             }
            },
            "type": "scatterpolargl"
           }
          ],
          "scatterternary": [
           {
            "marker": {
             "colorbar": {
              "outlinewidth": 0,
              "ticks": ""
             }
            },
            "type": "scatterternary"
           }
          ],
          "surface": [
           {
            "colorbar": {
             "outlinewidth": 0,
             "ticks": ""
            },
            "colorscale": [
             [
              0,
              "#0d0887"
             ],
             [
              0.1111111111111111,
              "#46039f"
             ],
             [
              0.2222222222222222,
              "#7201a8"
             ],
             [
              0.3333333333333333,
              "#9c179e"
             ],
             [
              0.4444444444444444,
              "#bd3786"
             ],
             [
              0.5555555555555556,
              "#d8576b"
             ],
             [
              0.6666666666666666,
              "#ed7953"
             ],
             [
              0.7777777777777778,
              "#fb9f3a"
             ],
             [
              0.8888888888888888,
              "#fdca26"
             ],
             [
              1,
              "#f0f921"
             ]
            ],
            "type": "surface"
           }
          ],
          "table": [
           {
            "cells": {
             "fill": {
              "color": "#EBF0F8"
             },
             "line": {
              "color": "white"
             }
            },
            "header": {
             "fill": {
              "color": "#C8D4E3"
             },
             "line": {
              "color": "white"
             }
            },
            "type": "table"
           }
          ]
         },
         "layout": {
          "annotationdefaults": {
           "arrowcolor": "#2a3f5f",
           "arrowhead": 0,
           "arrowwidth": 1
          },
          "autotypenumbers": "strict",
          "coloraxis": {
           "colorbar": {
            "outlinewidth": 0,
            "ticks": ""
           }
          },
          "colorscale": {
           "diverging": [
            [
             0,
             "#8e0152"
            ],
            [
             0.1,
             "#c51b7d"
            ],
            [
             0.2,
             "#de77ae"
            ],
            [
             0.3,
             "#f1b6da"
            ],
            [
             0.4,
             "#fde0ef"
            ],
            [
             0.5,
             "#f7f7f7"
            ],
            [
             0.6,
             "#e6f5d0"
            ],
            [
             0.7,
             "#b8e186"
            ],
            [
             0.8,
             "#7fbc41"
            ],
            [
             0.9,
             "#4d9221"
            ],
            [
             1,
             "#276419"
            ]
           ],
           "sequential": [
            [
             0,
             "#0d0887"
            ],
            [
             0.1111111111111111,
             "#46039f"
            ],
            [
             0.2222222222222222,
             "#7201a8"
            ],
            [
             0.3333333333333333,
             "#9c179e"
            ],
            [
             0.4444444444444444,
             "#bd3786"
            ],
            [
             0.5555555555555556,
             "#d8576b"
            ],
            [
             0.6666666666666666,
             "#ed7953"
            ],
            [
             0.7777777777777778,
             "#fb9f3a"
            ],
            [
             0.8888888888888888,
             "#fdca26"
            ],
            [
             1,
             "#f0f921"
            ]
           ],
           "sequentialminus": [
            [
             0,
             "#0d0887"
            ],
            [
             0.1111111111111111,
             "#46039f"
            ],
            [
             0.2222222222222222,
             "#7201a8"
            ],
            [
             0.3333333333333333,
             "#9c179e"
            ],
            [
             0.4444444444444444,
             "#bd3786"
            ],
            [
             0.5555555555555556,
             "#d8576b"
            ],
            [
             0.6666666666666666,
             "#ed7953"
            ],
            [
             0.7777777777777778,
             "#fb9f3a"
            ],
            [
             0.8888888888888888,
             "#fdca26"
            ],
            [
             1,
             "#f0f921"
            ]
           ]
          },
          "colorway": [
           "#636efa",
           "#EF553B",
           "#00cc96",
           "#ab63fa",
           "#FFA15A",
           "#19d3f3",
           "#FF6692",
           "#B6E880",
           "#FF97FF",
           "#FECB52"
          ],
          "font": {
           "color": "#2a3f5f"
          },
          "geo": {
           "bgcolor": "white",
           "lakecolor": "white",
           "landcolor": "white",
           "showlakes": true,
           "showland": true,
           "subunitcolor": "#C8D4E3"
          },
          "hoverlabel": {
           "align": "left"
          },
          "hovermode": "closest",
          "mapbox": {
           "style": "light"
          },
          "paper_bgcolor": "white",
          "plot_bgcolor": "white",
          "polar": {
           "angularaxis": {
            "gridcolor": "#EBF0F8",
            "linecolor": "#EBF0F8",
            "ticks": ""
           },
           "bgcolor": "white",
           "radialaxis": {
            "gridcolor": "#EBF0F8",
            "linecolor": "#EBF0F8",
            "ticks": ""
           }
          },
          "scene": {
           "xaxis": {
            "backgroundcolor": "white",
            "gridcolor": "#DFE8F3",
            "gridwidth": 2,
            "linecolor": "#EBF0F8",
            "showbackground": true,
            "ticks": "",
            "zerolinecolor": "#EBF0F8"
           },
           "yaxis": {
            "backgroundcolor": "white",
            "gridcolor": "#DFE8F3",
            "gridwidth": 2,
            "linecolor": "#EBF0F8",
            "showbackground": true,
            "ticks": "",
            "zerolinecolor": "#EBF0F8"
           },
           "zaxis": {
            "backgroundcolor": "white",
            "gridcolor": "#DFE8F3",
            "gridwidth": 2,
            "linecolor": "#EBF0F8",
            "showbackground": true,
            "ticks": "",
            "zerolinecolor": "#EBF0F8"
           }
          },
          "shapedefaults": {
           "line": {
            "color": "#2a3f5f"
           }
          },
          "ternary": {
           "aaxis": {
            "gridcolor": "#DFE8F3",
            "linecolor": "#A2B1C6",
            "ticks": ""
           },
           "baxis": {
            "gridcolor": "#DFE8F3",
            "linecolor": "#A2B1C6",
            "ticks": ""
           },
           "bgcolor": "white",
           "caxis": {
            "gridcolor": "#DFE8F3",
            "linecolor": "#A2B1C6",
            "ticks": ""
           }
          },
          "title": {
           "x": 0.05
          },
          "xaxis": {
           "automargin": true,
           "gridcolor": "#EBF0F8",
           "linecolor": "#EBF0F8",
           "ticks": "",
           "title": {
            "standoff": 15
           },
           "zerolinecolor": "#EBF0F8",
           "zerolinewidth": 2
          },
          "yaxis": {
           "automargin": true,
           "gridcolor": "#EBF0F8",
           "linecolor": "#EBF0F8",
           "ticks": "",
           "title": {
            "standoff": 15
           },
           "zerolinecolor": "#EBF0F8",
           "zerolinewidth": 2
          }
         }
        },
        "title": {
         "text": "Number of Games Released Over the Last 10 Years"
        },
        "xaxis": {
         "tickmode": "linear",
         "title": {
          "text": "Years"
         }
        },
        "yaxis": {
         "title": {
          "text": "Number of Games"
         }
        }
       }
      },
      "text/html": [
       "<div>                            <div id=\"fad7dfe2-c750-4961-a535-89e343ea9f7b\" class=\"plotly-graph-div\" style=\"height:525px; width:100%;\"></div>            <script type=\"text/javascript\">                require([\"plotly\"], function(Plotly) {                    window.PLOTLYENV=window.PLOTLYENV || {};                                    if (document.getElementById(\"fad7dfe2-c750-4961-a535-89e343ea9f7b\")) {                    Plotly.newPlot(                        \"fad7dfe2-c750-4961-a535-89e343ea9f7b\",                        [{\"marker\":{\"color\":\"#0000fe\"},\"x\":[2016,2017,2018,2019,2020,2021,2022,2023,2024,2025],\"y\":[334,356,454,474,566,730,824,1289,1567,5],\"type\":\"bar\"}],                        {\"template\":{\"data\":{\"barpolar\":[{\"marker\":{\"line\":{\"color\":\"white\",\"width\":0.5},\"pattern\":{\"fillmode\":\"overlay\",\"size\":10,\"solidity\":0.2}},\"type\":\"barpolar\"}],\"bar\":[{\"error_x\":{\"color\":\"#2a3f5f\"},\"error_y\":{\"color\":\"#2a3f5f\"},\"marker\":{\"line\":{\"color\":\"white\",\"width\":0.5},\"pattern\":{\"fillmode\":\"overlay\",\"size\":10,\"solidity\":0.2}},\"type\":\"bar\"}],\"carpet\":[{\"aaxis\":{\"endlinecolor\":\"#2a3f5f\",\"gridcolor\":\"#C8D4E3\",\"linecolor\":\"#C8D4E3\",\"minorgridcolor\":\"#C8D4E3\",\"startlinecolor\":\"#2a3f5f\"},\"baxis\":{\"endlinecolor\":\"#2a3f5f\",\"gridcolor\":\"#C8D4E3\",\"linecolor\":\"#C8D4E3\",\"minorgridcolor\":\"#C8D4E3\",\"startlinecolor\":\"#2a3f5f\"},\"type\":\"carpet\"}],\"choropleth\":[{\"colorbar\":{\"outlinewidth\":0,\"ticks\":\"\"},\"type\":\"choropleth\"}],\"contourcarpet\":[{\"colorbar\":{\"outlinewidth\":0,\"ticks\":\"\"},\"type\":\"contourcarpet\"}],\"contour\":[{\"colorbar\":{\"outlinewidth\":0,\"ticks\":\"\"},\"colorscale\":[[0.0,\"#0d0887\"],[0.1111111111111111,\"#46039f\"],[0.2222222222222222,\"#7201a8\"],[0.3333333333333333,\"#9c179e\"],[0.4444444444444444,\"#bd3786\"],[0.5555555555555556,\"#d8576b\"],[0.6666666666666666,\"#ed7953\"],[0.7777777777777778,\"#fb9f3a\"],[0.8888888888888888,\"#fdca26\"],[1.0,\"#f0f921\"]],\"type\":\"contour\"}],\"heatmapgl\":[{\"colorbar\":{\"outlinewidth\":0,\"ticks\":\"\"},\"colorscale\":[[0.0,\"#0d0887\"],[0.1111111111111111,\"#46039f\"],[0.2222222222222222,\"#7201a8\"],[0.3333333333333333,\"#9c179e\"],[0.4444444444444444,\"#bd3786\"],[0.5555555555555556,\"#d8576b\"],[0.6666666666666666,\"#ed7953\"],[0.7777777777777778,\"#fb9f3a\"],[0.8888888888888888,\"#fdca26\"],[1.0,\"#f0f921\"]],\"type\":\"heatmapgl\"}],\"heatmap\":[{\"colorbar\":{\"outlinewidth\":0,\"ticks\":\"\"},\"colorscale\":[[0.0,\"#0d0887\"],[0.1111111111111111,\"#46039f\"],[0.2222222222222222,\"#7201a8\"],[0.3333333333333333,\"#9c179e\"],[0.4444444444444444,\"#bd3786\"],[0.5555555555555556,\"#d8576b\"],[0.6666666666666666,\"#ed7953\"],[0.7777777777777778,\"#fb9f3a\"],[0.8888888888888888,\"#fdca26\"],[1.0,\"#f0f921\"]],\"type\":\"heatmap\"}],\"histogram2dcontour\":[{\"colorbar\":{\"outlinewidth\":0,\"ticks\":\"\"},\"colorscale\":[[0.0,\"#0d0887\"],[0.1111111111111111,\"#46039f\"],[0.2222222222222222,\"#7201a8\"],[0.3333333333333333,\"#9c179e\"],[0.4444444444444444,\"#bd3786\"],[0.5555555555555556,\"#d8576b\"],[0.6666666666666666,\"#ed7953\"],[0.7777777777777778,\"#fb9f3a\"],[0.8888888888888888,\"#fdca26\"],[1.0,\"#f0f921\"]],\"type\":\"histogram2dcontour\"}],\"histogram2d\":[{\"colorbar\":{\"outlinewidth\":0,\"ticks\":\"\"},\"colorscale\":[[0.0,\"#0d0887\"],[0.1111111111111111,\"#46039f\"],[0.2222222222222222,\"#7201a8\"],[0.3333333333333333,\"#9c179e\"],[0.4444444444444444,\"#bd3786\"],[0.5555555555555556,\"#d8576b\"],[0.6666666666666666,\"#ed7953\"],[0.7777777777777778,\"#fb9f3a\"],[0.8888888888888888,\"#fdca26\"],[1.0,\"#f0f921\"]],\"type\":\"histogram2d\"}],\"histogram\":[{\"marker\":{\"pattern\":{\"fillmode\":\"overlay\",\"size\":10,\"solidity\":0.2}},\"type\":\"histogram\"}],\"mesh3d\":[{\"colorbar\":{\"outlinewidth\":0,\"ticks\":\"\"},\"type\":\"mesh3d\"}],\"parcoords\":[{\"line\":{\"colorbar\":{\"outlinewidth\":0,\"ticks\":\"\"}},\"type\":\"parcoords\"}],\"pie\":[{\"automargin\":true,\"type\":\"pie\"}],\"scatter3d\":[{\"line\":{\"colorbar\":{\"outlinewidth\":0,\"ticks\":\"\"}},\"marker\":{\"colorbar\":{\"outlinewidth\":0,\"ticks\":\"\"}},\"type\":\"scatter3d\"}],\"scattercarpet\":[{\"marker\":{\"colorbar\":{\"outlinewidth\":0,\"ticks\":\"\"}},\"type\":\"scattercarpet\"}],\"scattergeo\":[{\"marker\":{\"colorbar\":{\"outlinewidth\":0,\"ticks\":\"\"}},\"type\":\"scattergeo\"}],\"scattergl\":[{\"marker\":{\"colorbar\":{\"outlinewidth\":0,\"ticks\":\"\"}},\"type\":\"scattergl\"}],\"scattermapbox\":[{\"marker\":{\"colorbar\":{\"outlinewidth\":0,\"ticks\":\"\"}},\"type\":\"scattermapbox\"}],\"scatterpolargl\":[{\"marker\":{\"colorbar\":{\"outlinewidth\":0,\"ticks\":\"\"}},\"type\":\"scatterpolargl\"}],\"scatterpolar\":[{\"marker\":{\"colorbar\":{\"outlinewidth\":0,\"ticks\":\"\"}},\"type\":\"scatterpolar\"}],\"scatter\":[{\"fillpattern\":{\"fillmode\":\"overlay\",\"size\":10,\"solidity\":0.2},\"type\":\"scatter\"}],\"scatterternary\":[{\"marker\":{\"colorbar\":{\"outlinewidth\":0,\"ticks\":\"\"}},\"type\":\"scatterternary\"}],\"surface\":[{\"colorbar\":{\"outlinewidth\":0,\"ticks\":\"\"},\"colorscale\":[[0.0,\"#0d0887\"],[0.1111111111111111,\"#46039f\"],[0.2222222222222222,\"#7201a8\"],[0.3333333333333333,\"#9c179e\"],[0.4444444444444444,\"#bd3786\"],[0.5555555555555556,\"#d8576b\"],[0.6666666666666666,\"#ed7953\"],[0.7777777777777778,\"#fb9f3a\"],[0.8888888888888888,\"#fdca26\"],[1.0,\"#f0f921\"]],\"type\":\"surface\"}],\"table\":[{\"cells\":{\"fill\":{\"color\":\"#EBF0F8\"},\"line\":{\"color\":\"white\"}},\"header\":{\"fill\":{\"color\":\"#C8D4E3\"},\"line\":{\"color\":\"white\"}},\"type\":\"table\"}]},\"layout\":{\"annotationdefaults\":{\"arrowcolor\":\"#2a3f5f\",\"arrowhead\":0,\"arrowwidth\":1},\"autotypenumbers\":\"strict\",\"coloraxis\":{\"colorbar\":{\"outlinewidth\":0,\"ticks\":\"\"}},\"colorscale\":{\"diverging\":[[0,\"#8e0152\"],[0.1,\"#c51b7d\"],[0.2,\"#de77ae\"],[0.3,\"#f1b6da\"],[0.4,\"#fde0ef\"],[0.5,\"#f7f7f7\"],[0.6,\"#e6f5d0\"],[0.7,\"#b8e186\"],[0.8,\"#7fbc41\"],[0.9,\"#4d9221\"],[1,\"#276419\"]],\"sequential\":[[0.0,\"#0d0887\"],[0.1111111111111111,\"#46039f\"],[0.2222222222222222,\"#7201a8\"],[0.3333333333333333,\"#9c179e\"],[0.4444444444444444,\"#bd3786\"],[0.5555555555555556,\"#d8576b\"],[0.6666666666666666,\"#ed7953\"],[0.7777777777777778,\"#fb9f3a\"],[0.8888888888888888,\"#fdca26\"],[1.0,\"#f0f921\"]],\"sequentialminus\":[[0.0,\"#0d0887\"],[0.1111111111111111,\"#46039f\"],[0.2222222222222222,\"#7201a8\"],[0.3333333333333333,\"#9c179e\"],[0.4444444444444444,\"#bd3786\"],[0.5555555555555556,\"#d8576b\"],[0.6666666666666666,\"#ed7953\"],[0.7777777777777778,\"#fb9f3a\"],[0.8888888888888888,\"#fdca26\"],[1.0,\"#f0f921\"]]},\"colorway\":[\"#636efa\",\"#EF553B\",\"#00cc96\",\"#ab63fa\",\"#FFA15A\",\"#19d3f3\",\"#FF6692\",\"#B6E880\",\"#FF97FF\",\"#FECB52\"],\"font\":{\"color\":\"#2a3f5f\"},\"geo\":{\"bgcolor\":\"white\",\"lakecolor\":\"white\",\"landcolor\":\"white\",\"showlakes\":true,\"showland\":true,\"subunitcolor\":\"#C8D4E3\"},\"hoverlabel\":{\"align\":\"left\"},\"hovermode\":\"closest\",\"mapbox\":{\"style\":\"light\"},\"paper_bgcolor\":\"white\",\"plot_bgcolor\":\"white\",\"polar\":{\"angularaxis\":{\"gridcolor\":\"#EBF0F8\",\"linecolor\":\"#EBF0F8\",\"ticks\":\"\"},\"bgcolor\":\"white\",\"radialaxis\":{\"gridcolor\":\"#EBF0F8\",\"linecolor\":\"#EBF0F8\",\"ticks\":\"\"}},\"scene\":{\"xaxis\":{\"backgroundcolor\":\"white\",\"gridcolor\":\"#DFE8F3\",\"gridwidth\":2,\"linecolor\":\"#EBF0F8\",\"showbackground\":true,\"ticks\":\"\",\"zerolinecolor\":\"#EBF0F8\"},\"yaxis\":{\"backgroundcolor\":\"white\",\"gridcolor\":\"#DFE8F3\",\"gridwidth\":2,\"linecolor\":\"#EBF0F8\",\"showbackground\":true,\"ticks\":\"\",\"zerolinecolor\":\"#EBF0F8\"},\"zaxis\":{\"backgroundcolor\":\"white\",\"gridcolor\":\"#DFE8F3\",\"gridwidth\":2,\"linecolor\":\"#EBF0F8\",\"showbackground\":true,\"ticks\":\"\",\"zerolinecolor\":\"#EBF0F8\"}},\"shapedefaults\":{\"line\":{\"color\":\"#2a3f5f\"}},\"ternary\":{\"aaxis\":{\"gridcolor\":\"#DFE8F3\",\"linecolor\":\"#A2B1C6\",\"ticks\":\"\"},\"baxis\":{\"gridcolor\":\"#DFE8F3\",\"linecolor\":\"#A2B1C6\",\"ticks\":\"\"},\"bgcolor\":\"white\",\"caxis\":{\"gridcolor\":\"#DFE8F3\",\"linecolor\":\"#A2B1C6\",\"ticks\":\"\"}},\"title\":{\"x\":0.05},\"xaxis\":{\"automargin\":true,\"gridcolor\":\"#EBF0F8\",\"linecolor\":\"#EBF0F8\",\"ticks\":\"\",\"title\":{\"standoff\":15},\"zerolinecolor\":\"#EBF0F8\",\"zerolinewidth\":2},\"yaxis\":{\"automargin\":true,\"gridcolor\":\"#EBF0F8\",\"linecolor\":\"#EBF0F8\",\"ticks\":\"\",\"title\":{\"standoff\":15},\"zerolinecolor\":\"#EBF0F8\",\"zerolinewidth\":2}}},\"xaxis\":{\"title\":{\"text\":\"Years\"},\"tickmode\":\"linear\"},\"title\":{\"text\":\"Number of Games Released Over the Last 10 Years\"},\"yaxis\":{\"title\":{\"text\":\"Number of Games\"}}},                        {\"responsive\": true}                    ).then(function(){\n",
       "                            \n",
       "var gd = document.getElementById('fad7dfe2-c750-4961-a535-89e343ea9f7b');\n",
       "var x = new MutationObserver(function (mutations, observer) {{\n",
       "        var display = window.getComputedStyle(gd).display;\n",
       "        if (!display || display === 'none') {{\n",
       "            console.log([gd, 'removed!']);\n",
       "            Plotly.purge(gd);\n",
       "            observer.disconnect();\n",
       "        }}\n",
       "}});\n",
       "\n",
       "// Listen for the removal of the full notebook cells\n",
       "var notebookContainer = gd.closest('#notebook-container');\n",
       "if (notebookContainer) {{\n",
       "    x.observe(notebookContainer, {childList: true});\n",
       "}}\n",
       "\n",
       "// Listen for the clearing of the current output cell\n",
       "var outputEl = gd.closest('.output');\n",
       "if (outputEl) {{\n",
       "    x.observe(outputEl, {childList: true});\n",
       "}}\n",
       "\n",
       "                        })                };                });            </script>        </div>"
      ]
     },
     "metadata": {},
     "output_type": "display_data"
    }
   ],
   "source": [
    "\n",
    "# get the last 10 years of data\n",
    "last_10_years = games_per_year.tail(10)\n",
    "\n",
    "fig = go.Figure(\n",
    "    data=[\n",
    "        go.Bar(\n",
    "            x=last_10_years.index,\n",
    "            y=last_10_years.values,\n",
    "            marker_color='#0000fe',\n",
    "        )\n",
    "    ]\n",
    ")\n",
    "\n",
    "fig.update_layout(\n",
    "    title='Number of Games Released Over the Last 10 Years',\n",
    "    xaxis_title='Years',\n",
    "    yaxis_title='Number of Games',\n",
    "    xaxis=dict(tickmode='linear'),  \n",
    "    template='plotly_white'\n",
    ")\n",
    "\n",
    "fig.show()\n"
   ]
  },
  {
   "cell_type": "markdown",
   "id": "bec46326",
   "metadata": {},
   "source": [
    "### insight 2:\n",
    "#### 2/ More than 60% of games require 4GB or 8GB of RAM. \n"
   ]
  },
  {
   "cell_type": "code",
   "execution_count": 75,
   "id": "c4d6b3c7",
   "metadata": {},
   "outputs": [
    {
     "data": {
      "text/plain": [
       "array(['1 GB RAM', '8 GB RAM', '500 MB RAM', '3 GB RAM', '4 GB RAM',\n",
       "       '2 GB RAM', '5 GB RAM', '8192 MB RAM', '10 GB RAM',\n",
       "       '2GB or more Hard Drive: At least 7GB of free space', '512 MB RAM',\n",
       "       '6 GB RAM', '2048 MB RAM', '16 GB RAM', '2 GB Available System',\n",
       "       '1 GB', '200 MB RAM', '1024 MB RAM', '1000 MB RAM', '12 GB RAM',\n",
       "       '2GB RAM', '2 GB for 32-bit', '1 MB RAM', '2GB System RAM or more',\n",
       "       '16 MB RAM', '2 GB', '3GB RAM', '8 MB RAM', '4000 MB RAM', '2GB',\n",
       "       '514 MB RAM', '256 MB RAM', '128 MB RAM', '4 MB RAM', '6 MB RAM',\n",
       "       '1500 MB RAM', '64 MB RAM', '1GB GB RAM', '2048 GB RAM',\n",
       "       '4096 MB RAM', '1 GB (2 GB recommended)', '400 MB RAM', '2 MB RAM',\n",
       "       '25 MB RAM', '6144 MB RAM', '3000 MB RAM', '2 RAM GB RAM',\n",
       "       '４ GB RAM', '96 MB RAM', '8GB', ', capable of OpenGL 2.0+ support',\n",
       "       'is required to h', '2 GB GB RAM', '1GB XP / 2 Vista GB RAM',\n",
       "       '8000 MB RAM', '600 MB RAM', '250 MB RAM', '450 MB RAM',\n",
       "       '100 MB RAM', '4 GB GB RAM', 'TBA MB RAM', '128 MB', '349 MB RAM',\n",
       "       '300 MB RAM', '4GB RAM', '3072 MB RAM', '8GB RAM', '256MB MB RAM',\n",
       "       '9 GB RAM', '2560 MB RAM', '360 MB RAM'], dtype=object)"
      ]
     },
     "execution_count": 75,
     "metadata": {},
     "output_type": "execute_result"
    }
   ],
   "source": [
    "df_steam['Memory'].unique()\n",
    "# 8 GB RAM\n",
    "# 4 GB RAM\n",
    "# ４ GB RAM\n",
    "# 4 GB GB RAM\n",
    "# 8GB RAM"
   ]
  },
  {
   "cell_type": "code",
   "execution_count": 76,
   "id": "978eb0ce",
   "metadata": {},
   "outputs": [
    {
     "data": {
      "text/html": [
       "<div>\n",
       "<style scoped>\n",
       "    .dataframe tbody tr th:only-of-type {\n",
       "        vertical-align: middle;\n",
       "    }\n",
       "\n",
       "    .dataframe tbody tr th {\n",
       "        vertical-align: top;\n",
       "    }\n",
       "\n",
       "    .dataframe thead th {\n",
       "        text-align: right;\n",
       "    }\n",
       "</style>\n",
       "<table border=\"1\" class=\"dataframe\">\n",
       "  <thead>\n",
       "    <tr style=\"text-align: right;\">\n",
       "      <th></th>\n",
       "      <th>Unnamed: 0</th>\n",
       "      <th>Game Names</th>\n",
       "      <th>Price</th>\n",
       "      <th>Processor_main</th>\n",
       "      <th>Memory</th>\n",
       "      <th>Graphics</th>\n",
       "      <th>Storage</th>\n",
       "      <th>years</th>\n",
       "    </tr>\n",
       "  </thead>\n",
       "  <tbody>\n",
       "    <tr>\n",
       "      <th>9</th>\n",
       "      <td>10</td>\n",
       "      <td>Motor Town Behind The Wheel</td>\n",
       "      <td>No Price</td>\n",
       "      <td>Intel Core i5-4460 or AMD FX-8120</td>\n",
       "      <td>4 GB RAM</td>\n",
       "      <td>GeForce GTX 750 4GB, Radeon RX 460 4GB</td>\n",
       "      <td>5 GB</td>\n",
       "      <td>2021</td>\n",
       "    </tr>\n",
       "    <tr>\n",
       "      <th>10</th>\n",
       "      <td>11</td>\n",
       "      <td>WARNO  Digital Guides</td>\n",
       "      <td>333.27 SR</td>\n",
       "      <td>Intel Celeron G4920 (Legacy: i3-2100) , AMD At...</td>\n",
       "      <td>4 GB RAM</td>\n",
       "      <td>Nvidia GeForce GT 1030 (Legacy: Nvidia GeForce...</td>\n",
       "      <td>50 GB</td>\n",
       "      <td>2024</td>\n",
       "    </tr>\n",
       "    <tr>\n",
       "      <th>14</th>\n",
       "      <td>15</td>\n",
       "      <td>Monster Boy and the Cursed Kingdom</td>\n",
       "      <td>20.29 SR</td>\n",
       "      <td>Intel/AMD Quad Core</td>\n",
       "      <td>4 GB RAM</td>\n",
       "      <td>GPU with 2GB VRAM available.</td>\n",
       "      <td>5000 MB</td>\n",
       "      <td>2019</td>\n",
       "    </tr>\n",
       "    <tr>\n",
       "      <th>15</th>\n",
       "      <td>16</td>\n",
       "      <td>Expansion  Europa Universalis IV Domination</td>\n",
       "      <td>Your Price:1,000.80 SR</td>\n",
       "      <td>Intel® Core™ i3-2105 / AMD® FX 4300</td>\n",
       "      <td>4 GB RAM</td>\n",
       "      <td>Nvidia® GeForce™ GTX 460 / AMD® Radeon™ HD 585...</td>\n",
       "      <td>20 GB</td>\n",
       "      <td>2023</td>\n",
       "    </tr>\n",
       "    <tr>\n",
       "      <th>16</th>\n",
       "      <td>17</td>\n",
       "      <td>Broforce</td>\n",
       "      <td>No Price</td>\n",
       "      <td>Intel Core Duo or faster</td>\n",
       "      <td>4 GB RAM</td>\n",
       "      <td>OpenGL 3.0 compliant video card</td>\n",
       "      <td>1300 MB</td>\n",
       "      <td>2015</td>\n",
       "    </tr>\n",
       "    <tr>\n",
       "      <th>...</th>\n",
       "      <td>...</td>\n",
       "      <td>...</td>\n",
       "      <td>...</td>\n",
       "      <td>...</td>\n",
       "      <td>...</td>\n",
       "      <td>...</td>\n",
       "      <td>...</td>\n",
       "      <td>...</td>\n",
       "    </tr>\n",
       "    <tr>\n",
       "      <th>7829</th>\n",
       "      <td>8510</td>\n",
       "      <td>Screw Drivers</td>\n",
       "      <td>No Price</td>\n",
       "      <td>3.1 GHz quad-core</td>\n",
       "      <td>4 GB RAM</td>\n",
       "      <td>GTX 980</td>\n",
       "      <td>18 GB</td>\n",
       "      <td>2024</td>\n",
       "    </tr>\n",
       "    <tr>\n",
       "      <th>7838</th>\n",
       "      <td>8519</td>\n",
       "      <td>Siege Survival Gloria Victis</td>\n",
       "      <td>118.80 SR</td>\n",
       "      <td>Intel Core i3 or AMD Athlon II X4 with at leas...</td>\n",
       "      <td>4 GB RAM</td>\n",
       "      <td>GeForce GT 740, Radeon HD 7750 - at least 1GB ...</td>\n",
       "      <td>10 GB</td>\n",
       "      <td>2021</td>\n",
       "    </tr>\n",
       "    <tr>\n",
       "      <th>7840</th>\n",
       "      <td>8521</td>\n",
       "      <td>Pamali Indonesian Folklore Horror</td>\n",
       "      <td>34.64 SR</td>\n",
       "      <td>Intel(R) Core(TM) i5-7200U CPU @ 2.50Ghz</td>\n",
       "      <td>4 GB RAM</td>\n",
       "      <td>NVIDIA GeForce 940MX</td>\n",
       "      <td>2 GB</td>\n",
       "      <td>2018</td>\n",
       "    </tr>\n",
       "    <tr>\n",
       "      <th>7841</th>\n",
       "      <td>8522</td>\n",
       "      <td>A fascinating story</td>\n",
       "      <td>56.04 SR</td>\n",
       "      <td>Intel Core i5</td>\n",
       "      <td>4 GB RAM</td>\n",
       "      <td>NVIDIA Gef750</td>\n",
       "      <td>8 GB</td>\n",
       "      <td>2024</td>\n",
       "    </tr>\n",
       "    <tr>\n",
       "      <th>7842</th>\n",
       "      <td>8523</td>\n",
       "      <td>DJMAX RESPECT V  TECHNIKA 2 PACK</td>\n",
       "      <td>527.42 SR</td>\n",
       "      <td>Intel Core 2 Duo E8400 3.0GHz AMD Athlon 64 X2...</td>\n",
       "      <td>4 GB RAM</td>\n",
       "      <td>Nvidia® GTX 460 or AMD HD 5850 or better</td>\n",
       "      <td>30 GB</td>\n",
       "      <td>2020</td>\n",
       "    </tr>\n",
       "  </tbody>\n",
       "</table>\n",
       "<p>2525 rows × 8 columns</p>\n",
       "</div>"
      ],
      "text/plain": [
       "      Unnamed: 0                                   Game Names  \\\n",
       "9             10                  Motor Town Behind The Wheel   \n",
       "10            11                        WARNO  Digital Guides   \n",
       "14            15           Monster Boy and the Cursed Kingdom   \n",
       "15            16  Expansion  Europa Universalis IV Domination   \n",
       "16            17                                     Broforce   \n",
       "...          ...                                          ...   \n",
       "7829        8510                                Screw Drivers   \n",
       "7838        8519                 Siege Survival Gloria Victis   \n",
       "7840        8521            Pamali Indonesian Folklore Horror   \n",
       "7841        8522                          A fascinating story   \n",
       "7842        8523             DJMAX RESPECT V  TECHNIKA 2 PACK   \n",
       "\n",
       "                       Price  \\\n",
       "9                   No Price   \n",
       "10                 333.27 SR   \n",
       "14                  20.29 SR   \n",
       "15    Your Price:1,000.80 SR   \n",
       "16                  No Price   \n",
       "...                      ...   \n",
       "7829                No Price   \n",
       "7838               118.80 SR   \n",
       "7840                34.64 SR   \n",
       "7841                56.04 SR   \n",
       "7842               527.42 SR   \n",
       "\n",
       "                                         Processor_main    Memory  \\\n",
       "9                     Intel Core i5-4460 or AMD FX-8120  4 GB RAM   \n",
       "10    Intel Celeron G4920 (Legacy: i3-2100) , AMD At...  4 GB RAM   \n",
       "14                                  Intel/AMD Quad Core  4 GB RAM   \n",
       "15                  Intel® Core™ i3-2105 / AMD® FX 4300  4 GB RAM   \n",
       "16                             Intel Core Duo or faster  4 GB RAM   \n",
       "...                                                 ...       ...   \n",
       "7829                                  3.1 GHz quad-core  4 GB RAM   \n",
       "7838  Intel Core i3 or AMD Athlon II X4 with at leas...  4 GB RAM   \n",
       "7840           Intel(R) Core(TM) i5-7200U CPU @ 2.50Ghz  4 GB RAM   \n",
       "7841                                      Intel Core i5  4 GB RAM   \n",
       "7842  Intel Core 2 Duo E8400 3.0GHz AMD Athlon 64 X2...  4 GB RAM   \n",
       "\n",
       "                                               Graphics  Storage  years  \n",
       "9                GeForce GTX 750 4GB, Radeon RX 460 4GB     5 GB   2021  \n",
       "10    Nvidia GeForce GT 1030 (Legacy: Nvidia GeForce...    50 GB   2024  \n",
       "14                         GPU with 2GB VRAM available.  5000 MB   2019  \n",
       "15    Nvidia® GeForce™ GTX 460 / AMD® Radeon™ HD 585...    20 GB   2023  \n",
       "16                      OpenGL 3.0 compliant video card  1300 MB   2015  \n",
       "...                                                 ...      ...    ...  \n",
       "7829                                            GTX 980    18 GB   2024  \n",
       "7838  GeForce GT 740, Radeon HD 7750 - at least 1GB ...    10 GB   2021  \n",
       "7840                               NVIDIA GeForce 940MX     2 GB   2018  \n",
       "7841                                      NVIDIA Gef750     8 GB   2024  \n",
       "7842           Nvidia® GTX 460 or AMD HD 5850 or better    30 GB   2020  \n",
       "\n",
       "[2525 rows x 8 columns]"
      ]
     },
     "execution_count": 76,
     "metadata": {},
     "output_type": "execute_result"
    }
   ],
   "source": [
    "df_4g = df_steam[(df_steam['Memory'] == '4 GB RAM') | (df_steam['Memory'] == '４ GB RAM') | (df_steam['Memory'] == '4 GB GB RAM')]\n",
    "df_4g # 2525 observations"
   ]
  },
  {
   "cell_type": "code",
   "execution_count": 77,
   "id": "7e9e2834",
   "metadata": {},
   "outputs": [
    {
     "data": {
      "text/html": [
       "<div>\n",
       "<style scoped>\n",
       "    .dataframe tbody tr th:only-of-type {\n",
       "        vertical-align: middle;\n",
       "    }\n",
       "\n",
       "    .dataframe tbody tr th {\n",
       "        vertical-align: top;\n",
       "    }\n",
       "\n",
       "    .dataframe thead th {\n",
       "        text-align: right;\n",
       "    }\n",
       "</style>\n",
       "<table border=\"1\" class=\"dataframe\">\n",
       "  <thead>\n",
       "    <tr style=\"text-align: right;\">\n",
       "      <th></th>\n",
       "      <th>Unnamed: 0</th>\n",
       "      <th>Game Names</th>\n",
       "      <th>Price</th>\n",
       "      <th>Processor_main</th>\n",
       "      <th>Memory</th>\n",
       "      <th>Graphics</th>\n",
       "      <th>Storage</th>\n",
       "      <th>years</th>\n",
       "    </tr>\n",
       "  </thead>\n",
       "  <tbody>\n",
       "    <tr>\n",
       "      <th>3</th>\n",
       "      <td>3</td>\n",
       "      <td>The Riftbreaker Heart of the Swamp</td>\n",
       "      <td>Your Price:106.00 SR</td>\n",
       "      <td>Intel i5 gen 2 or AMD Bulldozer {4 cores)</td>\n",
       "      <td>8 GB RAM</td>\n",
       "      <td>Nvidia GTX 750 2GB or AMD R7 265 2GB</td>\n",
       "      <td>12 GB</td>\n",
       "      <td>2024</td>\n",
       "    </tr>\n",
       "    <tr>\n",
       "      <th>5</th>\n",
       "      <td>5</td>\n",
       "      <td>Techtonica</td>\n",
       "      <td>Your Price:91.33 SR</td>\n",
       "      <td>Intel Core or AMD Ryzen</td>\n",
       "      <td>8 GB RAM</td>\n",
       "      <td>GeForce GTX 1650 4GB VRAM (or equivalent) / AM...</td>\n",
       "      <td>15 GB</td>\n",
       "      <td>2023</td>\n",
       "    </tr>\n",
       "    <tr>\n",
       "      <th>8</th>\n",
       "      <td>9</td>\n",
       "      <td>Endzone  A World Apart Distant Places</td>\n",
       "      <td>10.77 SR</td>\n",
       "      <td>Intel Core i5-6400 or AMD Ryzen 3 1200 or similar</td>\n",
       "      <td>8 GB RAM</td>\n",
       "      <td>GeForce GTX 760 or equivalent</td>\n",
       "      <td>6 GB</td>\n",
       "      <td>2022</td>\n",
       "    </tr>\n",
       "    <tr>\n",
       "      <th>17</th>\n",
       "      <td>18</td>\n",
       "      <td>Hunt Showdown 1896  La Luz Mala</td>\n",
       "      <td>No Price</td>\n",
       "      <td>Intel Core i5-6400 or AMD Ryzen 3 1200 or similar</td>\n",
       "      <td>8 GB RAM</td>\n",
       "      <td>NVIDIA GTX 1650 Super or AMD Radeon RX 5500 XT...</td>\n",
       "      <td>75 GB</td>\n",
       "      <td>0</td>\n",
       "    </tr>\n",
       "    <tr>\n",
       "      <th>21</th>\n",
       "      <td>22</td>\n",
       "      <td>Dead by Daylight  Maddening Darkness Pack</td>\n",
       "      <td>No Price</td>\n",
       "      <td>Intel Core i3-4170 or AMD FX-8120</td>\n",
       "      <td>8 GB RAM</td>\n",
       "      <td>DX11 Compatible GeForce GTX 460 1GB or AMD HD ...</td>\n",
       "      <td>25 GB</td>\n",
       "      <td>0</td>\n",
       "    </tr>\n",
       "    <tr>\n",
       "      <th>...</th>\n",
       "      <td>...</td>\n",
       "      <td>...</td>\n",
       "      <td>...</td>\n",
       "      <td>...</td>\n",
       "      <td>...</td>\n",
       "      <td>...</td>\n",
       "      <td>...</td>\n",
       "      <td>...</td>\n",
       "    </tr>\n",
       "    <tr>\n",
       "      <th>7824</th>\n",
       "      <td>8505</td>\n",
       "      <td>The Texas Chain Saw Massacre  Nicotero Leather...</td>\n",
       "      <td>No Price</td>\n",
       "      <td>Intel Core i5 6th gen or AMD Ryzen 5 1600</td>\n",
       "      <td>8 GB RAM</td>\n",
       "      <td>Nvidia Geforce GTX 1060 or AMD Radeon RX 580</td>\n",
       "      <td>30 GB</td>\n",
       "      <td>2023</td>\n",
       "    </tr>\n",
       "    <tr>\n",
       "      <th>7832</th>\n",
       "      <td>8513</td>\n",
       "      <td>Monster Hunter World  The Handlers Techno Hand...</td>\n",
       "      <td>65.52 SR</td>\n",
       "      <td>Intel® Core™ i5 4460 or Core™ i3 9100F or AMD ...</td>\n",
       "      <td>8 GB RAM</td>\n",
       "      <td>NVIDIA®GeForce®GTX 760 or GTX1050 or AMD Radeo...</td>\n",
       "      <td>52 GB</td>\n",
       "      <td>2020</td>\n",
       "    </tr>\n",
       "    <tr>\n",
       "      <th>7833</th>\n",
       "      <td>8514</td>\n",
       "      <td>My Time at Sandrock  Digital Artbook</td>\n",
       "      <td>226.16 SR</td>\n",
       "      <td>Intel Core i3-2100</td>\n",
       "      <td>8 GB RAM</td>\n",
       "      <td>Nvidia GeForce GTX760</td>\n",
       "      <td>50 GB</td>\n",
       "      <td>2024</td>\n",
       "    </tr>\n",
       "    <tr>\n",
       "      <th>7834</th>\n",
       "      <td>8515</td>\n",
       "      <td>Mushroom Season</td>\n",
       "      <td>No Price</td>\n",
       "      <td>Intel Core i5-4690 3,5GHz</td>\n",
       "      <td>8 GB RAM</td>\n",
       "      <td>GeForce GTX 970</td>\n",
       "      <td>4 GB</td>\n",
       "      <td>2024</td>\n",
       "    </tr>\n",
       "    <tr>\n",
       "      <th>7835</th>\n",
       "      <td>8516</td>\n",
       "      <td>F1 Manager 2024  Deluxe Upgrade Pack</td>\n",
       "      <td>No Price</td>\n",
       "      <td>Intel Core i5-4590 or AMD FX-8370</td>\n",
       "      <td>8 GB RAM</td>\n",
       "      <td>Nvidia GeForce GTX 960 or AMD R9 280x (3GB VRAM)</td>\n",
       "      <td>30 GB</td>\n",
       "      <td>2024</td>\n",
       "    </tr>\n",
       "  </tbody>\n",
       "</table>\n",
       "<p>2386 rows × 8 columns</p>\n",
       "</div>"
      ],
      "text/plain": [
       "      Unnamed: 0                                         Game Names  \\\n",
       "3              3                 The Riftbreaker Heart of the Swamp   \n",
       "5              5                                         Techtonica   \n",
       "8              9              Endzone  A World Apart Distant Places   \n",
       "17            18                    Hunt Showdown 1896  La Luz Mala   \n",
       "21            22          Dead by Daylight  Maddening Darkness Pack   \n",
       "...          ...                                                ...   \n",
       "7824        8505  The Texas Chain Saw Massacre  Nicotero Leather...   \n",
       "7832        8513  Monster Hunter World  The Handlers Techno Hand...   \n",
       "7833        8514               My Time at Sandrock  Digital Artbook   \n",
       "7834        8515                                    Mushroom Season   \n",
       "7835        8516               F1 Manager 2024  Deluxe Upgrade Pack   \n",
       "\n",
       "                     Price                                     Processor_main  \\\n",
       "3     Your Price:106.00 SR          Intel i5 gen 2 or AMD Bulldozer {4 cores)   \n",
       "5      Your Price:91.33 SR                            Intel Core or AMD Ryzen   \n",
       "8                 10.77 SR  Intel Core i5-6400 or AMD Ryzen 3 1200 or similar   \n",
       "17                No Price  Intel Core i5-6400 or AMD Ryzen 3 1200 or similar   \n",
       "21                No Price                  Intel Core i3-4170 or AMD FX-8120   \n",
       "...                    ...                                                ...   \n",
       "7824              No Price          Intel Core i5 6th gen or AMD Ryzen 5 1600   \n",
       "7832              65.52 SR  Intel® Core™ i5 4460 or Core™ i3 9100F or AMD ...   \n",
       "7833             226.16 SR                                 Intel Core i3-2100   \n",
       "7834              No Price                          Intel Core i5-4690 3,5GHz   \n",
       "7835              No Price                  Intel Core i5-4590 or AMD FX-8370   \n",
       "\n",
       "        Memory                                           Graphics Storage  \\\n",
       "3     8 GB RAM               Nvidia GTX 750 2GB or AMD R7 265 2GB   12 GB   \n",
       "5     8 GB RAM  GeForce GTX 1650 4GB VRAM (or equivalent) / AM...   15 GB   \n",
       "8     8 GB RAM                      GeForce GTX 760 or equivalent    6 GB   \n",
       "17    8 GB RAM  NVIDIA GTX 1650 Super or AMD Radeon RX 5500 XT...   75 GB   \n",
       "21    8 GB RAM  DX11 Compatible GeForce GTX 460 1GB or AMD HD ...   25 GB   \n",
       "...        ...                                                ...     ...   \n",
       "7824  8 GB RAM       Nvidia Geforce GTX 1060 or AMD Radeon RX 580   30 GB   \n",
       "7832  8 GB RAM  NVIDIA®GeForce®GTX 760 or GTX1050 or AMD Radeo...   52 GB   \n",
       "7833  8 GB RAM                              Nvidia GeForce GTX760   50 GB   \n",
       "7834  8 GB RAM                                    GeForce GTX 970    4 GB   \n",
       "7835  8 GB RAM   Nvidia GeForce GTX 960 or AMD R9 280x (3GB VRAM)   30 GB   \n",
       "\n",
       "      years  \n",
       "3      2024  \n",
       "5      2023  \n",
       "8      2022  \n",
       "17        0  \n",
       "21        0  \n",
       "...     ...  \n",
       "7824   2023  \n",
       "7832   2020  \n",
       "7833   2024  \n",
       "7834   2024  \n",
       "7835   2024  \n",
       "\n",
       "[2386 rows x 8 columns]"
      ]
     },
     "execution_count": 77,
     "metadata": {},
     "output_type": "execute_result"
    }
   ],
   "source": [
    "df_8g = df_steam[(df_steam['Memory'] == '8 GB RAM') | (df_steam['Memory'] == '8GB RAMM')]\n",
    "df_8g # 2386 observation"
   ]
  },
  {
   "cell_type": "code",
   "execution_count": 78,
   "id": "edd725cb",
   "metadata": {},
   "outputs": [],
   "source": [
    "total_games = len(df_steam)\n",
    "games_4gb = len(df_4g)\n",
    "games_8gb = len(df_8g)\n",
    "\n",
    "percentage_4gb = (games_4gb / total_games) * 100\n",
    "percentage_8gb = (games_8gb / total_games) * 100\n",
    "percentage_combined = percentage_4gb + percentage_8gb"
   ]
  },
  {
   "cell_type": "code",
   "execution_count": 79,
   "id": "4ffef5a4",
   "metadata": {},
   "outputs": [
    {
     "data": {
      "application/vnd.plotly.v1+json": {
       "config": {
        "plotlyServerURL": "https://plot.ly"
       },
       "data": [
        {
         "insidetextorientation": "radial",
         "labels": [
          "4 GB RAM",
          "8 GB RAM",
          "Other"
         ],
         "marker": {
          "colors": [
           "#0000b4",
           "#4d4dff",
           "#9999ff"
          ]
         },
         "textinfo": "label+percent",
         "type": "pie",
         "values": [
          2525,
          2386,
          2924
         ]
        }
       ],
       "layout": {
        "template": {
         "data": {
          "bar": [
           {
            "error_x": {
             "color": "#2a3f5f"
            },
            "error_y": {
             "color": "#2a3f5f"
            },
            "marker": {
             "line": {
              "color": "white",
              "width": 0.5
             },
             "pattern": {
              "fillmode": "overlay",
              "size": 10,
              "solidity": 0.2
             }
            },
            "type": "bar"
           }
          ],
          "barpolar": [
           {
            "marker": {
             "line": {
              "color": "white",
              "width": 0.5
             },
             "pattern": {
              "fillmode": "overlay",
              "size": 10,
              "solidity": 0.2
             }
            },
            "type": "barpolar"
           }
          ],
          "carpet": [
           {
            "aaxis": {
             "endlinecolor": "#2a3f5f",
             "gridcolor": "#C8D4E3",
             "linecolor": "#C8D4E3",
             "minorgridcolor": "#C8D4E3",
             "startlinecolor": "#2a3f5f"
            },
            "baxis": {
             "endlinecolor": "#2a3f5f",
             "gridcolor": "#C8D4E3",
             "linecolor": "#C8D4E3",
             "minorgridcolor": "#C8D4E3",
             "startlinecolor": "#2a3f5f"
            },
            "type": "carpet"
           }
          ],
          "choropleth": [
           {
            "colorbar": {
             "outlinewidth": 0,
             "ticks": ""
            },
            "type": "choropleth"
           }
          ],
          "contour": [
           {
            "colorbar": {
             "outlinewidth": 0,
             "ticks": ""
            },
            "colorscale": [
             [
              0,
              "#0d0887"
             ],
             [
              0.1111111111111111,
              "#46039f"
             ],
             [
              0.2222222222222222,
              "#7201a8"
             ],
             [
              0.3333333333333333,
              "#9c179e"
             ],
             [
              0.4444444444444444,
              "#bd3786"
             ],
             [
              0.5555555555555556,
              "#d8576b"
             ],
             [
              0.6666666666666666,
              "#ed7953"
             ],
             [
              0.7777777777777778,
              "#fb9f3a"
             ],
             [
              0.8888888888888888,
              "#fdca26"
             ],
             [
              1,
              "#f0f921"
             ]
            ],
            "type": "contour"
           }
          ],
          "contourcarpet": [
           {
            "colorbar": {
             "outlinewidth": 0,
             "ticks": ""
            },
            "type": "contourcarpet"
           }
          ],
          "heatmap": [
           {
            "colorbar": {
             "outlinewidth": 0,
             "ticks": ""
            },
            "colorscale": [
             [
              0,
              "#0d0887"
             ],
             [
              0.1111111111111111,
              "#46039f"
             ],
             [
              0.2222222222222222,
              "#7201a8"
             ],
             [
              0.3333333333333333,
              "#9c179e"
             ],
             [
              0.4444444444444444,
              "#bd3786"
             ],
             [
              0.5555555555555556,
              "#d8576b"
             ],
             [
              0.6666666666666666,
              "#ed7953"
             ],
             [
              0.7777777777777778,
              "#fb9f3a"
             ],
             [
              0.8888888888888888,
              "#fdca26"
             ],
             [
              1,
              "#f0f921"
             ]
            ],
            "type": "heatmap"
           }
          ],
          "heatmapgl": [
           {
            "colorbar": {
             "outlinewidth": 0,
             "ticks": ""
            },
            "colorscale": [
             [
              0,
              "#0d0887"
             ],
             [
              0.1111111111111111,
              "#46039f"
             ],
             [
              0.2222222222222222,
              "#7201a8"
             ],
             [
              0.3333333333333333,
              "#9c179e"
             ],
             [
              0.4444444444444444,
              "#bd3786"
             ],
             [
              0.5555555555555556,
              "#d8576b"
             ],
             [
              0.6666666666666666,
              "#ed7953"
             ],
             [
              0.7777777777777778,
              "#fb9f3a"
             ],
             [
              0.8888888888888888,
              "#fdca26"
             ],
             [
              1,
              "#f0f921"
             ]
            ],
            "type": "heatmapgl"
           }
          ],
          "histogram": [
           {
            "marker": {
             "pattern": {
              "fillmode": "overlay",
              "size": 10,
              "solidity": 0.2
             }
            },
            "type": "histogram"
           }
          ],
          "histogram2d": [
           {
            "colorbar": {
             "outlinewidth": 0,
             "ticks": ""
            },
            "colorscale": [
             [
              0,
              "#0d0887"
             ],
             [
              0.1111111111111111,
              "#46039f"
             ],
             [
              0.2222222222222222,
              "#7201a8"
             ],
             [
              0.3333333333333333,
              "#9c179e"
             ],
             [
              0.4444444444444444,
              "#bd3786"
             ],
             [
              0.5555555555555556,
              "#d8576b"
             ],
             [
              0.6666666666666666,
              "#ed7953"
             ],
             [
              0.7777777777777778,
              "#fb9f3a"
             ],
             [
              0.8888888888888888,
              "#fdca26"
             ],
             [
              1,
              "#f0f921"
             ]
            ],
            "type": "histogram2d"
           }
          ],
          "histogram2dcontour": [
           {
            "colorbar": {
             "outlinewidth": 0,
             "ticks": ""
            },
            "colorscale": [
             [
              0,
              "#0d0887"
             ],
             [
              0.1111111111111111,
              "#46039f"
             ],
             [
              0.2222222222222222,
              "#7201a8"
             ],
             [
              0.3333333333333333,
              "#9c179e"
             ],
             [
              0.4444444444444444,
              "#bd3786"
             ],
             [
              0.5555555555555556,
              "#d8576b"
             ],
             [
              0.6666666666666666,
              "#ed7953"
             ],
             [
              0.7777777777777778,
              "#fb9f3a"
             ],
             [
              0.8888888888888888,
              "#fdca26"
             ],
             [
              1,
              "#f0f921"
             ]
            ],
            "type": "histogram2dcontour"
           }
          ],
          "mesh3d": [
           {
            "colorbar": {
             "outlinewidth": 0,
             "ticks": ""
            },
            "type": "mesh3d"
           }
          ],
          "parcoords": [
           {
            "line": {
             "colorbar": {
              "outlinewidth": 0,
              "ticks": ""
             }
            },
            "type": "parcoords"
           }
          ],
          "pie": [
           {
            "automargin": true,
            "type": "pie"
           }
          ],
          "scatter": [
           {
            "fillpattern": {
             "fillmode": "overlay",
             "size": 10,
             "solidity": 0.2
            },
            "type": "scatter"
           }
          ],
          "scatter3d": [
           {
            "line": {
             "colorbar": {
              "outlinewidth": 0,
              "ticks": ""
             }
            },
            "marker": {
             "colorbar": {
              "outlinewidth": 0,
              "ticks": ""
             }
            },
            "type": "scatter3d"
           }
          ],
          "scattercarpet": [
           {
            "marker": {
             "colorbar": {
              "outlinewidth": 0,
              "ticks": ""
             }
            },
            "type": "scattercarpet"
           }
          ],
          "scattergeo": [
           {
            "marker": {
             "colorbar": {
              "outlinewidth": 0,
              "ticks": ""
             }
            },
            "type": "scattergeo"
           }
          ],
          "scattergl": [
           {
            "marker": {
             "colorbar": {
              "outlinewidth": 0,
              "ticks": ""
             }
            },
            "type": "scattergl"
           }
          ],
          "scattermapbox": [
           {
            "marker": {
             "colorbar": {
              "outlinewidth": 0,
              "ticks": ""
             }
            },
            "type": "scattermapbox"
           }
          ],
          "scatterpolar": [
           {
            "marker": {
             "colorbar": {
              "outlinewidth": 0,
              "ticks": ""
             }
            },
            "type": "scatterpolar"
           }
          ],
          "scatterpolargl": [
           {
            "marker": {
             "colorbar": {
              "outlinewidth": 0,
              "ticks": ""
             }
            },
            "type": "scatterpolargl"
           }
          ],
          "scatterternary": [
           {
            "marker": {
             "colorbar": {
              "outlinewidth": 0,
              "ticks": ""
             }
            },
            "type": "scatterternary"
           }
          ],
          "surface": [
           {
            "colorbar": {
             "outlinewidth": 0,
             "ticks": ""
            },
            "colorscale": [
             [
              0,
              "#0d0887"
             ],
             [
              0.1111111111111111,
              "#46039f"
             ],
             [
              0.2222222222222222,
              "#7201a8"
             ],
             [
              0.3333333333333333,
              "#9c179e"
             ],
             [
              0.4444444444444444,
              "#bd3786"
             ],
             [
              0.5555555555555556,
              "#d8576b"
             ],
             [
              0.6666666666666666,
              "#ed7953"
             ],
             [
              0.7777777777777778,
              "#fb9f3a"
             ],
             [
              0.8888888888888888,
              "#fdca26"
             ],
             [
              1,
              "#f0f921"
             ]
            ],
            "type": "surface"
           }
          ],
          "table": [
           {
            "cells": {
             "fill": {
              "color": "#EBF0F8"
             },
             "line": {
              "color": "white"
             }
            },
            "header": {
             "fill": {
              "color": "#C8D4E3"
             },
             "line": {
              "color": "white"
             }
            },
            "type": "table"
           }
          ]
         },
         "layout": {
          "annotationdefaults": {
           "arrowcolor": "#2a3f5f",
           "arrowhead": 0,
           "arrowwidth": 1
          },
          "autotypenumbers": "strict",
          "coloraxis": {
           "colorbar": {
            "outlinewidth": 0,
            "ticks": ""
           }
          },
          "colorscale": {
           "diverging": [
            [
             0,
             "#8e0152"
            ],
            [
             0.1,
             "#c51b7d"
            ],
            [
             0.2,
             "#de77ae"
            ],
            [
             0.3,
             "#f1b6da"
            ],
            [
             0.4,
             "#fde0ef"
            ],
            [
             0.5,
             "#f7f7f7"
            ],
            [
             0.6,
             "#e6f5d0"
            ],
            [
             0.7,
             "#b8e186"
            ],
            [
             0.8,
             "#7fbc41"
            ],
            [
             0.9,
             "#4d9221"
            ],
            [
             1,
             "#276419"
            ]
           ],
           "sequential": [
            [
             0,
             "#0d0887"
            ],
            [
             0.1111111111111111,
             "#46039f"
            ],
            [
             0.2222222222222222,
             "#7201a8"
            ],
            [
             0.3333333333333333,
             "#9c179e"
            ],
            [
             0.4444444444444444,
             "#bd3786"
            ],
            [
             0.5555555555555556,
             "#d8576b"
            ],
            [
             0.6666666666666666,
             "#ed7953"
            ],
            [
             0.7777777777777778,
             "#fb9f3a"
            ],
            [
             0.8888888888888888,
             "#fdca26"
            ],
            [
             1,
             "#f0f921"
            ]
           ],
           "sequentialminus": [
            [
             0,
             "#0d0887"
            ],
            [
             0.1111111111111111,
             "#46039f"
            ],
            [
             0.2222222222222222,
             "#7201a8"
            ],
            [
             0.3333333333333333,
             "#9c179e"
            ],
            [
             0.4444444444444444,
             "#bd3786"
            ],
            [
             0.5555555555555556,
             "#d8576b"
            ],
            [
             0.6666666666666666,
             "#ed7953"
            ],
            [
             0.7777777777777778,
             "#fb9f3a"
            ],
            [
             0.8888888888888888,
             "#fdca26"
            ],
            [
             1,
             "#f0f921"
            ]
           ]
          },
          "colorway": [
           "#636efa",
           "#EF553B",
           "#00cc96",
           "#ab63fa",
           "#FFA15A",
           "#19d3f3",
           "#FF6692",
           "#B6E880",
           "#FF97FF",
           "#FECB52"
          ],
          "font": {
           "color": "#2a3f5f"
          },
          "geo": {
           "bgcolor": "white",
           "lakecolor": "white",
           "landcolor": "white",
           "showlakes": true,
           "showland": true,
           "subunitcolor": "#C8D4E3"
          },
          "hoverlabel": {
           "align": "left"
          },
          "hovermode": "closest",
          "mapbox": {
           "style": "light"
          },
          "paper_bgcolor": "white",
          "plot_bgcolor": "white",
          "polar": {
           "angularaxis": {
            "gridcolor": "#EBF0F8",
            "linecolor": "#EBF0F8",
            "ticks": ""
           },
           "bgcolor": "white",
           "radialaxis": {
            "gridcolor": "#EBF0F8",
            "linecolor": "#EBF0F8",
            "ticks": ""
           }
          },
          "scene": {
           "xaxis": {
            "backgroundcolor": "white",
            "gridcolor": "#DFE8F3",
            "gridwidth": 2,
            "linecolor": "#EBF0F8",
            "showbackground": true,
            "ticks": "",
            "zerolinecolor": "#EBF0F8"
           },
           "yaxis": {
            "backgroundcolor": "white",
            "gridcolor": "#DFE8F3",
            "gridwidth": 2,
            "linecolor": "#EBF0F8",
            "showbackground": true,
            "ticks": "",
            "zerolinecolor": "#EBF0F8"
           },
           "zaxis": {
            "backgroundcolor": "white",
            "gridcolor": "#DFE8F3",
            "gridwidth": 2,
            "linecolor": "#EBF0F8",
            "showbackground": true,
            "ticks": "",
            "zerolinecolor": "#EBF0F8"
           }
          },
          "shapedefaults": {
           "line": {
            "color": "#2a3f5f"
           }
          },
          "ternary": {
           "aaxis": {
            "gridcolor": "#DFE8F3",
            "linecolor": "#A2B1C6",
            "ticks": ""
           },
           "baxis": {
            "gridcolor": "#DFE8F3",
            "linecolor": "#A2B1C6",
            "ticks": ""
           },
           "bgcolor": "white",
           "caxis": {
            "gridcolor": "#DFE8F3",
            "linecolor": "#A2B1C6",
            "ticks": ""
           }
          },
          "title": {
           "x": 0.05
          },
          "xaxis": {
           "automargin": true,
           "gridcolor": "#EBF0F8",
           "linecolor": "#EBF0F8",
           "ticks": "",
           "title": {
            "standoff": 15
           },
           "zerolinecolor": "#EBF0F8",
           "zerolinewidth": 2
          },
          "yaxis": {
           "automargin": true,
           "gridcolor": "#EBF0F8",
           "linecolor": "#EBF0F8",
           "ticks": "",
           "title": {
            "standoff": 15
           },
           "zerolinecolor": "#EBF0F8",
           "zerolinewidth": 2
          }
         }
        },
        "title": {
         "text": "Percentage of Games Requiring 4GB or 8GB RAM"
        }
       }
      },
      "text/html": [
       "<div>                            <div id=\"4bf67deb-ca3d-454a-af39-510f6fcac616\" class=\"plotly-graph-div\" style=\"height:525px; width:100%;\"></div>            <script type=\"text/javascript\">                require([\"plotly\"], function(Plotly) {                    window.PLOTLYENV=window.PLOTLYENV || {};                                    if (document.getElementById(\"4bf67deb-ca3d-454a-af39-510f6fcac616\")) {                    Plotly.newPlot(                        \"4bf67deb-ca3d-454a-af39-510f6fcac616\",                        [{\"insidetextorientation\":\"radial\",\"labels\":[\"4 GB RAM\",\"8 GB RAM\",\"Other\"],\"marker\":{\"colors\":[\"#0000b4\",\"#4d4dff\",\"#9999ff\"]},\"textinfo\":\"label+percent\",\"values\":[2525,2386,2924],\"type\":\"pie\"}],                        {\"template\":{\"data\":{\"barpolar\":[{\"marker\":{\"line\":{\"color\":\"white\",\"width\":0.5},\"pattern\":{\"fillmode\":\"overlay\",\"size\":10,\"solidity\":0.2}},\"type\":\"barpolar\"}],\"bar\":[{\"error_x\":{\"color\":\"#2a3f5f\"},\"error_y\":{\"color\":\"#2a3f5f\"},\"marker\":{\"line\":{\"color\":\"white\",\"width\":0.5},\"pattern\":{\"fillmode\":\"overlay\",\"size\":10,\"solidity\":0.2}},\"type\":\"bar\"}],\"carpet\":[{\"aaxis\":{\"endlinecolor\":\"#2a3f5f\",\"gridcolor\":\"#C8D4E3\",\"linecolor\":\"#C8D4E3\",\"minorgridcolor\":\"#C8D4E3\",\"startlinecolor\":\"#2a3f5f\"},\"baxis\":{\"endlinecolor\":\"#2a3f5f\",\"gridcolor\":\"#C8D4E3\",\"linecolor\":\"#C8D4E3\",\"minorgridcolor\":\"#C8D4E3\",\"startlinecolor\":\"#2a3f5f\"},\"type\":\"carpet\"}],\"choropleth\":[{\"colorbar\":{\"outlinewidth\":0,\"ticks\":\"\"},\"type\":\"choropleth\"}],\"contourcarpet\":[{\"colorbar\":{\"outlinewidth\":0,\"ticks\":\"\"},\"type\":\"contourcarpet\"}],\"contour\":[{\"colorbar\":{\"outlinewidth\":0,\"ticks\":\"\"},\"colorscale\":[[0.0,\"#0d0887\"],[0.1111111111111111,\"#46039f\"],[0.2222222222222222,\"#7201a8\"],[0.3333333333333333,\"#9c179e\"],[0.4444444444444444,\"#bd3786\"],[0.5555555555555556,\"#d8576b\"],[0.6666666666666666,\"#ed7953\"],[0.7777777777777778,\"#fb9f3a\"],[0.8888888888888888,\"#fdca26\"],[1.0,\"#f0f921\"]],\"type\":\"contour\"}],\"heatmapgl\":[{\"colorbar\":{\"outlinewidth\":0,\"ticks\":\"\"},\"colorscale\":[[0.0,\"#0d0887\"],[0.1111111111111111,\"#46039f\"],[0.2222222222222222,\"#7201a8\"],[0.3333333333333333,\"#9c179e\"],[0.4444444444444444,\"#bd3786\"],[0.5555555555555556,\"#d8576b\"],[0.6666666666666666,\"#ed7953\"],[0.7777777777777778,\"#fb9f3a\"],[0.8888888888888888,\"#fdca26\"],[1.0,\"#f0f921\"]],\"type\":\"heatmapgl\"}],\"heatmap\":[{\"colorbar\":{\"outlinewidth\":0,\"ticks\":\"\"},\"colorscale\":[[0.0,\"#0d0887\"],[0.1111111111111111,\"#46039f\"],[0.2222222222222222,\"#7201a8\"],[0.3333333333333333,\"#9c179e\"],[0.4444444444444444,\"#bd3786\"],[0.5555555555555556,\"#d8576b\"],[0.6666666666666666,\"#ed7953\"],[0.7777777777777778,\"#fb9f3a\"],[0.8888888888888888,\"#fdca26\"],[1.0,\"#f0f921\"]],\"type\":\"heatmap\"}],\"histogram2dcontour\":[{\"colorbar\":{\"outlinewidth\":0,\"ticks\":\"\"},\"colorscale\":[[0.0,\"#0d0887\"],[0.1111111111111111,\"#46039f\"],[0.2222222222222222,\"#7201a8\"],[0.3333333333333333,\"#9c179e\"],[0.4444444444444444,\"#bd3786\"],[0.5555555555555556,\"#d8576b\"],[0.6666666666666666,\"#ed7953\"],[0.7777777777777778,\"#fb9f3a\"],[0.8888888888888888,\"#fdca26\"],[1.0,\"#f0f921\"]],\"type\":\"histogram2dcontour\"}],\"histogram2d\":[{\"colorbar\":{\"outlinewidth\":0,\"ticks\":\"\"},\"colorscale\":[[0.0,\"#0d0887\"],[0.1111111111111111,\"#46039f\"],[0.2222222222222222,\"#7201a8\"],[0.3333333333333333,\"#9c179e\"],[0.4444444444444444,\"#bd3786\"],[0.5555555555555556,\"#d8576b\"],[0.6666666666666666,\"#ed7953\"],[0.7777777777777778,\"#fb9f3a\"],[0.8888888888888888,\"#fdca26\"],[1.0,\"#f0f921\"]],\"type\":\"histogram2d\"}],\"histogram\":[{\"marker\":{\"pattern\":{\"fillmode\":\"overlay\",\"size\":10,\"solidity\":0.2}},\"type\":\"histogram\"}],\"mesh3d\":[{\"colorbar\":{\"outlinewidth\":0,\"ticks\":\"\"},\"type\":\"mesh3d\"}],\"parcoords\":[{\"line\":{\"colorbar\":{\"outlinewidth\":0,\"ticks\":\"\"}},\"type\":\"parcoords\"}],\"pie\":[{\"automargin\":true,\"type\":\"pie\"}],\"scatter3d\":[{\"line\":{\"colorbar\":{\"outlinewidth\":0,\"ticks\":\"\"}},\"marker\":{\"colorbar\":{\"outlinewidth\":0,\"ticks\":\"\"}},\"type\":\"scatter3d\"}],\"scattercarpet\":[{\"marker\":{\"colorbar\":{\"outlinewidth\":0,\"ticks\":\"\"}},\"type\":\"scattercarpet\"}],\"scattergeo\":[{\"marker\":{\"colorbar\":{\"outlinewidth\":0,\"ticks\":\"\"}},\"type\":\"scattergeo\"}],\"scattergl\":[{\"marker\":{\"colorbar\":{\"outlinewidth\":0,\"ticks\":\"\"}},\"type\":\"scattergl\"}],\"scattermapbox\":[{\"marker\":{\"colorbar\":{\"outlinewidth\":0,\"ticks\":\"\"}},\"type\":\"scattermapbox\"}],\"scatterpolargl\":[{\"marker\":{\"colorbar\":{\"outlinewidth\":0,\"ticks\":\"\"}},\"type\":\"scatterpolargl\"}],\"scatterpolar\":[{\"marker\":{\"colorbar\":{\"outlinewidth\":0,\"ticks\":\"\"}},\"type\":\"scatterpolar\"}],\"scatter\":[{\"fillpattern\":{\"fillmode\":\"overlay\",\"size\":10,\"solidity\":0.2},\"type\":\"scatter\"}],\"scatterternary\":[{\"marker\":{\"colorbar\":{\"outlinewidth\":0,\"ticks\":\"\"}},\"type\":\"scatterternary\"}],\"surface\":[{\"colorbar\":{\"outlinewidth\":0,\"ticks\":\"\"},\"colorscale\":[[0.0,\"#0d0887\"],[0.1111111111111111,\"#46039f\"],[0.2222222222222222,\"#7201a8\"],[0.3333333333333333,\"#9c179e\"],[0.4444444444444444,\"#bd3786\"],[0.5555555555555556,\"#d8576b\"],[0.6666666666666666,\"#ed7953\"],[0.7777777777777778,\"#fb9f3a\"],[0.8888888888888888,\"#fdca26\"],[1.0,\"#f0f921\"]],\"type\":\"surface\"}],\"table\":[{\"cells\":{\"fill\":{\"color\":\"#EBF0F8\"},\"line\":{\"color\":\"white\"}},\"header\":{\"fill\":{\"color\":\"#C8D4E3\"},\"line\":{\"color\":\"white\"}},\"type\":\"table\"}]},\"layout\":{\"annotationdefaults\":{\"arrowcolor\":\"#2a3f5f\",\"arrowhead\":0,\"arrowwidth\":1},\"autotypenumbers\":\"strict\",\"coloraxis\":{\"colorbar\":{\"outlinewidth\":0,\"ticks\":\"\"}},\"colorscale\":{\"diverging\":[[0,\"#8e0152\"],[0.1,\"#c51b7d\"],[0.2,\"#de77ae\"],[0.3,\"#f1b6da\"],[0.4,\"#fde0ef\"],[0.5,\"#f7f7f7\"],[0.6,\"#e6f5d0\"],[0.7,\"#b8e186\"],[0.8,\"#7fbc41\"],[0.9,\"#4d9221\"],[1,\"#276419\"]],\"sequential\":[[0.0,\"#0d0887\"],[0.1111111111111111,\"#46039f\"],[0.2222222222222222,\"#7201a8\"],[0.3333333333333333,\"#9c179e\"],[0.4444444444444444,\"#bd3786\"],[0.5555555555555556,\"#d8576b\"],[0.6666666666666666,\"#ed7953\"],[0.7777777777777778,\"#fb9f3a\"],[0.8888888888888888,\"#fdca26\"],[1.0,\"#f0f921\"]],\"sequentialminus\":[[0.0,\"#0d0887\"],[0.1111111111111111,\"#46039f\"],[0.2222222222222222,\"#7201a8\"],[0.3333333333333333,\"#9c179e\"],[0.4444444444444444,\"#bd3786\"],[0.5555555555555556,\"#d8576b\"],[0.6666666666666666,\"#ed7953\"],[0.7777777777777778,\"#fb9f3a\"],[0.8888888888888888,\"#fdca26\"],[1.0,\"#f0f921\"]]},\"colorway\":[\"#636efa\",\"#EF553B\",\"#00cc96\",\"#ab63fa\",\"#FFA15A\",\"#19d3f3\",\"#FF6692\",\"#B6E880\",\"#FF97FF\",\"#FECB52\"],\"font\":{\"color\":\"#2a3f5f\"},\"geo\":{\"bgcolor\":\"white\",\"lakecolor\":\"white\",\"landcolor\":\"white\",\"showlakes\":true,\"showland\":true,\"subunitcolor\":\"#C8D4E3\"},\"hoverlabel\":{\"align\":\"left\"},\"hovermode\":\"closest\",\"mapbox\":{\"style\":\"light\"},\"paper_bgcolor\":\"white\",\"plot_bgcolor\":\"white\",\"polar\":{\"angularaxis\":{\"gridcolor\":\"#EBF0F8\",\"linecolor\":\"#EBF0F8\",\"ticks\":\"\"},\"bgcolor\":\"white\",\"radialaxis\":{\"gridcolor\":\"#EBF0F8\",\"linecolor\":\"#EBF0F8\",\"ticks\":\"\"}},\"scene\":{\"xaxis\":{\"backgroundcolor\":\"white\",\"gridcolor\":\"#DFE8F3\",\"gridwidth\":2,\"linecolor\":\"#EBF0F8\",\"showbackground\":true,\"ticks\":\"\",\"zerolinecolor\":\"#EBF0F8\"},\"yaxis\":{\"backgroundcolor\":\"white\",\"gridcolor\":\"#DFE8F3\",\"gridwidth\":2,\"linecolor\":\"#EBF0F8\",\"showbackground\":true,\"ticks\":\"\",\"zerolinecolor\":\"#EBF0F8\"},\"zaxis\":{\"backgroundcolor\":\"white\",\"gridcolor\":\"#DFE8F3\",\"gridwidth\":2,\"linecolor\":\"#EBF0F8\",\"showbackground\":true,\"ticks\":\"\",\"zerolinecolor\":\"#EBF0F8\"}},\"shapedefaults\":{\"line\":{\"color\":\"#2a3f5f\"}},\"ternary\":{\"aaxis\":{\"gridcolor\":\"#DFE8F3\",\"linecolor\":\"#A2B1C6\",\"ticks\":\"\"},\"baxis\":{\"gridcolor\":\"#DFE8F3\",\"linecolor\":\"#A2B1C6\",\"ticks\":\"\"},\"bgcolor\":\"white\",\"caxis\":{\"gridcolor\":\"#DFE8F3\",\"linecolor\":\"#A2B1C6\",\"ticks\":\"\"}},\"title\":{\"x\":0.05},\"xaxis\":{\"automargin\":true,\"gridcolor\":\"#EBF0F8\",\"linecolor\":\"#EBF0F8\",\"ticks\":\"\",\"title\":{\"standoff\":15},\"zerolinecolor\":\"#EBF0F8\",\"zerolinewidth\":2},\"yaxis\":{\"automargin\":true,\"gridcolor\":\"#EBF0F8\",\"linecolor\":\"#EBF0F8\",\"ticks\":\"\",\"title\":{\"standoff\":15},\"zerolinecolor\":\"#EBF0F8\",\"zerolinewidth\":2}}},\"title\":{\"text\":\"Percentage of Games Requiring 4GB or 8GB RAM\"}},                        {\"responsive\": true}                    ).then(function(){\n",
       "                            \n",
       "var gd = document.getElementById('4bf67deb-ca3d-454a-af39-510f6fcac616');\n",
       "var x = new MutationObserver(function (mutations, observer) {{\n",
       "        var display = window.getComputedStyle(gd).display;\n",
       "        if (!display || display === 'none') {{\n",
       "            console.log([gd, 'removed!']);\n",
       "            Plotly.purge(gd);\n",
       "            observer.disconnect();\n",
       "        }}\n",
       "}});\n",
       "\n",
       "// Listen for the removal of the full notebook cells\n",
       "var notebookContainer = gd.closest('#notebook-container');\n",
       "if (notebookContainer) {{\n",
       "    x.observe(notebookContainer, {childList: true});\n",
       "}}\n",
       "\n",
       "// Listen for the clearing of the current output cell\n",
       "var outputEl = gd.closest('.output');\n",
       "if (outputEl) {{\n",
       "    x.observe(outputEl, {childList: true});\n",
       "}}\n",
       "\n",
       "                        })                };                });            </script>        </div>"
      ]
     },
     "metadata": {},
     "output_type": "display_data"
    }
   ],
   "source": [
    "import plotly.graph_objects as go\n",
    "\n",
    "labels = ['4 GB RAM', '8 GB RAM', 'Other']\n",
    "\n",
    "values = [games_4gb, games_8gb, total_games - games_4gb - games_8gb]\n",
    "\n",
    "fig = go.Figure(\n",
    "    data=[\n",
    "        go.Pie(\n",
    "            labels=labels,\n",
    "            values=values,\n",
    "            textinfo='label+percent',\n",
    "            insidetextorientation='radial',\n",
    "            marker=dict(colors=['#0000b4', '#4d4dff', '#9999ff'])\n",
    "        )\n",
    "    ]\n",
    ")\n",
    "\n",
    "fig.update_layout(\n",
    "    title='Percentage of Games Requiring 4GB or 8GB RAM',\n",
    "    template='plotly_white'\n",
    ")\n",
    "\n",
    "fig.show()\n"
   ]
  },
  {
   "cell_type": "code",
   "execution_count": 80,
   "id": "1940e491",
   "metadata": {},
   "outputs": [
    {
     "data": {
      "text/html": [
       "<div>\n",
       "<style scoped>\n",
       "    .dataframe tbody tr th:only-of-type {\n",
       "        vertical-align: middle;\n",
       "    }\n",
       "\n",
       "    .dataframe tbody tr th {\n",
       "        vertical-align: top;\n",
       "    }\n",
       "\n",
       "    .dataframe thead th {\n",
       "        text-align: right;\n",
       "    }\n",
       "</style>\n",
       "<table border=\"1\" class=\"dataframe\">\n",
       "  <thead>\n",
       "    <tr style=\"text-align: right;\">\n",
       "      <th></th>\n",
       "      <th>Unnamed: 0</th>\n",
       "      <th>Game Names</th>\n",
       "      <th>Price</th>\n",
       "      <th>Processor_main</th>\n",
       "      <th>Memory</th>\n",
       "      <th>Graphics</th>\n",
       "      <th>Storage</th>\n",
       "      <th>years</th>\n",
       "    </tr>\n",
       "  </thead>\n",
       "  <tbody>\n",
       "    <tr>\n",
       "      <th>1</th>\n",
       "      <td>1</td>\n",
       "      <td>War Thunder  Su39 Pack</td>\n",
       "      <td>No Price</td>\n",
       "      <td>2,2 GHz</td>\n",
       "      <td>1 GB RAM</td>\n",
       "      <td>Nvidia GeForce 6XXX series or higher; AMD Rade...</td>\n",
       "      <td>2 GB</td>\n",
       "      <td>2023</td>\n",
       "    </tr>\n",
       "    <tr>\n",
       "      <th>3</th>\n",
       "      <td>3</td>\n",
       "      <td>The Riftbreaker Heart of the Swamp</td>\n",
       "      <td>Your Price:106.00 SR</td>\n",
       "      <td>Intel i5 gen 2 or AMD Bulldozer {4 cores)</td>\n",
       "      <td>8 GB RAM</td>\n",
       "      <td>Nvidia GTX 750 2GB or AMD R7 265 2GB</td>\n",
       "      <td>12 GB</td>\n",
       "      <td>2024</td>\n",
       "    </tr>\n",
       "    <tr>\n",
       "      <th>5</th>\n",
       "      <td>5</td>\n",
       "      <td>Techtonica</td>\n",
       "      <td>Your Price:91.33 SR</td>\n",
       "      <td>Intel Core or AMD Ryzen</td>\n",
       "      <td>8 GB RAM</td>\n",
       "      <td>GeForce GTX 1650 4GB VRAM (or equivalent) / AM...</td>\n",
       "      <td>15 GB</td>\n",
       "      <td>2023</td>\n",
       "    </tr>\n",
       "    <tr>\n",
       "      <th>10</th>\n",
       "      <td>11</td>\n",
       "      <td>WARNO  Digital Guides</td>\n",
       "      <td>333.27 SR</td>\n",
       "      <td>Intel Celeron G4920 (Legacy: i3-2100) , AMD At...</td>\n",
       "      <td>4 GB RAM</td>\n",
       "      <td>Nvidia GeForce GT 1030 (Legacy: Nvidia GeForce...</td>\n",
       "      <td>50 GB</td>\n",
       "      <td>2024</td>\n",
       "    </tr>\n",
       "    <tr>\n",
       "      <th>15</th>\n",
       "      <td>16</td>\n",
       "      <td>Expansion  Europa Universalis IV Domination</td>\n",
       "      <td>Your Price:1,000.80 SR</td>\n",
       "      <td>Intel® Core™ i3-2105 / AMD® FX 4300</td>\n",
       "      <td>4 GB RAM</td>\n",
       "      <td>Nvidia® GeForce™ GTX 460 / AMD® Radeon™ HD 585...</td>\n",
       "      <td>20 GB</td>\n",
       "      <td>2023</td>\n",
       "    </tr>\n",
       "    <tr>\n",
       "      <th>...</th>\n",
       "      <td>...</td>\n",
       "      <td>...</td>\n",
       "      <td>...</td>\n",
       "      <td>...</td>\n",
       "      <td>...</td>\n",
       "      <td>...</td>\n",
       "      <td>...</td>\n",
       "      <td>...</td>\n",
       "    </tr>\n",
       "    <tr>\n",
       "      <th>7830</th>\n",
       "      <td>8511</td>\n",
       "      <td>OMUSUBI</td>\n",
       "      <td>143.07 SR</td>\n",
       "      <td>Intel Core2 Duo or higher</td>\n",
       "      <td>1 GB RAM</td>\n",
       "      <td>Open GL compliant video card</td>\n",
       "      <td>1 GB</td>\n",
       "      <td>2024</td>\n",
       "    </tr>\n",
       "    <tr>\n",
       "      <th>7833</th>\n",
       "      <td>8514</td>\n",
       "      <td>My Time at Sandrock  Digital Artbook</td>\n",
       "      <td>226.16 SR</td>\n",
       "      <td>Intel Core i3-2100</td>\n",
       "      <td>8 GB RAM</td>\n",
       "      <td>Nvidia GeForce GTX760</td>\n",
       "      <td>50 GB</td>\n",
       "      <td>2024</td>\n",
       "    </tr>\n",
       "    <tr>\n",
       "      <th>7834</th>\n",
       "      <td>8515</td>\n",
       "      <td>Mushroom Season</td>\n",
       "      <td>No Price</td>\n",
       "      <td>Intel Core i5-4690 3,5GHz</td>\n",
       "      <td>8 GB RAM</td>\n",
       "      <td>GeForce GTX 970</td>\n",
       "      <td>4 GB</td>\n",
       "      <td>2024</td>\n",
       "    </tr>\n",
       "    <tr>\n",
       "      <th>7835</th>\n",
       "      <td>8516</td>\n",
       "      <td>F1 Manager 2024  Deluxe Upgrade Pack</td>\n",
       "      <td>No Price</td>\n",
       "      <td>Intel Core i5-4590 or AMD FX-8370</td>\n",
       "      <td>8 GB RAM</td>\n",
       "      <td>Nvidia GeForce GTX 960 or AMD R9 280x (3GB VRAM)</td>\n",
       "      <td>30 GB</td>\n",
       "      <td>2024</td>\n",
       "    </tr>\n",
       "    <tr>\n",
       "      <th>7841</th>\n",
       "      <td>8522</td>\n",
       "      <td>A fascinating story</td>\n",
       "      <td>56.04 SR</td>\n",
       "      <td>Intel Core i5</td>\n",
       "      <td>4 GB RAM</td>\n",
       "      <td>NVIDIA Gef750</td>\n",
       "      <td>8 GB</td>\n",
       "      <td>2024</td>\n",
       "    </tr>\n",
       "  </tbody>\n",
       "</table>\n",
       "<p>2856 rows × 8 columns</p>\n",
       "</div>"
      ],
      "text/plain": [
       "      Unnamed: 0                                   Game Names  \\\n",
       "1              1                       War Thunder  Su39 Pack   \n",
       "3              3           The Riftbreaker Heart of the Swamp   \n",
       "5              5                                   Techtonica   \n",
       "10            11                        WARNO  Digital Guides   \n",
       "15            16  Expansion  Europa Universalis IV Domination   \n",
       "...          ...                                          ...   \n",
       "7830        8511                                      OMUSUBI   \n",
       "7833        8514         My Time at Sandrock  Digital Artbook   \n",
       "7834        8515                              Mushroom Season   \n",
       "7835        8516         F1 Manager 2024  Deluxe Upgrade Pack   \n",
       "7841        8522                          A fascinating story   \n",
       "\n",
       "                       Price  \\\n",
       "1                   No Price   \n",
       "3       Your Price:106.00 SR   \n",
       "5        Your Price:91.33 SR   \n",
       "10                 333.27 SR   \n",
       "15    Your Price:1,000.80 SR   \n",
       "...                      ...   \n",
       "7830               143.07 SR   \n",
       "7833               226.16 SR   \n",
       "7834                No Price   \n",
       "7835                No Price   \n",
       "7841                56.04 SR   \n",
       "\n",
       "                                         Processor_main    Memory  \\\n",
       "1                                               2,2 GHz  1 GB RAM   \n",
       "3             Intel i5 gen 2 or AMD Bulldozer {4 cores)  8 GB RAM   \n",
       "5                               Intel Core or AMD Ryzen  8 GB RAM   \n",
       "10    Intel Celeron G4920 (Legacy: i3-2100) , AMD At...  4 GB RAM   \n",
       "15                  Intel® Core™ i3-2105 / AMD® FX 4300  4 GB RAM   \n",
       "...                                                 ...       ...   \n",
       "7830                          Intel Core2 Duo or higher  1 GB RAM   \n",
       "7833                                 Intel Core i3-2100  8 GB RAM   \n",
       "7834                          Intel Core i5-4690 3,5GHz  8 GB RAM   \n",
       "7835                  Intel Core i5-4590 or AMD FX-8370  8 GB RAM   \n",
       "7841                                      Intel Core i5  4 GB RAM   \n",
       "\n",
       "                                               Graphics Storage  years  \n",
       "1     Nvidia GeForce 6XXX series or higher; AMD Rade...    2 GB   2023  \n",
       "3                  Nvidia GTX 750 2GB or AMD R7 265 2GB   12 GB   2024  \n",
       "5     GeForce GTX 1650 4GB VRAM (or equivalent) / AM...   15 GB   2023  \n",
       "10    Nvidia GeForce GT 1030 (Legacy: Nvidia GeForce...   50 GB   2024  \n",
       "15    Nvidia® GeForce™ GTX 460 / AMD® Radeon™ HD 585...   20 GB   2023  \n",
       "...                                                 ...     ...    ...  \n",
       "7830                       Open GL compliant video card    1 GB   2024  \n",
       "7833                              Nvidia GeForce GTX760   50 GB   2024  \n",
       "7834                                    GeForce GTX 970    4 GB   2024  \n",
       "7835   Nvidia GeForce GTX 960 or AMD R9 280x (3GB VRAM)   30 GB   2024  \n",
       "7841                                      NVIDIA Gef750    8 GB   2024  \n",
       "\n",
       "[2856 rows x 8 columns]"
      ]
     },
     "execution_count": 80,
     "metadata": {},
     "output_type": "execute_result"
    }
   ],
   "source": [
    "### insight 3:\n",
    "#### 3/ Based on the most commonly used graphics cards in 2023 and 2024, it is evident that games in these years generally require powerful graphics processors.\n",
    "df_steam[(df_steam['years'] == 2023) | (df_steam['years'] == 2024)]   # games"
   ]
  },
  {
   "cell_type": "code",
   "execution_count": 81,
   "id": "0f2ff8cd",
   "metadata": {},
   "outputs": [
    {
     "data": {
      "text/plain": [
       "Graphics\n",
       "NVIDIA GTX 1650 Super or AMD Radeon RX 5500 XT, with a minimum of 4GB of VRAM    152\n",
       "DirectX 9/OpenGL 4.1 capable GPU                                                 124\n",
       "Intel HD                                                                          91\n",
       "3D                                                                                54\n",
       "NVIDIA GeForce GTX 660 or AMD Radeon RX 460 or Intel HD 630 (2GB VRAM)            46\n",
       "                                                                                ... \n",
       "640 x 360 32 bit                                                                   1\n",
       "AMD R9 380 4GB / GTX 960 4GB                                                       1\n",
       "Any with OpenGL 3.3 Support or better, Intel HD                                    1\n",
       "NVIDIA GeForce GTX 660 2GB or AMD Radeon HD 7850 2GB                               1\n",
       "NVIDIA GeForce 940MX                                                               1\n",
       "Name: count, Length: 3263, dtype: int64"
      ]
     },
     "execution_count": 81,
     "metadata": {},
     "output_type": "execute_result"
    }
   ],
   "source": [
    "df_steam['Graphics'].value_counts()"
   ]
  },
  {
   "cell_type": "code",
   "execution_count": 82,
   "id": "0755a5aa",
   "metadata": {},
   "outputs": [],
   "source": [
    "df_graphics_nv = df_steam[df_steam['Graphics'] == 'NVIDIA GTX 1650 Super or AMD Radeon RX 5500 XT, with a minimum of 4GB of VRAM']"
   ]
  },
  {
   "cell_type": "code",
   "execution_count": 83,
   "id": "4a051de8",
   "metadata": {},
   "outputs": [
    {
     "data": {
      "text/plain": [
       "array([   0, 2023, 2020, 2024, 2021, 2018, 2022, 2019, 2016, 2017, 2015])"
      ]
     },
     "execution_count": 83,
     "metadata": {},
     "output_type": "execute_result"
    }
   ],
   "source": [
    "df_graphics_nv['years'].unique()"
   ]
  },
  {
   "cell_type": "code",
   "execution_count": 84,
   "id": "77ad8bf6",
   "metadata": {},
   "outputs": [
    {
     "name": "stdout",
     "output_type": "stream",
     "text": [
      "Requirement already satisfied: fuzzywuzzy in c:\\users\\hatoo\\anaconda3\\lib\\site-packages (0.18.0)\n",
      "Note: you may need to restart the kernel to use updated packages.\n"
     ]
    }
   ],
   "source": [
    "pip install fuzzywuzzy"
   ]
  },
  {
   "cell_type": "code",
   "execution_count": 85,
   "id": "7684ab9a",
   "metadata": {},
   "outputs": [
    {
     "data": {
      "text/html": [
       "<div>\n",
       "<style scoped>\n",
       "    .dataframe tbody tr th:only-of-type {\n",
       "        vertical-align: middle;\n",
       "    }\n",
       "\n",
       "    .dataframe tbody tr th {\n",
       "        vertical-align: top;\n",
       "    }\n",
       "\n",
       "    .dataframe thead th {\n",
       "        text-align: right;\n",
       "    }\n",
       "</style>\n",
       "<table border=\"1\" class=\"dataframe\">\n",
       "  <thead>\n",
       "    <tr style=\"text-align: right;\">\n",
       "      <th></th>\n",
       "      <th>Unnamed: 0</th>\n",
       "      <th>Game Names</th>\n",
       "      <th>Price</th>\n",
       "      <th>Processor_main</th>\n",
       "      <th>Memory</th>\n",
       "      <th>Graphics</th>\n",
       "      <th>Storage</th>\n",
       "      <th>years</th>\n",
       "    </tr>\n",
       "  </thead>\n",
       "  <tbody>\n",
       "    <tr>\n",
       "      <th>4967</th>\n",
       "      <td>5527</td>\n",
       "      <td>Black Myth Wukong</td>\n",
       "      <td>No Price</td>\n",
       "      <td>Intel Core i5-8400 / AMD Ryzen 5 1600</td>\n",
       "      <td>16 GB RAM</td>\n",
       "      <td>NVIDIA GeForce GTX 1060 6GB / AMD Radeon RX 58...</td>\n",
       "      <td>130 GB</td>\n",
       "      <td>2024</td>\n",
       "    </tr>\n",
       "  </tbody>\n",
       "</table>\n",
       "</div>"
      ],
      "text/plain": [
       "      Unnamed: 0         Game Names     Price  \\\n",
       "4967        5527  Black Myth Wukong  No Price   \n",
       "\n",
       "                             Processor_main     Memory  \\\n",
       "4967  Intel Core i5-8400 / AMD Ryzen 5 1600  16 GB RAM   \n",
       "\n",
       "                                               Graphics Storage  years  \n",
       "4967  NVIDIA GeForce GTX 1060 6GB / AMD Radeon RX 58...  130 GB   2024  "
      ]
     },
     "execution_count": 85,
     "metadata": {},
     "output_type": "execute_result"
    }
   ],
   "source": [
    "# find the top 5 sellers games and their requirements \n",
    "df_steam[df_steam['Game Names'] == 'Black Myth Wukong']"
   ]
  },
  {
   "cell_type": "code",
   "execution_count": 86,
   "id": "11ea04c6",
   "metadata": {},
   "outputs": [
    {
     "data": {
      "text/html": [
       "<div>\n",
       "<style scoped>\n",
       "    .dataframe tbody tr th:only-of-type {\n",
       "        vertical-align: middle;\n",
       "    }\n",
       "\n",
       "    .dataframe tbody tr th {\n",
       "        vertical-align: top;\n",
       "    }\n",
       "\n",
       "    .dataframe thead th {\n",
       "        text-align: right;\n",
       "    }\n",
       "</style>\n",
       "<table border=\"1\" class=\"dataframe\">\n",
       "  <thead>\n",
       "    <tr style=\"text-align: right;\">\n",
       "      <th></th>\n",
       "      <th>Unnamed: 0</th>\n",
       "      <th>Game Names</th>\n",
       "      <th>Price</th>\n",
       "      <th>Processor_main</th>\n",
       "      <th>Memory</th>\n",
       "      <th>Graphics</th>\n",
       "      <th>Storage</th>\n",
       "      <th>years</th>\n",
       "    </tr>\n",
       "  </thead>\n",
       "  <tbody>\n",
       "    <tr>\n",
       "      <th>4967</th>\n",
       "      <td>5527</td>\n",
       "      <td>Black Myth Wukong</td>\n",
       "      <td>No Price</td>\n",
       "      <td>Intel Core i5-8400 / AMD Ryzen 5 1600</td>\n",
       "      <td>16 GB RAM</td>\n",
       "      <td>NVIDIA GeForce GTX 1060 6GB / AMD Radeon RX 58...</td>\n",
       "      <td>130 GB</td>\n",
       "      <td>2024</td>\n",
       "    </tr>\n",
       "  </tbody>\n",
       "</table>\n",
       "</div>"
      ],
      "text/plain": [
       "      Unnamed: 0         Game Names     Price  \\\n",
       "4967        5527  Black Myth Wukong  No Price   \n",
       "\n",
       "                             Processor_main     Memory  \\\n",
       "4967  Intel Core i5-8400 / AMD Ryzen 5 1600  16 GB RAM   \n",
       "\n",
       "                                               Graphics Storage  years  \n",
       "4967  NVIDIA GeForce GTX 1060 6GB / AMD Radeon RX 58...  130 GB   2024  "
      ]
     },
     "execution_count": 86,
     "metadata": {},
     "output_type": "execute_result"
    }
   ],
   "source": [
    "df_steam[df_steam['Game Names'] == 'Black Myth Wukong']"
   ]
  },
  {
   "cell_type": "code",
   "execution_count": null,
   "id": "e8fb84df",
   "metadata": {},
   "outputs": [],
   "source": []
  },
  {
   "cell_type": "code",
   "execution_count": null,
   "id": "3ae83080",
   "metadata": {},
   "outputs": [],
   "source": []
  },
  {
   "cell_type": "code",
   "execution_count": 87,
   "id": "6ea52ca6",
   "metadata": {},
   "outputs": [],
   "source": [
    "def convert_memory_to_gb(memory_str):\n",
    "    try:\n",
    "        if 'MB' in memory_str:\n",
    "            return float(memory_str.replace('MB RAM', '').strip()) / 1024\n",
    "        elif 'GB' in memory_str:\n",
    "            return float(memory_str.replace('GB RAM', '').strip())\n",
    "        else:\n",
    "            return np.nan  # Return NaN for any unexpected format\n",
    "    except:\n",
    "        return np.nan  # Return NaN in case of any error during conversion\n",
    "\n",
    "df_steam['Memory_GB'] = df_steam['Memory'].apply(convert_memory_to_gb)\n",
    "\n",
    "def convert_storage_to_gb(storage_str):\n",
    "    try:\n",
    "        if 'MB' in storage_str:\n",
    "            return float(storage_str.replace('MB', '').strip()) / 1024\n",
    "        elif 'GB' in storage_str:\n",
    "            return float(storage_str.replace('GB', '').strip())\n",
    "        else:\n",
    "            return np.nan  # Return NaN for any unexpected format\n",
    "    except:\n",
    "        return np.nan  # Return NaN in case of any error during conversion\n",
    "\n",
    "df_steam['Storage_GB'] = df_steam['Storage'].apply(convert_storage_to_gb)"
   ]
  },
  {
   "cell_type": "code",
   "execution_count": 88,
   "id": "606d8fea",
   "metadata": {},
   "outputs": [],
   "source": [
    "high_memory_threshold = 8  # 8 GB RAM\n",
    "high_storage_threshold = 50  # 50 GB Storage"
   ]
  },
  {
   "cell_type": "code",
   "execution_count": 89,
   "id": "ffa1dece",
   "metadata": {},
   "outputs": [],
   "source": [
    "high_requirements_games = df_steam[\n",
    "    (df_steam['Memory_GB'] >= high_memory_threshold) & \n",
    "    (df_steam['Storage_GB'] >= high_storage_threshold)\n",
    "]"
   ]
  },
  {
   "cell_type": "code",
   "execution_count": 90,
   "id": "506e8474",
   "metadata": {},
   "outputs": [],
   "source": [
    "top_10_memory_games = high_requirements_games.sort_values(by='Memory_GB', ascending=False).head(30)\n",
    "top_10_storage_games = high_requirements_games.sort_values(by='Storage_GB', ascending=False).head(30)\n"
   ]
  },
  {
   "cell_type": "code",
   "execution_count": 91,
   "id": "2d4cead8",
   "metadata": {},
   "outputs": [],
   "source": [
    "custom_colors = ['#0000b4', '#4d4dff', '#9999ff']\n"
   ]
  },
  {
   "cell_type": "code",
   "execution_count": 92,
   "id": "6507cf32",
   "metadata": {
    "scrolled": true
   },
   "outputs": [
    {
     "data": {
      "application/vnd.plotly.v1+json": {
       "config": {
        "plotlyServerURL": "https://plot.ly"
       },
       "data": [
        {
         "hovertemplate": "Memory (GB)=%{marker.size}<br>Game Names=%{y}<extra></extra>",
         "legendgroup": "",
         "marker": {
          "color": "#0000b4",
          "size": [
           16,
           16,
           16,
           16,
           16,
           16,
           16,
           16,
           16,
           16,
           16,
           16,
           16,
           16,
           16,
           16,
           16,
           16,
           16,
           16,
           16,
           16,
           16,
           16,
           16,
           16,
           16,
           16,
           16,
           16
          ],
          "sizemode": "area",
          "sizeref": 0.04,
          "symbol": "circle"
         },
         "mode": "markers",
         "name": "",
         "orientation": "h",
         "showlegend": false,
         "type": "scatter",
         "x": [
          16,
          16,
          16,
          16,
          16,
          16,
          16,
          16,
          16,
          16,
          16,
          16,
          16,
          16,
          16,
          16,
          16,
          16,
          16,
          16,
          16,
          16,
          16,
          16,
          16,
          16,
          16,
          16,
          16,
          16
         ],
         "xaxis": "x",
         "y": [
          "Avatar Frontiers of Pandora  Sky Rider Starter Pack",
          "Forspoken",
          "SCUM Vehicle Skins Pack",
          "Mortal Online 2",
          "RoboCop Rogue City",
          "Into the Radius 2",
          "Black Myth Wukong Deluxe Edition Upgrade",
          "PAYDAY 3",
          "IL2 Sturmovik Battle of Normandy",
          "The Walking Dead Saints  Sinners  Chapter 2 Retribution",
          "SCUM",
          "Nightingale",
          "Pax Dei",
          "Wayfinder",
          "Starfield",
          "PAYDAY 3 Houston Breakout Heist",
          "TerraTech Worlds",
          "ARK Survival Ascended",
          "Redfall",
          "Hogwarts Legacy",
          "Legendary Tales",
          "Black Myth Wukong",
          "Football Simulator",
          "Granblue Fantasy Relink  Character Expansion Set Sandalphon",
          "Icarus Interior Decorations Pack",
          "Granblue Fantasy Relink  Character Expansion Set Tweyen",
          "Icarus Everbark Outpost",
          "Arizona Sunshine Remake",
          "Icarus Tecton Outpost",
          "Pax Dei Journeyman to Artisan Upgrade Pack"
         ],
         "yaxis": "y"
        }
       ],
       "layout": {
        "legend": {
         "itemsizing": "constant",
         "tracegroupgap": 0
        },
        "template": {
         "data": {
          "bar": [
           {
            "error_x": {
             "color": "#2a3f5f"
            },
            "error_y": {
             "color": "#2a3f5f"
            },
            "marker": {
             "line": {
              "color": "#E5ECF6",
              "width": 0.5
             },
             "pattern": {
              "fillmode": "overlay",
              "size": 10,
              "solidity": 0.2
             }
            },
            "type": "bar"
           }
          ],
          "barpolar": [
           {
            "marker": {
             "line": {
              "color": "#E5ECF6",
              "width": 0.5
             },
             "pattern": {
              "fillmode": "overlay",
              "size": 10,
              "solidity": 0.2
             }
            },
            "type": "barpolar"
           }
          ],
          "carpet": [
           {
            "aaxis": {
             "endlinecolor": "#2a3f5f",
             "gridcolor": "white",
             "linecolor": "white",
             "minorgridcolor": "white",
             "startlinecolor": "#2a3f5f"
            },
            "baxis": {
             "endlinecolor": "#2a3f5f",
             "gridcolor": "white",
             "linecolor": "white",
             "minorgridcolor": "white",
             "startlinecolor": "#2a3f5f"
            },
            "type": "carpet"
           }
          ],
          "choropleth": [
           {
            "colorbar": {
             "outlinewidth": 0,
             "ticks": ""
            },
            "type": "choropleth"
           }
          ],
          "contour": [
           {
            "colorbar": {
             "outlinewidth": 0,
             "ticks": ""
            },
            "colorscale": [
             [
              0,
              "#0d0887"
             ],
             [
              0.1111111111111111,
              "#46039f"
             ],
             [
              0.2222222222222222,
              "#7201a8"
             ],
             [
              0.3333333333333333,
              "#9c179e"
             ],
             [
              0.4444444444444444,
              "#bd3786"
             ],
             [
              0.5555555555555556,
              "#d8576b"
             ],
             [
              0.6666666666666666,
              "#ed7953"
             ],
             [
              0.7777777777777778,
              "#fb9f3a"
             ],
             [
              0.8888888888888888,
              "#fdca26"
             ],
             [
              1,
              "#f0f921"
             ]
            ],
            "type": "contour"
           }
          ],
          "contourcarpet": [
           {
            "colorbar": {
             "outlinewidth": 0,
             "ticks": ""
            },
            "type": "contourcarpet"
           }
          ],
          "heatmap": [
           {
            "colorbar": {
             "outlinewidth": 0,
             "ticks": ""
            },
            "colorscale": [
             [
              0,
              "#0d0887"
             ],
             [
              0.1111111111111111,
              "#46039f"
             ],
             [
              0.2222222222222222,
              "#7201a8"
             ],
             [
              0.3333333333333333,
              "#9c179e"
             ],
             [
              0.4444444444444444,
              "#bd3786"
             ],
             [
              0.5555555555555556,
              "#d8576b"
             ],
             [
              0.6666666666666666,
              "#ed7953"
             ],
             [
              0.7777777777777778,
              "#fb9f3a"
             ],
             [
              0.8888888888888888,
              "#fdca26"
             ],
             [
              1,
              "#f0f921"
             ]
            ],
            "type": "heatmap"
           }
          ],
          "heatmapgl": [
           {
            "colorbar": {
             "outlinewidth": 0,
             "ticks": ""
            },
            "colorscale": [
             [
              0,
              "#0d0887"
             ],
             [
              0.1111111111111111,
              "#46039f"
             ],
             [
              0.2222222222222222,
              "#7201a8"
             ],
             [
              0.3333333333333333,
              "#9c179e"
             ],
             [
              0.4444444444444444,
              "#bd3786"
             ],
             [
              0.5555555555555556,
              "#d8576b"
             ],
             [
              0.6666666666666666,
              "#ed7953"
             ],
             [
              0.7777777777777778,
              "#fb9f3a"
             ],
             [
              0.8888888888888888,
              "#fdca26"
             ],
             [
              1,
              "#f0f921"
             ]
            ],
            "type": "heatmapgl"
           }
          ],
          "histogram": [
           {
            "marker": {
             "pattern": {
              "fillmode": "overlay",
              "size": 10,
              "solidity": 0.2
             }
            },
            "type": "histogram"
           }
          ],
          "histogram2d": [
           {
            "colorbar": {
             "outlinewidth": 0,
             "ticks": ""
            },
            "colorscale": [
             [
              0,
              "#0d0887"
             ],
             [
              0.1111111111111111,
              "#46039f"
             ],
             [
              0.2222222222222222,
              "#7201a8"
             ],
             [
              0.3333333333333333,
              "#9c179e"
             ],
             [
              0.4444444444444444,
              "#bd3786"
             ],
             [
              0.5555555555555556,
              "#d8576b"
             ],
             [
              0.6666666666666666,
              "#ed7953"
             ],
             [
              0.7777777777777778,
              "#fb9f3a"
             ],
             [
              0.8888888888888888,
              "#fdca26"
             ],
             [
              1,
              "#f0f921"
             ]
            ],
            "type": "histogram2d"
           }
          ],
          "histogram2dcontour": [
           {
            "colorbar": {
             "outlinewidth": 0,
             "ticks": ""
            },
            "colorscale": [
             [
              0,
              "#0d0887"
             ],
             [
              0.1111111111111111,
              "#46039f"
             ],
             [
              0.2222222222222222,
              "#7201a8"
             ],
             [
              0.3333333333333333,
              "#9c179e"
             ],
             [
              0.4444444444444444,
              "#bd3786"
             ],
             [
              0.5555555555555556,
              "#d8576b"
             ],
             [
              0.6666666666666666,
              "#ed7953"
             ],
             [
              0.7777777777777778,
              "#fb9f3a"
             ],
             [
              0.8888888888888888,
              "#fdca26"
             ],
             [
              1,
              "#f0f921"
             ]
            ],
            "type": "histogram2dcontour"
           }
          ],
          "mesh3d": [
           {
            "colorbar": {
             "outlinewidth": 0,
             "ticks": ""
            },
            "type": "mesh3d"
           }
          ],
          "parcoords": [
           {
            "line": {
             "colorbar": {
              "outlinewidth": 0,
              "ticks": ""
             }
            },
            "type": "parcoords"
           }
          ],
          "pie": [
           {
            "automargin": true,
            "type": "pie"
           }
          ],
          "scatter": [
           {
            "fillpattern": {
             "fillmode": "overlay",
             "size": 10,
             "solidity": 0.2
            },
            "type": "scatter"
           }
          ],
          "scatter3d": [
           {
            "line": {
             "colorbar": {
              "outlinewidth": 0,
              "ticks": ""
             }
            },
            "marker": {
             "colorbar": {
              "outlinewidth": 0,
              "ticks": ""
             }
            },
            "type": "scatter3d"
           }
          ],
          "scattercarpet": [
           {
            "marker": {
             "colorbar": {
              "outlinewidth": 0,
              "ticks": ""
             }
            },
            "type": "scattercarpet"
           }
          ],
          "scattergeo": [
           {
            "marker": {
             "colorbar": {
              "outlinewidth": 0,
              "ticks": ""
             }
            },
            "type": "scattergeo"
           }
          ],
          "scattergl": [
           {
            "marker": {
             "colorbar": {
              "outlinewidth": 0,
              "ticks": ""
             }
            },
            "type": "scattergl"
           }
          ],
          "scattermapbox": [
           {
            "marker": {
             "colorbar": {
              "outlinewidth": 0,
              "ticks": ""
             }
            },
            "type": "scattermapbox"
           }
          ],
          "scatterpolar": [
           {
            "marker": {
             "colorbar": {
              "outlinewidth": 0,
              "ticks": ""
             }
            },
            "type": "scatterpolar"
           }
          ],
          "scatterpolargl": [
           {
            "marker": {
             "colorbar": {
              "outlinewidth": 0,
              "ticks": ""
             }
            },
            "type": "scatterpolargl"
           }
          ],
          "scatterternary": [
           {
            "marker": {
             "colorbar": {
              "outlinewidth": 0,
              "ticks": ""
             }
            },
            "type": "scatterternary"
           }
          ],
          "surface": [
           {
            "colorbar": {
             "outlinewidth": 0,
             "ticks": ""
            },
            "colorscale": [
             [
              0,
              "#0d0887"
             ],
             [
              0.1111111111111111,
              "#46039f"
             ],
             [
              0.2222222222222222,
              "#7201a8"
             ],
             [
              0.3333333333333333,
              "#9c179e"
             ],
             [
              0.4444444444444444,
              "#bd3786"
             ],
             [
              0.5555555555555556,
              "#d8576b"
             ],
             [
              0.6666666666666666,
              "#ed7953"
             ],
             [
              0.7777777777777778,
              "#fb9f3a"
             ],
             [
              0.8888888888888888,
              "#fdca26"
             ],
             [
              1,
              "#f0f921"
             ]
            ],
            "type": "surface"
           }
          ],
          "table": [
           {
            "cells": {
             "fill": {
              "color": "#EBF0F8"
             },
             "line": {
              "color": "white"
             }
            },
            "header": {
             "fill": {
              "color": "#C8D4E3"
             },
             "line": {
              "color": "white"
             }
            },
            "type": "table"
           }
          ]
         },
         "layout": {
          "annotationdefaults": {
           "arrowcolor": "#2a3f5f",
           "arrowhead": 0,
           "arrowwidth": 1
          },
          "autotypenumbers": "strict",
          "coloraxis": {
           "colorbar": {
            "outlinewidth": 0,
            "ticks": ""
           }
          },
          "colorscale": {
           "diverging": [
            [
             0,
             "#8e0152"
            ],
            [
             0.1,
             "#c51b7d"
            ],
            [
             0.2,
             "#de77ae"
            ],
            [
             0.3,
             "#f1b6da"
            ],
            [
             0.4,
             "#fde0ef"
            ],
            [
             0.5,
             "#f7f7f7"
            ],
            [
             0.6,
             "#e6f5d0"
            ],
            [
             0.7,
             "#b8e186"
            ],
            [
             0.8,
             "#7fbc41"
            ],
            [
             0.9,
             "#4d9221"
            ],
            [
             1,
             "#276419"
            ]
           ],
           "sequential": [
            [
             0,
             "#0d0887"
            ],
            [
             0.1111111111111111,
             "#46039f"
            ],
            [
             0.2222222222222222,
             "#7201a8"
            ],
            [
             0.3333333333333333,
             "#9c179e"
            ],
            [
             0.4444444444444444,
             "#bd3786"
            ],
            [
             0.5555555555555556,
             "#d8576b"
            ],
            [
             0.6666666666666666,
             "#ed7953"
            ],
            [
             0.7777777777777778,
             "#fb9f3a"
            ],
            [
             0.8888888888888888,
             "#fdca26"
            ],
            [
             1,
             "#f0f921"
            ]
           ],
           "sequentialminus": [
            [
             0,
             "#0d0887"
            ],
            [
             0.1111111111111111,
             "#46039f"
            ],
            [
             0.2222222222222222,
             "#7201a8"
            ],
            [
             0.3333333333333333,
             "#9c179e"
            ],
            [
             0.4444444444444444,
             "#bd3786"
            ],
            [
             0.5555555555555556,
             "#d8576b"
            ],
            [
             0.6666666666666666,
             "#ed7953"
            ],
            [
             0.7777777777777778,
             "#fb9f3a"
            ],
            [
             0.8888888888888888,
             "#fdca26"
            ],
            [
             1,
             "#f0f921"
            ]
           ]
          },
          "colorway": [
           "#636efa",
           "#EF553B",
           "#00cc96",
           "#ab63fa",
           "#FFA15A",
           "#19d3f3",
           "#FF6692",
           "#B6E880",
           "#FF97FF",
           "#FECB52"
          ],
          "font": {
           "color": "#2a3f5f"
          },
          "geo": {
           "bgcolor": "white",
           "lakecolor": "white",
           "landcolor": "#E5ECF6",
           "showlakes": true,
           "showland": true,
           "subunitcolor": "white"
          },
          "hoverlabel": {
           "align": "left"
          },
          "hovermode": "closest",
          "mapbox": {
           "style": "light"
          },
          "paper_bgcolor": "white",
          "plot_bgcolor": "#E5ECF6",
          "polar": {
           "angularaxis": {
            "gridcolor": "white",
            "linecolor": "white",
            "ticks": ""
           },
           "bgcolor": "#E5ECF6",
           "radialaxis": {
            "gridcolor": "white",
            "linecolor": "white",
            "ticks": ""
           }
          },
          "scene": {
           "xaxis": {
            "backgroundcolor": "#E5ECF6",
            "gridcolor": "white",
            "gridwidth": 2,
            "linecolor": "white",
            "showbackground": true,
            "ticks": "",
            "zerolinecolor": "white"
           },
           "yaxis": {
            "backgroundcolor": "#E5ECF6",
            "gridcolor": "white",
            "gridwidth": 2,
            "linecolor": "white",
            "showbackground": true,
            "ticks": "",
            "zerolinecolor": "white"
           },
           "zaxis": {
            "backgroundcolor": "#E5ECF6",
            "gridcolor": "white",
            "gridwidth": 2,
            "linecolor": "white",
            "showbackground": true,
            "ticks": "",
            "zerolinecolor": "white"
           }
          },
          "shapedefaults": {
           "line": {
            "color": "#2a3f5f"
           }
          },
          "ternary": {
           "aaxis": {
            "gridcolor": "white",
            "linecolor": "white",
            "ticks": ""
           },
           "baxis": {
            "gridcolor": "white",
            "linecolor": "white",
            "ticks": ""
           },
           "bgcolor": "#E5ECF6",
           "caxis": {
            "gridcolor": "white",
            "linecolor": "white",
            "ticks": ""
           }
          },
          "title": {
           "x": 0.05
          },
          "xaxis": {
           "automargin": true,
           "gridcolor": "white",
           "linecolor": "white",
           "ticks": "",
           "title": {
            "standoff": 15
           },
           "zerolinecolor": "white",
           "zerolinewidth": 2
          },
          "yaxis": {
           "automargin": true,
           "gridcolor": "white",
           "linecolor": "white",
           "ticks": "",
           "title": {
            "standoff": 15
           },
           "zerolinecolor": "white",
           "zerolinewidth": 2
          }
         }
        },
        "title": {
         "text": "Top 10 Games by Memory Requirements (GB)"
        },
        "xaxis": {
         "anchor": "y",
         "domain": [
          0,
          1
         ],
         "title": {
          "text": "Memory (GB)"
         }
        },
        "yaxis": {
         "anchor": "x",
         "domain": [
          0,
          1
         ],
         "title": {
          "text": "Game Names"
         }
        }
       }
      },
      "text/html": [
       "<div>                            <div id=\"aafa3c3e-066d-4f3f-b98c-7a5a60a2ccf1\" class=\"plotly-graph-div\" style=\"height:525px; width:100%;\"></div>            <script type=\"text/javascript\">                require([\"plotly\"], function(Plotly) {                    window.PLOTLYENV=window.PLOTLYENV || {};                                    if (document.getElementById(\"aafa3c3e-066d-4f3f-b98c-7a5a60a2ccf1\")) {                    Plotly.newPlot(                        \"aafa3c3e-066d-4f3f-b98c-7a5a60a2ccf1\",                        [{\"hovertemplate\":\"Memory (GB)=%{marker.size}<br>Game Names=%{y}<extra></extra>\",\"legendgroup\":\"\",\"marker\":{\"color\":\"#0000b4\",\"size\":[16.0,16.0,16.0,16.0,16.0,16.0,16.0,16.0,16.0,16.0,16.0,16.0,16.0,16.0,16.0,16.0,16.0,16.0,16.0,16.0,16.0,16.0,16.0,16.0,16.0,16.0,16.0,16.0,16.0,16.0],\"sizemode\":\"area\",\"sizeref\":0.04,\"symbol\":\"circle\"},\"mode\":\"markers\",\"name\":\"\",\"orientation\":\"h\",\"showlegend\":false,\"x\":[16.0,16.0,16.0,16.0,16.0,16.0,16.0,16.0,16.0,16.0,16.0,16.0,16.0,16.0,16.0,16.0,16.0,16.0,16.0,16.0,16.0,16.0,16.0,16.0,16.0,16.0,16.0,16.0,16.0,16.0],\"xaxis\":\"x\",\"y\":[\"Avatar Frontiers of Pandora  Sky Rider Starter Pack\",\"Forspoken\",\"SCUM Vehicle Skins Pack\",\"Mortal Online 2\",\"RoboCop Rogue City\",\"Into the Radius 2\",\"Black Myth Wukong Deluxe Edition Upgrade\",\"PAYDAY 3\",\"IL2 Sturmovik Battle of Normandy\",\"The Walking Dead Saints  Sinners  Chapter 2 Retribution\",\"SCUM\",\"Nightingale\",\"Pax Dei\",\"Wayfinder\",\"Starfield\",\"PAYDAY 3 Houston Breakout Heist\",\"TerraTech Worlds\",\"ARK Survival Ascended\",\"Redfall\",\"Hogwarts Legacy\",\"Legendary Tales\",\"Black Myth Wukong\",\"Football Simulator\",\"Granblue Fantasy Relink  Character Expansion Set Sandalphon\",\"Icarus Interior Decorations Pack\",\"Granblue Fantasy Relink  Character Expansion Set Tweyen\",\"Icarus Everbark Outpost\",\"Arizona Sunshine Remake\",\"Icarus Tecton Outpost\",\"Pax Dei Journeyman to Artisan Upgrade Pack\"],\"yaxis\":\"y\",\"type\":\"scatter\"}],                        {\"template\":{\"data\":{\"histogram2dcontour\":[{\"type\":\"histogram2dcontour\",\"colorbar\":{\"outlinewidth\":0,\"ticks\":\"\"},\"colorscale\":[[0.0,\"#0d0887\"],[0.1111111111111111,\"#46039f\"],[0.2222222222222222,\"#7201a8\"],[0.3333333333333333,\"#9c179e\"],[0.4444444444444444,\"#bd3786\"],[0.5555555555555556,\"#d8576b\"],[0.6666666666666666,\"#ed7953\"],[0.7777777777777778,\"#fb9f3a\"],[0.8888888888888888,\"#fdca26\"],[1.0,\"#f0f921\"]]}],\"choropleth\":[{\"type\":\"choropleth\",\"colorbar\":{\"outlinewidth\":0,\"ticks\":\"\"}}],\"histogram2d\":[{\"type\":\"histogram2d\",\"colorbar\":{\"outlinewidth\":0,\"ticks\":\"\"},\"colorscale\":[[0.0,\"#0d0887\"],[0.1111111111111111,\"#46039f\"],[0.2222222222222222,\"#7201a8\"],[0.3333333333333333,\"#9c179e\"],[0.4444444444444444,\"#bd3786\"],[0.5555555555555556,\"#d8576b\"],[0.6666666666666666,\"#ed7953\"],[0.7777777777777778,\"#fb9f3a\"],[0.8888888888888888,\"#fdca26\"],[1.0,\"#f0f921\"]]}],\"heatmap\":[{\"type\":\"heatmap\",\"colorbar\":{\"outlinewidth\":0,\"ticks\":\"\"},\"colorscale\":[[0.0,\"#0d0887\"],[0.1111111111111111,\"#46039f\"],[0.2222222222222222,\"#7201a8\"],[0.3333333333333333,\"#9c179e\"],[0.4444444444444444,\"#bd3786\"],[0.5555555555555556,\"#d8576b\"],[0.6666666666666666,\"#ed7953\"],[0.7777777777777778,\"#fb9f3a\"],[0.8888888888888888,\"#fdca26\"],[1.0,\"#f0f921\"]]}],\"heatmapgl\":[{\"type\":\"heatmapgl\",\"colorbar\":{\"outlinewidth\":0,\"ticks\":\"\"},\"colorscale\":[[0.0,\"#0d0887\"],[0.1111111111111111,\"#46039f\"],[0.2222222222222222,\"#7201a8\"],[0.3333333333333333,\"#9c179e\"],[0.4444444444444444,\"#bd3786\"],[0.5555555555555556,\"#d8576b\"],[0.6666666666666666,\"#ed7953\"],[0.7777777777777778,\"#fb9f3a\"],[0.8888888888888888,\"#fdca26\"],[1.0,\"#f0f921\"]]}],\"contourcarpet\":[{\"type\":\"contourcarpet\",\"colorbar\":{\"outlinewidth\":0,\"ticks\":\"\"}}],\"contour\":[{\"type\":\"contour\",\"colorbar\":{\"outlinewidth\":0,\"ticks\":\"\"},\"colorscale\":[[0.0,\"#0d0887\"],[0.1111111111111111,\"#46039f\"],[0.2222222222222222,\"#7201a8\"],[0.3333333333333333,\"#9c179e\"],[0.4444444444444444,\"#bd3786\"],[0.5555555555555556,\"#d8576b\"],[0.6666666666666666,\"#ed7953\"],[0.7777777777777778,\"#fb9f3a\"],[0.8888888888888888,\"#fdca26\"],[1.0,\"#f0f921\"]]}],\"surface\":[{\"type\":\"surface\",\"colorbar\":{\"outlinewidth\":0,\"ticks\":\"\"},\"colorscale\":[[0.0,\"#0d0887\"],[0.1111111111111111,\"#46039f\"],[0.2222222222222222,\"#7201a8\"],[0.3333333333333333,\"#9c179e\"],[0.4444444444444444,\"#bd3786\"],[0.5555555555555556,\"#d8576b\"],[0.6666666666666666,\"#ed7953\"],[0.7777777777777778,\"#fb9f3a\"],[0.8888888888888888,\"#fdca26\"],[1.0,\"#f0f921\"]]}],\"mesh3d\":[{\"type\":\"mesh3d\",\"colorbar\":{\"outlinewidth\":0,\"ticks\":\"\"}}],\"scatter\":[{\"fillpattern\":{\"fillmode\":\"overlay\",\"size\":10,\"solidity\":0.2},\"type\":\"scatter\"}],\"parcoords\":[{\"type\":\"parcoords\",\"line\":{\"colorbar\":{\"outlinewidth\":0,\"ticks\":\"\"}}}],\"scatterpolargl\":[{\"type\":\"scatterpolargl\",\"marker\":{\"colorbar\":{\"outlinewidth\":0,\"ticks\":\"\"}}}],\"bar\":[{\"error_x\":{\"color\":\"#2a3f5f\"},\"error_y\":{\"color\":\"#2a3f5f\"},\"marker\":{\"line\":{\"color\":\"#E5ECF6\",\"width\":0.5},\"pattern\":{\"fillmode\":\"overlay\",\"size\":10,\"solidity\":0.2}},\"type\":\"bar\"}],\"scattergeo\":[{\"type\":\"scattergeo\",\"marker\":{\"colorbar\":{\"outlinewidth\":0,\"ticks\":\"\"}}}],\"scatterpolar\":[{\"type\":\"scatterpolar\",\"marker\":{\"colorbar\":{\"outlinewidth\":0,\"ticks\":\"\"}}}],\"histogram\":[{\"marker\":{\"pattern\":{\"fillmode\":\"overlay\",\"size\":10,\"solidity\":0.2}},\"type\":\"histogram\"}],\"scattergl\":[{\"type\":\"scattergl\",\"marker\":{\"colorbar\":{\"outlinewidth\":0,\"ticks\":\"\"}}}],\"scatter3d\":[{\"type\":\"scatter3d\",\"line\":{\"colorbar\":{\"outlinewidth\":0,\"ticks\":\"\"}},\"marker\":{\"colorbar\":{\"outlinewidth\":0,\"ticks\":\"\"}}}],\"scattermapbox\":[{\"type\":\"scattermapbox\",\"marker\":{\"colorbar\":{\"outlinewidth\":0,\"ticks\":\"\"}}}],\"scatterternary\":[{\"type\":\"scatterternary\",\"marker\":{\"colorbar\":{\"outlinewidth\":0,\"ticks\":\"\"}}}],\"scattercarpet\":[{\"type\":\"scattercarpet\",\"marker\":{\"colorbar\":{\"outlinewidth\":0,\"ticks\":\"\"}}}],\"carpet\":[{\"aaxis\":{\"endlinecolor\":\"#2a3f5f\",\"gridcolor\":\"white\",\"linecolor\":\"white\",\"minorgridcolor\":\"white\",\"startlinecolor\":\"#2a3f5f\"},\"baxis\":{\"endlinecolor\":\"#2a3f5f\",\"gridcolor\":\"white\",\"linecolor\":\"white\",\"minorgridcolor\":\"white\",\"startlinecolor\":\"#2a3f5f\"},\"type\":\"carpet\"}],\"table\":[{\"cells\":{\"fill\":{\"color\":\"#EBF0F8\"},\"line\":{\"color\":\"white\"}},\"header\":{\"fill\":{\"color\":\"#C8D4E3\"},\"line\":{\"color\":\"white\"}},\"type\":\"table\"}],\"barpolar\":[{\"marker\":{\"line\":{\"color\":\"#E5ECF6\",\"width\":0.5},\"pattern\":{\"fillmode\":\"overlay\",\"size\":10,\"solidity\":0.2}},\"type\":\"barpolar\"}],\"pie\":[{\"automargin\":true,\"type\":\"pie\"}]},\"layout\":{\"autotypenumbers\":\"strict\",\"colorway\":[\"#636efa\",\"#EF553B\",\"#00cc96\",\"#ab63fa\",\"#FFA15A\",\"#19d3f3\",\"#FF6692\",\"#B6E880\",\"#FF97FF\",\"#FECB52\"],\"font\":{\"color\":\"#2a3f5f\"},\"hovermode\":\"closest\",\"hoverlabel\":{\"align\":\"left\"},\"paper_bgcolor\":\"white\",\"plot_bgcolor\":\"#E5ECF6\",\"polar\":{\"bgcolor\":\"#E5ECF6\",\"angularaxis\":{\"gridcolor\":\"white\",\"linecolor\":\"white\",\"ticks\":\"\"},\"radialaxis\":{\"gridcolor\":\"white\",\"linecolor\":\"white\",\"ticks\":\"\"}},\"ternary\":{\"bgcolor\":\"#E5ECF6\",\"aaxis\":{\"gridcolor\":\"white\",\"linecolor\":\"white\",\"ticks\":\"\"},\"baxis\":{\"gridcolor\":\"white\",\"linecolor\":\"white\",\"ticks\":\"\"},\"caxis\":{\"gridcolor\":\"white\",\"linecolor\":\"white\",\"ticks\":\"\"}},\"coloraxis\":{\"colorbar\":{\"outlinewidth\":0,\"ticks\":\"\"}},\"colorscale\":{\"sequential\":[[0.0,\"#0d0887\"],[0.1111111111111111,\"#46039f\"],[0.2222222222222222,\"#7201a8\"],[0.3333333333333333,\"#9c179e\"],[0.4444444444444444,\"#bd3786\"],[0.5555555555555556,\"#d8576b\"],[0.6666666666666666,\"#ed7953\"],[0.7777777777777778,\"#fb9f3a\"],[0.8888888888888888,\"#fdca26\"],[1.0,\"#f0f921\"]],\"sequentialminus\":[[0.0,\"#0d0887\"],[0.1111111111111111,\"#46039f\"],[0.2222222222222222,\"#7201a8\"],[0.3333333333333333,\"#9c179e\"],[0.4444444444444444,\"#bd3786\"],[0.5555555555555556,\"#d8576b\"],[0.6666666666666666,\"#ed7953\"],[0.7777777777777778,\"#fb9f3a\"],[0.8888888888888888,\"#fdca26\"],[1.0,\"#f0f921\"]],\"diverging\":[[0,\"#8e0152\"],[0.1,\"#c51b7d\"],[0.2,\"#de77ae\"],[0.3,\"#f1b6da\"],[0.4,\"#fde0ef\"],[0.5,\"#f7f7f7\"],[0.6,\"#e6f5d0\"],[0.7,\"#b8e186\"],[0.8,\"#7fbc41\"],[0.9,\"#4d9221\"],[1,\"#276419\"]]},\"xaxis\":{\"gridcolor\":\"white\",\"linecolor\":\"white\",\"ticks\":\"\",\"title\":{\"standoff\":15},\"zerolinecolor\":\"white\",\"automargin\":true,\"zerolinewidth\":2},\"yaxis\":{\"gridcolor\":\"white\",\"linecolor\":\"white\",\"ticks\":\"\",\"title\":{\"standoff\":15},\"zerolinecolor\":\"white\",\"automargin\":true,\"zerolinewidth\":2},\"scene\":{\"xaxis\":{\"backgroundcolor\":\"#E5ECF6\",\"gridcolor\":\"white\",\"linecolor\":\"white\",\"showbackground\":true,\"ticks\":\"\",\"zerolinecolor\":\"white\",\"gridwidth\":2},\"yaxis\":{\"backgroundcolor\":\"#E5ECF6\",\"gridcolor\":\"white\",\"linecolor\":\"white\",\"showbackground\":true,\"ticks\":\"\",\"zerolinecolor\":\"white\",\"gridwidth\":2},\"zaxis\":{\"backgroundcolor\":\"#E5ECF6\",\"gridcolor\":\"white\",\"linecolor\":\"white\",\"showbackground\":true,\"ticks\":\"\",\"zerolinecolor\":\"white\",\"gridwidth\":2}},\"shapedefaults\":{\"line\":{\"color\":\"#2a3f5f\"}},\"annotationdefaults\":{\"arrowcolor\":\"#2a3f5f\",\"arrowhead\":0,\"arrowwidth\":1},\"geo\":{\"bgcolor\":\"white\",\"landcolor\":\"#E5ECF6\",\"subunitcolor\":\"white\",\"showland\":true,\"showlakes\":true,\"lakecolor\":\"white\"},\"title\":{\"x\":0.05},\"mapbox\":{\"style\":\"light\"}}},\"xaxis\":{\"anchor\":\"y\",\"domain\":[0.0,1.0],\"title\":{\"text\":\"Memory (GB)\"}},\"yaxis\":{\"anchor\":\"x\",\"domain\":[0.0,1.0],\"title\":{\"text\":\"Game Names\"}},\"legend\":{\"tracegroupgap\":0,\"itemsizing\":\"constant\"},\"title\":{\"text\":\"Top 10 Games by Memory Requirements (GB)\"}},                        {\"responsive\": true}                    ).then(function(){\n",
       "                            \n",
       "var gd = document.getElementById('aafa3c3e-066d-4f3f-b98c-7a5a60a2ccf1');\n",
       "var x = new MutationObserver(function (mutations, observer) {{\n",
       "        var display = window.getComputedStyle(gd).display;\n",
       "        if (!display || display === 'none') {{\n",
       "            console.log([gd, 'removed!']);\n",
       "            Plotly.purge(gd);\n",
       "            observer.disconnect();\n",
       "        }}\n",
       "}});\n",
       "\n",
       "// Listen for the removal of the full notebook cells\n",
       "var notebookContainer = gd.closest('#notebook-container');\n",
       "if (notebookContainer) {{\n",
       "    x.observe(notebookContainer, {childList: true});\n",
       "}}\n",
       "\n",
       "// Listen for the clearing of the current output cell\n",
       "var outputEl = gd.closest('.output');\n",
       "if (outputEl) {{\n",
       "    x.observe(outputEl, {childList: true});\n",
       "}}\n",
       "\n",
       "                        })                };                });            </script>        </div>"
      ]
     },
     "metadata": {},
     "output_type": "display_data"
    }
   ],
   "source": [
    "fig_memory_bubble = px.scatter(top_10_memory_games, \n",
    "                               x='Memory_GB', \n",
    "                               y='Game Names', \n",
    "                               size='Memory_GB', \n",
    "                               color_discrete_sequence=custom_colors[:10],\n",
    "                               title='Top 10 Games by Memory Requirements (GB)',\n",
    "                               labels={'Memory_GB': 'Memory (GB)', 'Game Names': 'Game Names'},\n",
    "                               )\n",
    "fig_memory_bubble.show()"
   ]
  },
  {
   "cell_type": "code",
   "execution_count": 93,
   "id": "58a1f435",
   "metadata": {},
   "outputs": [
    {
     "data": {
      "application/vnd.plotly.v1+json": {
       "config": {
        "plotlyServerURL": "https://plot.ly"
       },
       "data": [
        {
         "hovertemplate": "Storage (GB)=%{marker.size}<br>Game Names=%{y}<extra></extra>",
         "legendgroup": "",
         "marker": {
          "color": "#0000b4",
          "size": [
           200,
           190,
           180,
           180,
           175,
           175,
           170,
           170,
           160,
           155,
           150,
           150,
           150,
           150,
           150,
           150,
           150,
           150,
           140,
           140,
           140,
           140,
           140,
           130,
           130,
           130,
           130,
           126,
           125,
           125
          ],
          "sizemode": "area",
          "sizeref": 0.5,
          "symbol": "circle"
         },
         "mode": "markers",
         "name": "",
         "orientation": "h",
         "showlegend": false,
         "type": "scatter",
         "x": [
          200,
          190,
          180,
          180,
          175,
          175,
          170,
          170,
          160,
          155,
          150,
          150,
          150,
          150,
          150,
          150,
          150,
          150,
          140,
          140,
          140,
          140,
          140,
          130,
          130,
          130,
          130,
          126,
          125,
          125
         ],
         "xaxis": "x",
         "y": [
          "DCS World Steam Edition",
          "God of War Ragnarok",
          "Medal of Honor Above and Beyond",
          "Medal of Honor Above and Beyond",
          "Call of Duty Modern Warfare",
          "Call of Duty Black Ops Cold War",
          "Far Cry 6 Lost Between Worlds",
          "Far Cry 6",
          "Assassins Creed Valhalla",
          "STAR WARS Jedi Survivor",
          "STALKER 2 Heart of Chornobyl",
          "Red Dead Redemption 2",
          "Microsoft Flight Simulator 40th Anniversary Edition",
          "NBA 2K25",
          "Baldurs Gate 3",
          "Horizon Forbidden West Complete Edition",
          "Forspoken",
          "Red Dead Online",
          "Mortal Kombat 1",
          "FINAL FANTASY XIV Dawntrail",
          "MK1 Khaos Reigns Expansion",
          "MK1 Takeda Takahashi",
          "FINAL FANTASY XIV Online",
          "STAR WARS Jedi Survivor Deluxe Upgrade",
          "Black Myth Wukong Deluxe Edition Upgrade",
          "Black Myth Wukong",
          "Forza Motorsport",
          "UNCHARTED Legacy of Thieves Collection",
          "Call of Duty Modern Warfare II  Manticore Pro Pack",
          "Call of Duty Modern Warfare II  Desert Rogue Pro Pack"
         ],
         "yaxis": "y"
        }
       ],
       "layout": {
        "legend": {
         "itemsizing": "constant",
         "tracegroupgap": 0
        },
        "template": {
         "data": {
          "bar": [
           {
            "error_x": {
             "color": "#2a3f5f"
            },
            "error_y": {
             "color": "#2a3f5f"
            },
            "marker": {
             "line": {
              "color": "#E5ECF6",
              "width": 0.5
             },
             "pattern": {
              "fillmode": "overlay",
              "size": 10,
              "solidity": 0.2
             }
            },
            "type": "bar"
           }
          ],
          "barpolar": [
           {
            "marker": {
             "line": {
              "color": "#E5ECF6",
              "width": 0.5
             },
             "pattern": {
              "fillmode": "overlay",
              "size": 10,
              "solidity": 0.2
             }
            },
            "type": "barpolar"
           }
          ],
          "carpet": [
           {
            "aaxis": {
             "endlinecolor": "#2a3f5f",
             "gridcolor": "white",
             "linecolor": "white",
             "minorgridcolor": "white",
             "startlinecolor": "#2a3f5f"
            },
            "baxis": {
             "endlinecolor": "#2a3f5f",
             "gridcolor": "white",
             "linecolor": "white",
             "minorgridcolor": "white",
             "startlinecolor": "#2a3f5f"
            },
            "type": "carpet"
           }
          ],
          "choropleth": [
           {
            "colorbar": {
             "outlinewidth": 0,
             "ticks": ""
            },
            "type": "choropleth"
           }
          ],
          "contour": [
           {
            "colorbar": {
             "outlinewidth": 0,
             "ticks": ""
            },
            "colorscale": [
             [
              0,
              "#0d0887"
             ],
             [
              0.1111111111111111,
              "#46039f"
             ],
             [
              0.2222222222222222,
              "#7201a8"
             ],
             [
              0.3333333333333333,
              "#9c179e"
             ],
             [
              0.4444444444444444,
              "#bd3786"
             ],
             [
              0.5555555555555556,
              "#d8576b"
             ],
             [
              0.6666666666666666,
              "#ed7953"
             ],
             [
              0.7777777777777778,
              "#fb9f3a"
             ],
             [
              0.8888888888888888,
              "#fdca26"
             ],
             [
              1,
              "#f0f921"
             ]
            ],
            "type": "contour"
           }
          ],
          "contourcarpet": [
           {
            "colorbar": {
             "outlinewidth": 0,
             "ticks": ""
            },
            "type": "contourcarpet"
           }
          ],
          "heatmap": [
           {
            "colorbar": {
             "outlinewidth": 0,
             "ticks": ""
            },
            "colorscale": [
             [
              0,
              "#0d0887"
             ],
             [
              0.1111111111111111,
              "#46039f"
             ],
             [
              0.2222222222222222,
              "#7201a8"
             ],
             [
              0.3333333333333333,
              "#9c179e"
             ],
             [
              0.4444444444444444,
              "#bd3786"
             ],
             [
              0.5555555555555556,
              "#d8576b"
             ],
             [
              0.6666666666666666,
              "#ed7953"
             ],
             [
              0.7777777777777778,
              "#fb9f3a"
             ],
             [
              0.8888888888888888,
              "#fdca26"
             ],
             [
              1,
              "#f0f921"
             ]
            ],
            "type": "heatmap"
           }
          ],
          "heatmapgl": [
           {
            "colorbar": {
             "outlinewidth": 0,
             "ticks": ""
            },
            "colorscale": [
             [
              0,
              "#0d0887"
             ],
             [
              0.1111111111111111,
              "#46039f"
             ],
             [
              0.2222222222222222,
              "#7201a8"
             ],
             [
              0.3333333333333333,
              "#9c179e"
             ],
             [
              0.4444444444444444,
              "#bd3786"
             ],
             [
              0.5555555555555556,
              "#d8576b"
             ],
             [
              0.6666666666666666,
              "#ed7953"
             ],
             [
              0.7777777777777778,
              "#fb9f3a"
             ],
             [
              0.8888888888888888,
              "#fdca26"
             ],
             [
              1,
              "#f0f921"
             ]
            ],
            "type": "heatmapgl"
           }
          ],
          "histogram": [
           {
            "marker": {
             "pattern": {
              "fillmode": "overlay",
              "size": 10,
              "solidity": 0.2
             }
            },
            "type": "histogram"
           }
          ],
          "histogram2d": [
           {
            "colorbar": {
             "outlinewidth": 0,
             "ticks": ""
            },
            "colorscale": [
             [
              0,
              "#0d0887"
             ],
             [
              0.1111111111111111,
              "#46039f"
             ],
             [
              0.2222222222222222,
              "#7201a8"
             ],
             [
              0.3333333333333333,
              "#9c179e"
             ],
             [
              0.4444444444444444,
              "#bd3786"
             ],
             [
              0.5555555555555556,
              "#d8576b"
             ],
             [
              0.6666666666666666,
              "#ed7953"
             ],
             [
              0.7777777777777778,
              "#fb9f3a"
             ],
             [
              0.8888888888888888,
              "#fdca26"
             ],
             [
              1,
              "#f0f921"
             ]
            ],
            "type": "histogram2d"
           }
          ],
          "histogram2dcontour": [
           {
            "colorbar": {
             "outlinewidth": 0,
             "ticks": ""
            },
            "colorscale": [
             [
              0,
              "#0d0887"
             ],
             [
              0.1111111111111111,
              "#46039f"
             ],
             [
              0.2222222222222222,
              "#7201a8"
             ],
             [
              0.3333333333333333,
              "#9c179e"
             ],
             [
              0.4444444444444444,
              "#bd3786"
             ],
             [
              0.5555555555555556,
              "#d8576b"
             ],
             [
              0.6666666666666666,
              "#ed7953"
             ],
             [
              0.7777777777777778,
              "#fb9f3a"
             ],
             [
              0.8888888888888888,
              "#fdca26"
             ],
             [
              1,
              "#f0f921"
             ]
            ],
            "type": "histogram2dcontour"
           }
          ],
          "mesh3d": [
           {
            "colorbar": {
             "outlinewidth": 0,
             "ticks": ""
            },
            "type": "mesh3d"
           }
          ],
          "parcoords": [
           {
            "line": {
             "colorbar": {
              "outlinewidth": 0,
              "ticks": ""
             }
            },
            "type": "parcoords"
           }
          ],
          "pie": [
           {
            "automargin": true,
            "type": "pie"
           }
          ],
          "scatter": [
           {
            "fillpattern": {
             "fillmode": "overlay",
             "size": 10,
             "solidity": 0.2
            },
            "type": "scatter"
           }
          ],
          "scatter3d": [
           {
            "line": {
             "colorbar": {
              "outlinewidth": 0,
              "ticks": ""
             }
            },
            "marker": {
             "colorbar": {
              "outlinewidth": 0,
              "ticks": ""
             }
            },
            "type": "scatter3d"
           }
          ],
          "scattercarpet": [
           {
            "marker": {
             "colorbar": {
              "outlinewidth": 0,
              "ticks": ""
             }
            },
            "type": "scattercarpet"
           }
          ],
          "scattergeo": [
           {
            "marker": {
             "colorbar": {
              "outlinewidth": 0,
              "ticks": ""
             }
            },
            "type": "scattergeo"
           }
          ],
          "scattergl": [
           {
            "marker": {
             "colorbar": {
              "outlinewidth": 0,
              "ticks": ""
             }
            },
            "type": "scattergl"
           }
          ],
          "scattermapbox": [
           {
            "marker": {
             "colorbar": {
              "outlinewidth": 0,
              "ticks": ""
             }
            },
            "type": "scattermapbox"
           }
          ],
          "scatterpolar": [
           {
            "marker": {
             "colorbar": {
              "outlinewidth": 0,
              "ticks": ""
             }
            },
            "type": "scatterpolar"
           }
          ],
          "scatterpolargl": [
           {
            "marker": {
             "colorbar": {
              "outlinewidth": 0,
              "ticks": ""
             }
            },
            "type": "scatterpolargl"
           }
          ],
          "scatterternary": [
           {
            "marker": {
             "colorbar": {
              "outlinewidth": 0,
              "ticks": ""
             }
            },
            "type": "scatterternary"
           }
          ],
          "surface": [
           {
            "colorbar": {
             "outlinewidth": 0,
             "ticks": ""
            },
            "colorscale": [
             [
              0,
              "#0d0887"
             ],
             [
              0.1111111111111111,
              "#46039f"
             ],
             [
              0.2222222222222222,
              "#7201a8"
             ],
             [
              0.3333333333333333,
              "#9c179e"
             ],
             [
              0.4444444444444444,
              "#bd3786"
             ],
             [
              0.5555555555555556,
              "#d8576b"
             ],
             [
              0.6666666666666666,
              "#ed7953"
             ],
             [
              0.7777777777777778,
              "#fb9f3a"
             ],
             [
              0.8888888888888888,
              "#fdca26"
             ],
             [
              1,
              "#f0f921"
             ]
            ],
            "type": "surface"
           }
          ],
          "table": [
           {
            "cells": {
             "fill": {
              "color": "#EBF0F8"
             },
             "line": {
              "color": "white"
             }
            },
            "header": {
             "fill": {
              "color": "#C8D4E3"
             },
             "line": {
              "color": "white"
             }
            },
            "type": "table"
           }
          ]
         },
         "layout": {
          "annotationdefaults": {
           "arrowcolor": "#2a3f5f",
           "arrowhead": 0,
           "arrowwidth": 1
          },
          "autotypenumbers": "strict",
          "coloraxis": {
           "colorbar": {
            "outlinewidth": 0,
            "ticks": ""
           }
          },
          "colorscale": {
           "diverging": [
            [
             0,
             "#8e0152"
            ],
            [
             0.1,
             "#c51b7d"
            ],
            [
             0.2,
             "#de77ae"
            ],
            [
             0.3,
             "#f1b6da"
            ],
            [
             0.4,
             "#fde0ef"
            ],
            [
             0.5,
             "#f7f7f7"
            ],
            [
             0.6,
             "#e6f5d0"
            ],
            [
             0.7,
             "#b8e186"
            ],
            [
             0.8,
             "#7fbc41"
            ],
            [
             0.9,
             "#4d9221"
            ],
            [
             1,
             "#276419"
            ]
           ],
           "sequential": [
            [
             0,
             "#0d0887"
            ],
            [
             0.1111111111111111,
             "#46039f"
            ],
            [
             0.2222222222222222,
             "#7201a8"
            ],
            [
             0.3333333333333333,
             "#9c179e"
            ],
            [
             0.4444444444444444,
             "#bd3786"
            ],
            [
             0.5555555555555556,
             "#d8576b"
            ],
            [
             0.6666666666666666,
             "#ed7953"
            ],
            [
             0.7777777777777778,
             "#fb9f3a"
            ],
            [
             0.8888888888888888,
             "#fdca26"
            ],
            [
             1,
             "#f0f921"
            ]
           ],
           "sequentialminus": [
            [
             0,
             "#0d0887"
            ],
            [
             0.1111111111111111,
             "#46039f"
            ],
            [
             0.2222222222222222,
             "#7201a8"
            ],
            [
             0.3333333333333333,
             "#9c179e"
            ],
            [
             0.4444444444444444,
             "#bd3786"
            ],
            [
             0.5555555555555556,
             "#d8576b"
            ],
            [
             0.6666666666666666,
             "#ed7953"
            ],
            [
             0.7777777777777778,
             "#fb9f3a"
            ],
            [
             0.8888888888888888,
             "#fdca26"
            ],
            [
             1,
             "#f0f921"
            ]
           ]
          },
          "colorway": [
           "#636efa",
           "#EF553B",
           "#00cc96",
           "#ab63fa",
           "#FFA15A",
           "#19d3f3",
           "#FF6692",
           "#B6E880",
           "#FF97FF",
           "#FECB52"
          ],
          "font": {
           "color": "#2a3f5f"
          },
          "geo": {
           "bgcolor": "white",
           "lakecolor": "white",
           "landcolor": "#E5ECF6",
           "showlakes": true,
           "showland": true,
           "subunitcolor": "white"
          },
          "hoverlabel": {
           "align": "left"
          },
          "hovermode": "closest",
          "mapbox": {
           "style": "light"
          },
          "paper_bgcolor": "white",
          "plot_bgcolor": "#E5ECF6",
          "polar": {
           "angularaxis": {
            "gridcolor": "white",
            "linecolor": "white",
            "ticks": ""
           },
           "bgcolor": "#E5ECF6",
           "radialaxis": {
            "gridcolor": "white",
            "linecolor": "white",
            "ticks": ""
           }
          },
          "scene": {
           "xaxis": {
            "backgroundcolor": "#E5ECF6",
            "gridcolor": "white",
            "gridwidth": 2,
            "linecolor": "white",
            "showbackground": true,
            "ticks": "",
            "zerolinecolor": "white"
           },
           "yaxis": {
            "backgroundcolor": "#E5ECF6",
            "gridcolor": "white",
            "gridwidth": 2,
            "linecolor": "white",
            "showbackground": true,
            "ticks": "",
            "zerolinecolor": "white"
           },
           "zaxis": {
            "backgroundcolor": "#E5ECF6",
            "gridcolor": "white",
            "gridwidth": 2,
            "linecolor": "white",
            "showbackground": true,
            "ticks": "",
            "zerolinecolor": "white"
           }
          },
          "shapedefaults": {
           "line": {
            "color": "#2a3f5f"
           }
          },
          "ternary": {
           "aaxis": {
            "gridcolor": "white",
            "linecolor": "white",
            "ticks": ""
           },
           "baxis": {
            "gridcolor": "white",
            "linecolor": "white",
            "ticks": ""
           },
           "bgcolor": "#E5ECF6",
           "caxis": {
            "gridcolor": "white",
            "linecolor": "white",
            "ticks": ""
           }
          },
          "title": {
           "x": 0.05
          },
          "xaxis": {
           "automargin": true,
           "gridcolor": "white",
           "linecolor": "white",
           "ticks": "",
           "title": {
            "standoff": 15
           },
           "zerolinecolor": "white",
           "zerolinewidth": 2
          },
          "yaxis": {
           "automargin": true,
           "gridcolor": "white",
           "linecolor": "white",
           "ticks": "",
           "title": {
            "standoff": 15
           },
           "zerolinecolor": "white",
           "zerolinewidth": 2
          }
         }
        },
        "title": {
         "text": "Top 10 Games by Storage Requirements (GB)"
        },
        "xaxis": {
         "anchor": "y",
         "domain": [
          0,
          1
         ],
         "title": {
          "text": "Storage (GB)"
         }
        },
        "yaxis": {
         "anchor": "x",
         "domain": [
          0,
          1
         ],
         "title": {
          "text": "Game Names"
         }
        }
       }
      },
      "text/html": [
       "<div>                            <div id=\"66b3754b-8d5d-4521-b07b-158c45affb79\" class=\"plotly-graph-div\" style=\"height:525px; width:100%;\"></div>            <script type=\"text/javascript\">                require([\"plotly\"], function(Plotly) {                    window.PLOTLYENV=window.PLOTLYENV || {};                                    if (document.getElementById(\"66b3754b-8d5d-4521-b07b-158c45affb79\")) {                    Plotly.newPlot(                        \"66b3754b-8d5d-4521-b07b-158c45affb79\",                        [{\"hovertemplate\":\"Storage (GB)=%{marker.size}<br>Game Names=%{y}<extra></extra>\",\"legendgroup\":\"\",\"marker\":{\"color\":\"#0000b4\",\"size\":[200.0,190.0,180.0,180.0,175.0,175.0,170.0,170.0,160.0,155.0,150.0,150.0,150.0,150.0,150.0,150.0,150.0,150.0,140.0,140.0,140.0,140.0,140.0,130.0,130.0,130.0,130.0,126.0,125.0,125.0],\"sizemode\":\"area\",\"sizeref\":0.5,\"symbol\":\"circle\"},\"mode\":\"markers\",\"name\":\"\",\"orientation\":\"h\",\"showlegend\":false,\"x\":[200.0,190.0,180.0,180.0,175.0,175.0,170.0,170.0,160.0,155.0,150.0,150.0,150.0,150.0,150.0,150.0,150.0,150.0,140.0,140.0,140.0,140.0,140.0,130.0,130.0,130.0,130.0,126.0,125.0,125.0],\"xaxis\":\"x\",\"y\":[\"DCS World Steam Edition\",\"God of War Ragnarok\",\"Medal of Honor Above and Beyond\",\"Medal of Honor Above and Beyond\",\"Call of Duty Modern Warfare\",\"Call of Duty Black Ops Cold War\",\"Far Cry 6 Lost Between Worlds\",\"Far Cry 6\",\"Assassins Creed Valhalla\",\"STAR WARS Jedi Survivor\",\"STALKER 2 Heart of Chornobyl\",\"Red Dead Redemption 2\",\"Microsoft Flight Simulator 40th Anniversary Edition\",\"NBA 2K25\",\"Baldurs Gate 3\",\"Horizon Forbidden West Complete Edition\",\"Forspoken\",\"Red Dead Online\",\"Mortal Kombat 1\",\"FINAL FANTASY XIV Dawntrail\",\"MK1 Khaos Reigns Expansion\",\"MK1 Takeda Takahashi\",\"FINAL FANTASY XIV Online\",\"STAR WARS Jedi Survivor Deluxe Upgrade\",\"Black Myth Wukong Deluxe Edition Upgrade\",\"Black Myth Wukong\",\"Forza Motorsport\",\"UNCHARTED Legacy of Thieves Collection\",\"Call of Duty Modern Warfare II  Manticore Pro Pack\",\"Call of Duty Modern Warfare II  Desert Rogue Pro Pack\"],\"yaxis\":\"y\",\"type\":\"scatter\"}],                        {\"template\":{\"data\":{\"histogram2dcontour\":[{\"type\":\"histogram2dcontour\",\"colorbar\":{\"outlinewidth\":0,\"ticks\":\"\"},\"colorscale\":[[0.0,\"#0d0887\"],[0.1111111111111111,\"#46039f\"],[0.2222222222222222,\"#7201a8\"],[0.3333333333333333,\"#9c179e\"],[0.4444444444444444,\"#bd3786\"],[0.5555555555555556,\"#d8576b\"],[0.6666666666666666,\"#ed7953\"],[0.7777777777777778,\"#fb9f3a\"],[0.8888888888888888,\"#fdca26\"],[1.0,\"#f0f921\"]]}],\"choropleth\":[{\"type\":\"choropleth\",\"colorbar\":{\"outlinewidth\":0,\"ticks\":\"\"}}],\"histogram2d\":[{\"type\":\"histogram2d\",\"colorbar\":{\"outlinewidth\":0,\"ticks\":\"\"},\"colorscale\":[[0.0,\"#0d0887\"],[0.1111111111111111,\"#46039f\"],[0.2222222222222222,\"#7201a8\"],[0.3333333333333333,\"#9c179e\"],[0.4444444444444444,\"#bd3786\"],[0.5555555555555556,\"#d8576b\"],[0.6666666666666666,\"#ed7953\"],[0.7777777777777778,\"#fb9f3a\"],[0.8888888888888888,\"#fdca26\"],[1.0,\"#f0f921\"]]}],\"heatmap\":[{\"type\":\"heatmap\",\"colorbar\":{\"outlinewidth\":0,\"ticks\":\"\"},\"colorscale\":[[0.0,\"#0d0887\"],[0.1111111111111111,\"#46039f\"],[0.2222222222222222,\"#7201a8\"],[0.3333333333333333,\"#9c179e\"],[0.4444444444444444,\"#bd3786\"],[0.5555555555555556,\"#d8576b\"],[0.6666666666666666,\"#ed7953\"],[0.7777777777777778,\"#fb9f3a\"],[0.8888888888888888,\"#fdca26\"],[1.0,\"#f0f921\"]]}],\"heatmapgl\":[{\"type\":\"heatmapgl\",\"colorbar\":{\"outlinewidth\":0,\"ticks\":\"\"},\"colorscale\":[[0.0,\"#0d0887\"],[0.1111111111111111,\"#46039f\"],[0.2222222222222222,\"#7201a8\"],[0.3333333333333333,\"#9c179e\"],[0.4444444444444444,\"#bd3786\"],[0.5555555555555556,\"#d8576b\"],[0.6666666666666666,\"#ed7953\"],[0.7777777777777778,\"#fb9f3a\"],[0.8888888888888888,\"#fdca26\"],[1.0,\"#f0f921\"]]}],\"contourcarpet\":[{\"type\":\"contourcarpet\",\"colorbar\":{\"outlinewidth\":0,\"ticks\":\"\"}}],\"contour\":[{\"type\":\"contour\",\"colorbar\":{\"outlinewidth\":0,\"ticks\":\"\"},\"colorscale\":[[0.0,\"#0d0887\"],[0.1111111111111111,\"#46039f\"],[0.2222222222222222,\"#7201a8\"],[0.3333333333333333,\"#9c179e\"],[0.4444444444444444,\"#bd3786\"],[0.5555555555555556,\"#d8576b\"],[0.6666666666666666,\"#ed7953\"],[0.7777777777777778,\"#fb9f3a\"],[0.8888888888888888,\"#fdca26\"],[1.0,\"#f0f921\"]]}],\"surface\":[{\"type\":\"surface\",\"colorbar\":{\"outlinewidth\":0,\"ticks\":\"\"},\"colorscale\":[[0.0,\"#0d0887\"],[0.1111111111111111,\"#46039f\"],[0.2222222222222222,\"#7201a8\"],[0.3333333333333333,\"#9c179e\"],[0.4444444444444444,\"#bd3786\"],[0.5555555555555556,\"#d8576b\"],[0.6666666666666666,\"#ed7953\"],[0.7777777777777778,\"#fb9f3a\"],[0.8888888888888888,\"#fdca26\"],[1.0,\"#f0f921\"]]}],\"mesh3d\":[{\"type\":\"mesh3d\",\"colorbar\":{\"outlinewidth\":0,\"ticks\":\"\"}}],\"scatter\":[{\"fillpattern\":{\"fillmode\":\"overlay\",\"size\":10,\"solidity\":0.2},\"type\":\"scatter\"}],\"parcoords\":[{\"type\":\"parcoords\",\"line\":{\"colorbar\":{\"outlinewidth\":0,\"ticks\":\"\"}}}],\"scatterpolargl\":[{\"type\":\"scatterpolargl\",\"marker\":{\"colorbar\":{\"outlinewidth\":0,\"ticks\":\"\"}}}],\"bar\":[{\"error_x\":{\"color\":\"#2a3f5f\"},\"error_y\":{\"color\":\"#2a3f5f\"},\"marker\":{\"line\":{\"color\":\"#E5ECF6\",\"width\":0.5},\"pattern\":{\"fillmode\":\"overlay\",\"size\":10,\"solidity\":0.2}},\"type\":\"bar\"}],\"scattergeo\":[{\"type\":\"scattergeo\",\"marker\":{\"colorbar\":{\"outlinewidth\":0,\"ticks\":\"\"}}}],\"scatterpolar\":[{\"type\":\"scatterpolar\",\"marker\":{\"colorbar\":{\"outlinewidth\":0,\"ticks\":\"\"}}}],\"histogram\":[{\"marker\":{\"pattern\":{\"fillmode\":\"overlay\",\"size\":10,\"solidity\":0.2}},\"type\":\"histogram\"}],\"scattergl\":[{\"type\":\"scattergl\",\"marker\":{\"colorbar\":{\"outlinewidth\":0,\"ticks\":\"\"}}}],\"scatter3d\":[{\"type\":\"scatter3d\",\"line\":{\"colorbar\":{\"outlinewidth\":0,\"ticks\":\"\"}},\"marker\":{\"colorbar\":{\"outlinewidth\":0,\"ticks\":\"\"}}}],\"scattermapbox\":[{\"type\":\"scattermapbox\",\"marker\":{\"colorbar\":{\"outlinewidth\":0,\"ticks\":\"\"}}}],\"scatterternary\":[{\"type\":\"scatterternary\",\"marker\":{\"colorbar\":{\"outlinewidth\":0,\"ticks\":\"\"}}}],\"scattercarpet\":[{\"type\":\"scattercarpet\",\"marker\":{\"colorbar\":{\"outlinewidth\":0,\"ticks\":\"\"}}}],\"carpet\":[{\"aaxis\":{\"endlinecolor\":\"#2a3f5f\",\"gridcolor\":\"white\",\"linecolor\":\"white\",\"minorgridcolor\":\"white\",\"startlinecolor\":\"#2a3f5f\"},\"baxis\":{\"endlinecolor\":\"#2a3f5f\",\"gridcolor\":\"white\",\"linecolor\":\"white\",\"minorgridcolor\":\"white\",\"startlinecolor\":\"#2a3f5f\"},\"type\":\"carpet\"}],\"table\":[{\"cells\":{\"fill\":{\"color\":\"#EBF0F8\"},\"line\":{\"color\":\"white\"}},\"header\":{\"fill\":{\"color\":\"#C8D4E3\"},\"line\":{\"color\":\"white\"}},\"type\":\"table\"}],\"barpolar\":[{\"marker\":{\"line\":{\"color\":\"#E5ECF6\",\"width\":0.5},\"pattern\":{\"fillmode\":\"overlay\",\"size\":10,\"solidity\":0.2}},\"type\":\"barpolar\"}],\"pie\":[{\"automargin\":true,\"type\":\"pie\"}]},\"layout\":{\"autotypenumbers\":\"strict\",\"colorway\":[\"#636efa\",\"#EF553B\",\"#00cc96\",\"#ab63fa\",\"#FFA15A\",\"#19d3f3\",\"#FF6692\",\"#B6E880\",\"#FF97FF\",\"#FECB52\"],\"font\":{\"color\":\"#2a3f5f\"},\"hovermode\":\"closest\",\"hoverlabel\":{\"align\":\"left\"},\"paper_bgcolor\":\"white\",\"plot_bgcolor\":\"#E5ECF6\",\"polar\":{\"bgcolor\":\"#E5ECF6\",\"angularaxis\":{\"gridcolor\":\"white\",\"linecolor\":\"white\",\"ticks\":\"\"},\"radialaxis\":{\"gridcolor\":\"white\",\"linecolor\":\"white\",\"ticks\":\"\"}},\"ternary\":{\"bgcolor\":\"#E5ECF6\",\"aaxis\":{\"gridcolor\":\"white\",\"linecolor\":\"white\",\"ticks\":\"\"},\"baxis\":{\"gridcolor\":\"white\",\"linecolor\":\"white\",\"ticks\":\"\"},\"caxis\":{\"gridcolor\":\"white\",\"linecolor\":\"white\",\"ticks\":\"\"}},\"coloraxis\":{\"colorbar\":{\"outlinewidth\":0,\"ticks\":\"\"}},\"colorscale\":{\"sequential\":[[0.0,\"#0d0887\"],[0.1111111111111111,\"#46039f\"],[0.2222222222222222,\"#7201a8\"],[0.3333333333333333,\"#9c179e\"],[0.4444444444444444,\"#bd3786\"],[0.5555555555555556,\"#d8576b\"],[0.6666666666666666,\"#ed7953\"],[0.7777777777777778,\"#fb9f3a\"],[0.8888888888888888,\"#fdca26\"],[1.0,\"#f0f921\"]],\"sequentialminus\":[[0.0,\"#0d0887\"],[0.1111111111111111,\"#46039f\"],[0.2222222222222222,\"#7201a8\"],[0.3333333333333333,\"#9c179e\"],[0.4444444444444444,\"#bd3786\"],[0.5555555555555556,\"#d8576b\"],[0.6666666666666666,\"#ed7953\"],[0.7777777777777778,\"#fb9f3a\"],[0.8888888888888888,\"#fdca26\"],[1.0,\"#f0f921\"]],\"diverging\":[[0,\"#8e0152\"],[0.1,\"#c51b7d\"],[0.2,\"#de77ae\"],[0.3,\"#f1b6da\"],[0.4,\"#fde0ef\"],[0.5,\"#f7f7f7\"],[0.6,\"#e6f5d0\"],[0.7,\"#b8e186\"],[0.8,\"#7fbc41\"],[0.9,\"#4d9221\"],[1,\"#276419\"]]},\"xaxis\":{\"gridcolor\":\"white\",\"linecolor\":\"white\",\"ticks\":\"\",\"title\":{\"standoff\":15},\"zerolinecolor\":\"white\",\"automargin\":true,\"zerolinewidth\":2},\"yaxis\":{\"gridcolor\":\"white\",\"linecolor\":\"white\",\"ticks\":\"\",\"title\":{\"standoff\":15},\"zerolinecolor\":\"white\",\"automargin\":true,\"zerolinewidth\":2},\"scene\":{\"xaxis\":{\"backgroundcolor\":\"#E5ECF6\",\"gridcolor\":\"white\",\"linecolor\":\"white\",\"showbackground\":true,\"ticks\":\"\",\"zerolinecolor\":\"white\",\"gridwidth\":2},\"yaxis\":{\"backgroundcolor\":\"#E5ECF6\",\"gridcolor\":\"white\",\"linecolor\":\"white\",\"showbackground\":true,\"ticks\":\"\",\"zerolinecolor\":\"white\",\"gridwidth\":2},\"zaxis\":{\"backgroundcolor\":\"#E5ECF6\",\"gridcolor\":\"white\",\"linecolor\":\"white\",\"showbackground\":true,\"ticks\":\"\",\"zerolinecolor\":\"white\",\"gridwidth\":2}},\"shapedefaults\":{\"line\":{\"color\":\"#2a3f5f\"}},\"annotationdefaults\":{\"arrowcolor\":\"#2a3f5f\",\"arrowhead\":0,\"arrowwidth\":1},\"geo\":{\"bgcolor\":\"white\",\"landcolor\":\"#E5ECF6\",\"subunitcolor\":\"white\",\"showland\":true,\"showlakes\":true,\"lakecolor\":\"white\"},\"title\":{\"x\":0.05},\"mapbox\":{\"style\":\"light\"}}},\"xaxis\":{\"anchor\":\"y\",\"domain\":[0.0,1.0],\"title\":{\"text\":\"Storage (GB)\"}},\"yaxis\":{\"anchor\":\"x\",\"domain\":[0.0,1.0],\"title\":{\"text\":\"Game Names\"}},\"legend\":{\"tracegroupgap\":0,\"itemsizing\":\"constant\"},\"title\":{\"text\":\"Top 10 Games by Storage Requirements (GB)\"}},                        {\"responsive\": true}                    ).then(function(){\n",
       "                            \n",
       "var gd = document.getElementById('66b3754b-8d5d-4521-b07b-158c45affb79');\n",
       "var x = new MutationObserver(function (mutations, observer) {{\n",
       "        var display = window.getComputedStyle(gd).display;\n",
       "        if (!display || display === 'none') {{\n",
       "            console.log([gd, 'removed!']);\n",
       "            Plotly.purge(gd);\n",
       "            observer.disconnect();\n",
       "        }}\n",
       "}});\n",
       "\n",
       "// Listen for the removal of the full notebook cells\n",
       "var notebookContainer = gd.closest('#notebook-container');\n",
       "if (notebookContainer) {{\n",
       "    x.observe(notebookContainer, {childList: true});\n",
       "}}\n",
       "\n",
       "// Listen for the clearing of the current output cell\n",
       "var outputEl = gd.closest('.output');\n",
       "if (outputEl) {{\n",
       "    x.observe(outputEl, {childList: true});\n",
       "}}\n",
       "\n",
       "                        })                };                });            </script>        </div>"
      ]
     },
     "metadata": {},
     "output_type": "display_data"
    }
   ],
   "source": [
    "fig_storage_bubble = px.scatter(top_10_storage_games, \n",
    "                                x='Storage_GB', \n",
    "                                y='Game Names', \n",
    "                                size='Storage_GB', \n",
    "                                color_discrete_sequence=custom_colors[:10],\n",
    "                                title='Top 10 Games by Storage Requirements (GB)',\n",
    "                                labels={'Storage_GB': 'Storage (GB)', 'Game Names': 'Game Names'},\n",
    "                                )\n",
    "fig_storage_bubble.show()"
   ]
  },
  {
   "cell_type": "code",
   "execution_count": null,
   "id": "6c061e4e",
   "metadata": {},
   "outputs": [],
   "source": []
  },
  {
   "cell_type": "code",
   "execution_count": 96,
   "id": "e3668365",
   "metadata": {},
   "outputs": [
    {
     "data": {
      "text/html": [
       "<div>\n",
       "<style scoped>\n",
       "    .dataframe tbody tr th:only-of-type {\n",
       "        vertical-align: middle;\n",
       "    }\n",
       "\n",
       "    .dataframe tbody tr th {\n",
       "        vertical-align: top;\n",
       "    }\n",
       "\n",
       "    .dataframe thead th {\n",
       "        text-align: right;\n",
       "    }\n",
       "</style>\n",
       "<table border=\"1\" class=\"dataframe\">\n",
       "  <thead>\n",
       "    <tr style=\"text-align: right;\">\n",
       "      <th></th>\n",
       "      <th>Unnamed: 0</th>\n",
       "      <th>Game Names</th>\n",
       "      <th>Price</th>\n",
       "      <th>Processor_main</th>\n",
       "      <th>Memory</th>\n",
       "      <th>Graphics</th>\n",
       "      <th>Storage</th>\n",
       "      <th>years</th>\n",
       "      <th>Memory_GB</th>\n",
       "      <th>Storage_GB</th>\n",
       "    </tr>\n",
       "  </thead>\n",
       "  <tbody>\n",
       "    <tr>\n",
       "      <th>0</th>\n",
       "      <td>0</td>\n",
       "      <td>Kingdom Rush Origins  Tower Defense</td>\n",
       "      <td>Your Price:248.95 SR</td>\n",
       "      <td>Dual Core CPU</td>\n",
       "      <td>1 GB RAM</td>\n",
       "      <td>OpenGL 3.0 compliant with 512MB of video RAM.</td>\n",
       "      <td>500 MB</td>\n",
       "      <td>2018</td>\n",
       "      <td>1.000000</td>\n",
       "      <td>0.488281</td>\n",
       "    </tr>\n",
       "    <tr>\n",
       "      <th>1</th>\n",
       "      <td>1</td>\n",
       "      <td>War Thunder  Su39 Pack</td>\n",
       "      <td>No Price</td>\n",
       "      <td>2,2 GHz</td>\n",
       "      <td>1 GB RAM</td>\n",
       "      <td>Nvidia GeForce 6XXX series or higher; AMD Rade...</td>\n",
       "      <td>2 GB</td>\n",
       "      <td>2023</td>\n",
       "      <td>1.000000</td>\n",
       "      <td>2.000000</td>\n",
       "    </tr>\n",
       "    <tr>\n",
       "      <th>2</th>\n",
       "      <td>2</td>\n",
       "      <td>The Battle of Polytopia</td>\n",
       "      <td>79.04 SR</td>\n",
       "      <td>Dual Core 2.0 Ghz</td>\n",
       "      <td>1 GB RAM</td>\n",
       "      <td>128mb Video</td>\n",
       "      <td>160 MB</td>\n",
       "      <td>2020</td>\n",
       "      <td>1.000000</td>\n",
       "      <td>0.156250</td>\n",
       "    </tr>\n",
       "    <tr>\n",
       "      <th>3</th>\n",
       "      <td>3</td>\n",
       "      <td>The Riftbreaker Heart of the Swamp</td>\n",
       "      <td>Your Price:106.00 SR</td>\n",
       "      <td>Intel i5 gen 2 or AMD Bulldozer {4 cores)</td>\n",
       "      <td>8 GB RAM</td>\n",
       "      <td>Nvidia GTX 750 2GB or AMD R7 265 2GB</td>\n",
       "      <td>12 GB</td>\n",
       "      <td>2024</td>\n",
       "      <td>8.000000</td>\n",
       "      <td>12.000000</td>\n",
       "    </tr>\n",
       "    <tr>\n",
       "      <th>4</th>\n",
       "      <td>4</td>\n",
       "      <td>Soulash</td>\n",
       "      <td>Your Price:62.00 SR</td>\n",
       "      <td>2 cores</td>\n",
       "      <td>500 MB RAM</td>\n",
       "      <td>OpenGL</td>\n",
       "      <td>400 MB</td>\n",
       "      <td>2022</td>\n",
       "      <td>0.488281</td>\n",
       "      <td>0.390625</td>\n",
       "    </tr>\n",
       "  </tbody>\n",
       "</table>\n",
       "</div>"
      ],
      "text/plain": [
       "   Unnamed: 0                           Game Names                 Price  \\\n",
       "0           0  Kingdom Rush Origins  Tower Defense  Your Price:248.95 SR   \n",
       "1           1               War Thunder  Su39 Pack              No Price   \n",
       "2           2              The Battle of Polytopia              79.04 SR   \n",
       "3           3   The Riftbreaker Heart of the Swamp  Your Price:106.00 SR   \n",
       "4           4                              Soulash   Your Price:62.00 SR   \n",
       "\n",
       "                              Processor_main      Memory  \\\n",
       "0                              Dual Core CPU    1 GB RAM   \n",
       "1                                    2,2 GHz    1 GB RAM   \n",
       "2                          Dual Core 2.0 Ghz    1 GB RAM   \n",
       "3  Intel i5 gen 2 or AMD Bulldozer {4 cores)    8 GB RAM   \n",
       "4                                    2 cores  500 MB RAM   \n",
       "\n",
       "                                            Graphics Storage  years  \\\n",
       "0      OpenGL 3.0 compliant with 512MB of video RAM.  500 MB   2018   \n",
       "1  Nvidia GeForce 6XXX series or higher; AMD Rade...    2 GB   2023   \n",
       "2                                        128mb Video  160 MB   2020   \n",
       "3               Nvidia GTX 750 2GB or AMD R7 265 2GB   12 GB   2024   \n",
       "4                                             OpenGL  400 MB   2022   \n",
       "\n",
       "   Memory_GB  Storage_GB  \n",
       "0   1.000000    0.488281  \n",
       "1   1.000000    2.000000  \n",
       "2   1.000000    0.156250  \n",
       "3   8.000000   12.000000  \n",
       "4   0.488281    0.390625  "
      ]
     },
     "execution_count": 96,
     "metadata": {},
     "output_type": "execute_result"
    }
   ],
   "source": [
    "df_steam.head()"
   ]
  },
  {
   "cell_type": "code",
   "execution_count": 97,
   "id": "490b3831",
   "metadata": {},
   "outputs": [],
   "source": [
    "df_steam.drop(['Unnamed: 0', 'Memory', 'Storage'], axis=1, inplace=True)"
   ]
  },
  {
   "cell_type": "code",
   "execution_count": 98,
   "id": "0db313c9",
   "metadata": {},
   "outputs": [
    {
     "data": {
      "text/html": [
       "<div>\n",
       "<style scoped>\n",
       "    .dataframe tbody tr th:only-of-type {\n",
       "        vertical-align: middle;\n",
       "    }\n",
       "\n",
       "    .dataframe tbody tr th {\n",
       "        vertical-align: top;\n",
       "    }\n",
       "\n",
       "    .dataframe thead th {\n",
       "        text-align: right;\n",
       "    }\n",
       "</style>\n",
       "<table border=\"1\" class=\"dataframe\">\n",
       "  <thead>\n",
       "    <tr style=\"text-align: right;\">\n",
       "      <th></th>\n",
       "      <th>Game Names</th>\n",
       "      <th>Price</th>\n",
       "      <th>Processor_main</th>\n",
       "      <th>Graphics</th>\n",
       "      <th>years</th>\n",
       "      <th>Memory_GB</th>\n",
       "      <th>Storage_GB</th>\n",
       "    </tr>\n",
       "  </thead>\n",
       "  <tbody>\n",
       "    <tr>\n",
       "      <th>0</th>\n",
       "      <td>Kingdom Rush Origins  Tower Defense</td>\n",
       "      <td>Your Price:248.95 SR</td>\n",
       "      <td>Dual Core CPU</td>\n",
       "      <td>OpenGL 3.0 compliant with 512MB of video RAM.</td>\n",
       "      <td>2018</td>\n",
       "      <td>1.000000</td>\n",
       "      <td>0.488281</td>\n",
       "    </tr>\n",
       "    <tr>\n",
       "      <th>1</th>\n",
       "      <td>War Thunder  Su39 Pack</td>\n",
       "      <td>No Price</td>\n",
       "      <td>2,2 GHz</td>\n",
       "      <td>Nvidia GeForce 6XXX series or higher; AMD Rade...</td>\n",
       "      <td>2023</td>\n",
       "      <td>1.000000</td>\n",
       "      <td>2.000000</td>\n",
       "    </tr>\n",
       "    <tr>\n",
       "      <th>2</th>\n",
       "      <td>The Battle of Polytopia</td>\n",
       "      <td>79.04 SR</td>\n",
       "      <td>Dual Core 2.0 Ghz</td>\n",
       "      <td>128mb Video</td>\n",
       "      <td>2020</td>\n",
       "      <td>1.000000</td>\n",
       "      <td>0.156250</td>\n",
       "    </tr>\n",
       "    <tr>\n",
       "      <th>3</th>\n",
       "      <td>The Riftbreaker Heart of the Swamp</td>\n",
       "      <td>Your Price:106.00 SR</td>\n",
       "      <td>Intel i5 gen 2 or AMD Bulldozer {4 cores)</td>\n",
       "      <td>Nvidia GTX 750 2GB or AMD R7 265 2GB</td>\n",
       "      <td>2024</td>\n",
       "      <td>8.000000</td>\n",
       "      <td>12.000000</td>\n",
       "    </tr>\n",
       "    <tr>\n",
       "      <th>4</th>\n",
       "      <td>Soulash</td>\n",
       "      <td>Your Price:62.00 SR</td>\n",
       "      <td>2 cores</td>\n",
       "      <td>OpenGL</td>\n",
       "      <td>2022</td>\n",
       "      <td>0.488281</td>\n",
       "      <td>0.390625</td>\n",
       "    </tr>\n",
       "  </tbody>\n",
       "</table>\n",
       "</div>"
      ],
      "text/plain": [
       "                            Game Names                 Price  \\\n",
       "0  Kingdom Rush Origins  Tower Defense  Your Price:248.95 SR   \n",
       "1               War Thunder  Su39 Pack              No Price   \n",
       "2              The Battle of Polytopia              79.04 SR   \n",
       "3   The Riftbreaker Heart of the Swamp  Your Price:106.00 SR   \n",
       "4                              Soulash   Your Price:62.00 SR   \n",
       "\n",
       "                              Processor_main  \\\n",
       "0                              Dual Core CPU   \n",
       "1                                    2,2 GHz   \n",
       "2                          Dual Core 2.0 Ghz   \n",
       "3  Intel i5 gen 2 or AMD Bulldozer {4 cores)   \n",
       "4                                    2 cores   \n",
       "\n",
       "                                            Graphics  years  Memory_GB  \\\n",
       "0      OpenGL 3.0 compliant with 512MB of video RAM.   2018   1.000000   \n",
       "1  Nvidia GeForce 6XXX series or higher; AMD Rade...   2023   1.000000   \n",
       "2                                        128mb Video   2020   1.000000   \n",
       "3               Nvidia GTX 750 2GB or AMD R7 265 2GB   2024   8.000000   \n",
       "4                                             OpenGL   2022   0.488281   \n",
       "\n",
       "   Storage_GB  \n",
       "0    0.488281  \n",
       "1    2.000000  \n",
       "2    0.156250  \n",
       "3   12.000000  \n",
       "4    0.390625  "
      ]
     },
     "execution_count": 98,
     "metadata": {},
     "output_type": "execute_result"
    }
   ],
   "source": [
    "df_steam.head()"
   ]
  },
  {
   "cell_type": "code",
   "execution_count": 99,
   "id": "75c5748c",
   "metadata": {},
   "outputs": [
    {
     "data": {
      "text/plain": [
       "(7835, 7)"
      ]
     },
     "execution_count": 99,
     "metadata": {},
     "output_type": "execute_result"
    }
   ],
   "source": [
    "df_steam.shape"
   ]
  },
  {
   "cell_type": "code",
   "execution_count": 100,
   "id": "929c9571",
   "metadata": {},
   "outputs": [],
   "source": [
    "df_steam.to_csv('steam_dataset_final.csv')"
   ]
  },
  {
   "cell_type": "code",
   "execution_count": null,
   "id": "1ddcaa03",
   "metadata": {},
   "outputs": [],
   "source": []
  }
 ],
 "metadata": {
  "kernelspec": {
   "display_name": "Python 3 (ipykernel)",
   "language": "python",
   "name": "python3"
  },
  "language_info": {
   "codemirror_mode": {
    "name": "ipython",
    "version": 3
   },
   "file_extension": ".py",
   "mimetype": "text/x-python",
   "name": "python",
   "nbconvert_exporter": "python",
   "pygments_lexer": "ipython3",
   "version": "3.11.5"
  }
 },
 "nbformat": 4,
 "nbformat_minor": 5
}
